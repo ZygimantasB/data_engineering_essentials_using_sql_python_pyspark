{
 "cells": [
  {
   "metadata": {},
   "cell_type": "markdown",
   "source": "# 213. Pre-requisite Skills to Sign up for course on GCP Data Analytics",
   "id": "b0c33a923689cc57"
  },
  {
   "metadata": {},
   "cell_type": "markdown",
   "source": "# 214. Overview of Cloud Platforms",
   "id": "a729199b047d04ff"
  },
  {
   "metadata": {},
   "cell_type": "markdown",
   "source": "# 215. Overview of Google Cloud Platform or GCP",
   "id": "2b50324bd3f87f5c"
  },
  {
   "cell_type": "code",
   "execution_count": null,
   "id": "initial_id",
   "metadata": {
    "collapsed": true
   },
   "outputs": [],
   "source": ""
  }
 ],
 "metadata": {
  "kernelspec": {
   "display_name": "Python 3",
   "language": "python",
   "name": "python3"
  },
  "language_info": {
   "codemirror_mode": {
    "name": "ipython",
    "version": 2
   },
   "file_extension": ".py",
   "mimetype": "text/x-python",
   "name": "python",
   "nbconvert_exporter": "python",
   "pygments_lexer": "ipython2",
   "version": "2.7.6"
  }
 },
 "nbformat": 4,
 "nbformat_minor": 5
}
