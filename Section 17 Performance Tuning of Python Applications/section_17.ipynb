{
 "cells": [
  {
   "metadata": {},
   "cell_type": "markdown",
   "source": "# 195. Setup Database Loader Python Application",
   "id": "d2c04eed65230ee2"
  },
  {
   "metadata": {},
   "cell_type": "markdown",
   "source": "# 196. Ensure Postgres Database is setup for file to db loader Python Application",
   "id": "8d5a37cf36ce7726"
  },
  {
   "metadata": {},
   "cell_type": "markdown",
   "source": "# 197. Cleanup the tables to run file to db loader application",
   "id": "bb6df77a39d3557a"
  },
  {
   "cell_type": "code",
   "execution_count": null,
   "id": "initial_id",
   "metadata": {
    "collapsed": true
   },
   "outputs": [],
   "source": [
    ""
   ]
  }
 ],
 "metadata": {
  "kernelspec": {
   "display_name": "Python 3",
   "language": "python",
   "name": "python3"
  },
  "language_info": {
   "codemirror_mode": {
    "name": "ipython",
    "version": 2
   },
   "file_extension": ".py",
   "mimetype": "text/x-python",
   "name": "python",
   "nbconvert_exporter": "python",
   "pygments_lexer": "ipython2",
   "version": "2.7.6"
  }
 },
 "nbformat": 4,
 "nbformat_minor": 5
}
