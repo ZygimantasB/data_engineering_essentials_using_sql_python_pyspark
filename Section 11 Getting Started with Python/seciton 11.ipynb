{
 "cells": [
  {
   "metadata": {},
   "cell_type": "markdown",
   "source": "# 106. Overview of Cells in VS Code Notebook",
   "id": "5a08bef3c486b1d7"
  },
  {
   "metadata": {},
   "cell_type": "markdown",
   "source": "# 107. Defining Functions in VS Code Notebooks",
   "id": "eb79da81a51c1832"
  },
  {
   "metadata": {},
   "cell_type": "markdown",
   "source": "# 108. Run the Code in VS Code Notebook Cell by Line",
   "id": "ab0c97a1d1ccf5da"
  },
  {
   "metadata": {},
   "cell_type": "markdown",
   "source": "# 109. Constants and Variables in Python",
   "id": "cdcbcd45807928b6"
  },
  {
   "metadata": {},
   "cell_type": "markdown",
   "source": "# 110. Overview of Python Data Types",
   "id": "e323e13e11ce857"
  },
  {
   "metadata": {},
   "cell_type": "markdown",
   "source": "# 111. Getting help on Python Variables and Functions",
   "id": "e491d2bcdf76231"
  },
  {
   "metadata": {},
   "cell_type": "markdown",
   "source": "# 112. Pre-Defined String Manipulation Functions",
   "id": "f686050571cc087"
  },
  {
   "metadata": {},
   "cell_type": "markdown",
   "source": "# 113. Overview of Python Lists",
   "id": "3c7a70c7bdb31567"
  },
  {
   "metadata": {},
   "cell_type": "markdown",
   "source": "# 114. Loops and Conditions in Python",
   "id": "368fb985afd8194"
  },
  {
   "metadata": {},
   "cell_type": "markdown",
   "source": "# 114. Loops and Conditions in Python",
   "id": "1c99c5907c26c8e7"
  },
  {
   "metadata": {},
   "cell_type": "markdown",
   "source": "# 115. User Defined Functions in Python",
   "id": "769293d709585298"
  },
  {
   "cell_type": "code",
   "id": "initial_id",
   "metadata": {
    "collapsed": true,
    "ExecuteTime": {
     "end_time": "2025-02-14T18:15:36.184583Z",
     "start_time": "2025-02-14T18:15:36.180074Z"
    }
   },
   "source": "",
   "outputs": [],
   "execution_count": 3
  }
 ],
 "metadata": {
  "kernelspec": {
   "display_name": "Python 3",
   "language": "python",
   "name": "python3"
  },
  "language_info": {
   "codemirror_mode": {
    "name": "ipython",
    "version": 2
   },
   "file_extension": ".py",
   "mimetype": "text/x-python",
   "name": "python",
   "nbconvert_exporter": "python",
   "pygments_lexer": "ipython2",
   "version": "2.7.6"
  }
 },
 "nbformat": 4,
 "nbformat_minor": 5
}
