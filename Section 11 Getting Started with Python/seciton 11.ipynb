{
 "cells": [
  {
   "metadata": {},
   "cell_type": "markdown",
   "source": "# 106. Overview of Cells in VS Code Notebook",
   "id": "5a08bef3c486b1d7"
  },
  {
   "metadata": {},
   "cell_type": "markdown",
   "source": "# 107. Defining Functions in VS Code Notebooks",
   "id": "eb79da81a51c1832"
  },
  {
   "metadata": {},
   "cell_type": "markdown",
   "source": "# 108. Run the Code in VS Code Notebook Cell by Line",
   "id": "ab0c97a1d1ccf5da"
  },
  {
   "metadata": {},
   "cell_type": "markdown",
   "source": "# 109. Constants and Variables in Python",
   "id": "cdcbcd45807928b6"
  },
  {
   "cell_type": "code",
   "execution_count": null,
   "id": "initial_id",
   "metadata": {
    "collapsed": true
   },
   "outputs": [],
   "source": ""
  }
 ],
 "metadata": {
  "kernelspec": {
   "display_name": "Python 3",
   "language": "python",
   "name": "python3"
  },
  "language_info": {
   "codemirror_mode": {
    "name": "ipython",
    "version": 2
   },
   "file_extension": ".py",
   "mimetype": "text/x-python",
   "name": "python",
   "nbconvert_exporter": "python",
   "pygments_lexer": "ipython2",
   "version": "2.7.6"
  }
 },
 "nbformat": 4,
 "nbformat_minor": 5
}
