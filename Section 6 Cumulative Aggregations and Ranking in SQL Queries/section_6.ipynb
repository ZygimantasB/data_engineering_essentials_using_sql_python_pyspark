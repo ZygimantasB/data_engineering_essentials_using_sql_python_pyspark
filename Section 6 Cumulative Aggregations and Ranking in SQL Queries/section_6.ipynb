{
 "cells": [
  {
   "metadata": {},
   "cell_type": "markdown",
   "source": "# 51. Introduction to Cumulative Aggregations and Ranking in SQL Queries",
   "id": "ae1324468d9337cf"
  },
  {
   "metadata": {},
   "cell_type": "markdown",
   "source": "# 52. Overview of CTAS to create tables based on Query Results",
   "id": "9efbcd8185b6929"
  },
  {
   "metadata": {
    "SqlCellData": {
     "data_source_name": "itversity_retail_db@localhost",
     "variableName$1": "df_sql"
    },
    "ExecuteTime": {
     "end_time": "2025-02-03T16:25:04.743748Z",
     "start_time": "2025-02-03T16:24:58.361341900Z"
    }
   },
   "cell_type": "code",
   "source": [
    "%%sql\n",
    "CREATE TABLE order_count_by_status\n",
    "AS\n",
    "SELECT orders.order_status, count(*) AS order_count\n",
    "FROM orders\n",
    "GROUP BY 1;\n",
    "\n",
    "SELECT * FROM order_count_by_status;\n",
    "\n",
    "CREATE TABLE orders_stg\n",
    "AS\n",
    "SELECT * FROM orders WHERE 1=2;\n",
    "\n",
    "-- SELECT o.order_date,\n",
    "--     round(sum(oi.order_item_subtotal)::numeric, 2) AS order_revenue\n",
    "-- FROM orders AS o\n",
    "--     JOIN order_items AS oi\n",
    "--         ON o.order_id = oi.order_item_order_id\n",
    "-- WHERE o.order_status IN ('COMPLETE', 'CLOSED')\n",
    "-- GROUP BY 1"
   ],
   "id": "ba892003af60415b",
   "outputs": [
    {
     "data": {
      "text/plain": [
       "      order_status  order_count\n",
       "0         COMPLETE        22899\n",
       "1          ON_HOLD         3798\n",
       "2  PENDING_PAYMENT        15030\n",
       "3          PENDING         7610\n",
       "4           CLOSED         7556\n",
       "5         CANCELED         1428\n",
       "6       PROCESSING         8275\n",
       "7   PAYMENT_REVIEW          729\n",
       "8  SUSPECTED_FRAUD         1558"
      ],
      "text/html": [
       "<div>\n",
       "<style scoped>\n",
       "    .dataframe tbody tr th:only-of-type {\n",
       "        vertical-align: middle;\n",
       "    }\n",
       "\n",
       "    .dataframe tbody tr th {\n",
       "        vertical-align: top;\n",
       "    }\n",
       "\n",
       "    .dataframe thead th {\n",
       "        text-align: right;\n",
       "    }\n",
       "</style>\n",
       "<table border=\"1\" class=\"dataframe\">\n",
       "  <thead>\n",
       "    <tr style=\"text-align: right;\">\n",
       "      <th></th>\n",
       "      <th>order_status</th>\n",
       "      <th>order_count</th>\n",
       "    </tr>\n",
       "  </thead>\n",
       "  <tbody>\n",
       "    <tr>\n",
       "      <th>0</th>\n",
       "      <td>COMPLETE</td>\n",
       "      <td>22899</td>\n",
       "    </tr>\n",
       "    <tr>\n",
       "      <th>1</th>\n",
       "      <td>ON_HOLD</td>\n",
       "      <td>3798</td>\n",
       "    </tr>\n",
       "    <tr>\n",
       "      <th>2</th>\n",
       "      <td>PENDING_PAYMENT</td>\n",
       "      <td>15030</td>\n",
       "    </tr>\n",
       "    <tr>\n",
       "      <th>3</th>\n",
       "      <td>PENDING</td>\n",
       "      <td>7610</td>\n",
       "    </tr>\n",
       "    <tr>\n",
       "      <th>4</th>\n",
       "      <td>CLOSED</td>\n",
       "      <td>7556</td>\n",
       "    </tr>\n",
       "    <tr>\n",
       "      <th>5</th>\n",
       "      <td>CANCELED</td>\n",
       "      <td>1428</td>\n",
       "    </tr>\n",
       "    <tr>\n",
       "      <th>6</th>\n",
       "      <td>PROCESSING</td>\n",
       "      <td>8275</td>\n",
       "    </tr>\n",
       "    <tr>\n",
       "      <th>7</th>\n",
       "      <td>PAYMENT_REVIEW</td>\n",
       "      <td>729</td>\n",
       "    </tr>\n",
       "    <tr>\n",
       "      <th>8</th>\n",
       "      <td>SUSPECTED_FRAUD</td>\n",
       "      <td>1558</td>\n",
       "    </tr>\n",
       "  </tbody>\n",
       "</table>\n",
       "</div>"
      ]
     },
     "execution_count": 1,
     "metadata": {},
     "output_type": "execute_result"
    }
   ],
   "execution_count": 1
  },
  {
   "metadata": {
    "SqlCellData": {
     "data_source_name": "itversity_retail_db@localhost",
     "variableName$1": "df_sql2"
    },
    "ExecuteTime": {
     "end_time": "2025-02-03T16:25:41.319347Z",
     "start_time": "2025-02-03T16:25:41.242734100Z"
    }
   },
   "cell_type": "code",
   "source": [
    "%%sql\n",
    "SELECT * FROM orders_stg;"
   ],
   "id": "2bb61e0e3062b663",
   "outputs": [
    {
     "data": {
      "text/plain": [
       "Empty DataFrame\n",
       "Columns: [order_id, order_date, order_customer_id, order_status]\n",
       "Index: []"
      ],
      "text/html": [
       "<div>\n",
       "<style scoped>\n",
       "    .dataframe tbody tr th:only-of-type {\n",
       "        vertical-align: middle;\n",
       "    }\n",
       "\n",
       "    .dataframe tbody tr th {\n",
       "        vertical-align: top;\n",
       "    }\n",
       "\n",
       "    .dataframe thead th {\n",
       "        text-align: right;\n",
       "    }\n",
       "</style>\n",
       "<table border=\"1\" class=\"dataframe\">\n",
       "  <thead>\n",
       "    <tr style=\"text-align: right;\">\n",
       "      <th></th>\n",
       "      <th>order_id</th>\n",
       "      <th>order_date</th>\n",
       "      <th>order_customer_id</th>\n",
       "      <th>order_status</th>\n",
       "    </tr>\n",
       "  </thead>\n",
       "  <tbody>\n",
       "  </tbody>\n",
       "</table>\n",
       "</div>"
      ]
     },
     "execution_count": 2,
     "metadata": {},
     "output_type": "execute_result"
    }
   ],
   "execution_count": 2
  },
  {
   "metadata": {
    "SqlCellData": {
     "data_source_name": "itversity_retail_db@localhost",
     "variableName$1": "df_sql5"
    },
    "ExecuteTime": {
     "end_time": "2025-02-03T16:26:23.857949Z",
     "start_time": "2025-02-03T16:26:23.807115400Z"
    }
   },
   "cell_type": "code",
   "source": [
    "%%sql\n",
    "SELECT * FROM order_count_by_status;"
   ],
   "id": "14874872ea41a409",
   "outputs": [
    {
     "data": {
      "text/plain": [
       "      order_status  order_count\n",
       "0         COMPLETE        22899\n",
       "1          ON_HOLD         3798\n",
       "2  PENDING_PAYMENT        15030\n",
       "3          PENDING         7610\n",
       "4           CLOSED         7556\n",
       "5         CANCELED         1428\n",
       "6       PROCESSING         8275\n",
       "7   PAYMENT_REVIEW          729\n",
       "8  SUSPECTED_FRAUD         1558"
      ],
      "text/html": [
       "<div>\n",
       "<style scoped>\n",
       "    .dataframe tbody tr th:only-of-type {\n",
       "        vertical-align: middle;\n",
       "    }\n",
       "\n",
       "    .dataframe tbody tr th {\n",
       "        vertical-align: top;\n",
       "    }\n",
       "\n",
       "    .dataframe thead th {\n",
       "        text-align: right;\n",
       "    }\n",
       "</style>\n",
       "<table border=\"1\" class=\"dataframe\">\n",
       "  <thead>\n",
       "    <tr style=\"text-align: right;\">\n",
       "      <th></th>\n",
       "      <th>order_status</th>\n",
       "      <th>order_count</th>\n",
       "    </tr>\n",
       "  </thead>\n",
       "  <tbody>\n",
       "    <tr>\n",
       "      <th>0</th>\n",
       "      <td>COMPLETE</td>\n",
       "      <td>22899</td>\n",
       "    </tr>\n",
       "    <tr>\n",
       "      <th>1</th>\n",
       "      <td>ON_HOLD</td>\n",
       "      <td>3798</td>\n",
       "    </tr>\n",
       "    <tr>\n",
       "      <th>2</th>\n",
       "      <td>PENDING_PAYMENT</td>\n",
       "      <td>15030</td>\n",
       "    </tr>\n",
       "    <tr>\n",
       "      <th>3</th>\n",
       "      <td>PENDING</td>\n",
       "      <td>7610</td>\n",
       "    </tr>\n",
       "    <tr>\n",
       "      <th>4</th>\n",
       "      <td>CLOSED</td>\n",
       "      <td>7556</td>\n",
       "    </tr>\n",
       "    <tr>\n",
       "      <th>5</th>\n",
       "      <td>CANCELED</td>\n",
       "      <td>1428</td>\n",
       "    </tr>\n",
       "    <tr>\n",
       "      <th>6</th>\n",
       "      <td>PROCESSING</td>\n",
       "      <td>8275</td>\n",
       "    </tr>\n",
       "    <tr>\n",
       "      <th>7</th>\n",
       "      <td>PAYMENT_REVIEW</td>\n",
       "      <td>729</td>\n",
       "    </tr>\n",
       "    <tr>\n",
       "      <th>8</th>\n",
       "      <td>SUSPECTED_FRAUD</td>\n",
       "      <td>1558</td>\n",
       "    </tr>\n",
       "  </tbody>\n",
       "</table>\n",
       "</div>"
      ]
     },
     "execution_count": 3,
     "metadata": {},
     "output_type": "execute_result"
    }
   ],
   "execution_count": 3
  },
  {
   "metadata": {},
   "cell_type": "markdown",
   "source": "# 53. Create Tables for Cumulative Aggregations and Ranking",
   "id": "50d1088c3bb4949d"
  },
  {
   "cell_type": "code",
   "execution_count": null,
   "id": "initial_id",
   "metadata": {
    "collapsed": true
   },
   "outputs": [],
   "source": ""
  }
 ],
 "metadata": {
  "kernelspec": {
   "display_name": "Python 3",
   "language": "python",
   "name": "python3"
  },
  "language_info": {
   "codemirror_mode": {
    "name": "ipython",
    "version": 2
   },
   "file_extension": ".py",
   "mimetype": "text/x-python",
   "name": "python",
   "nbconvert_exporter": "python",
   "pygments_lexer": "ipython2",
   "version": "2.7.6"
  }
 },
 "nbformat": 4,
 "nbformat_minor": 5
}
