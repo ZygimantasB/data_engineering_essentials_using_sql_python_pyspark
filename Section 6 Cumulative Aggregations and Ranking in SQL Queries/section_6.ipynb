{
 "cells": [
  {
   "metadata": {},
   "cell_type": "markdown",
   "source": "# 51. Introduction to Cumulative Aggregations and Ranking in SQL Queries",
   "id": "ae1324468d9337cf"
  },
  {
   "metadata": {},
   "cell_type": "markdown",
   "source": "# 52. Overview of CTAS to create tables based on Query Results",
   "id": "9efbcd8185b6929"
  },
  {
   "metadata": {
    "SqlCellData": {
     "data_source_name": "itversity_retail_db@localhost",
     "variableName$1": "df_sql"
    }
   },
   "cell_type": "code",
   "source": [
    "%%sql\n",
    "CREATE TABLE order_count_by_status\n",
    "AS\n",
    "SELECT orders.order_status, count(*) AS order_count\n",
    "FROM orders\n",
    "GROUP BY 1;\n",
    "\n",
    "SELECT * FROM order_count_by_status;\n",
    "\n",
    "CREATE TABLE orders_stg\n",
    "AS\n",
    "SELECT * FROM orders WHERE 1=2;\n",
    "\n",
    "-- SELECT o.order_date,\n",
    "--     round(sum(oi.order_item_subtotal)::numeric, 2) AS order_revenue\n",
    "-- FROM orders AS o\n",
    "--     JOIN order_items AS oi\n",
    "--         ON o.order_id = oi.order_item_order_id\n",
    "-- WHERE o.order_status IN ('COMPLETE', 'CLOSED')\n",
    "-- GROUP BY 1"
   ],
   "id": "ba892003af60415b",
   "outputs": [],
   "execution_count": null
  },
  {
   "metadata": {
    "SqlCellData": {
     "data_source_name": "itversity_retail_db@localhost",
     "variableName$1": "df_sql2"
    }
   },
   "cell_type": "code",
   "source": [
    "%%sql\n",
    "SELECT * FROM orders_stg;"
   ],
   "id": "2bb61e0e3062b663",
   "outputs": [],
   "execution_count": null
  },
  {
   "metadata": {
    "SqlCellData": {
     "data_source_name": "itversity_retail_db@localhost",
     "variableName$1": "df_sql5"
    }
   },
   "cell_type": "code",
   "source": [
    "%%sql\n",
    "SELECT * FROM order_count_by_status;"
   ],
   "id": "14874872ea41a409",
   "outputs": [],
   "execution_count": null
  },
  {
   "metadata": {},
   "cell_type": "markdown",
   "source": "# 53. Create Tables for Cumulative Aggregations and Ranking",
   "id": "50d1088c3bb4949d"
  },
  {
   "metadata": {
    "SqlCellData": {
     "data_source_name": "itversity_retail_db@localhost",
     "variableName$1": "df_sql7"
    }
   },
   "cell_type": "code",
   "source": [
    "%%sql\n",
    "CREATE TABLE daily_revenue\n",
    "AS\n",
    "SELECT o.order_date,\n",
    "       ROUND(SUM(oi.order_item_subtotal)::NUMERIC, 2) AS order_revenue\n",
    "FROM orders AS o\n",
    "JOIN order_items AS oi\n",
    "    ON o.order_id = oi.order_item_order_id\n",
    "WHERE o.order_status IN ('COMPLETE', 'CLOSED')\n",
    "GROUP BY o.order_date;"
   ],
   "id": "c6045541cd5941a0",
   "outputs": [],
   "execution_count": null
  },
  {
   "metadata": {
    "SqlCellData": {
     "data_source_name": "itversity_retail_db@localhost",
     "variableName$1": "df_sql8"
    }
   },
   "cell_type": "code",
   "source": [
    "%%sql\n",
    "SELECT * FROM daily_revenue\n",
    "ORDER BY order_date;"
   ],
   "id": "868e3610e9bbfd8c",
   "outputs": [],
   "execution_count": null
  },
  {
   "metadata": {
    "SqlCellData": {
     "data_source_name": "itversity_retail_db@localhost",
     "variableName$1": "df_sql10"
    }
   },
   "cell_type": "code",
   "source": [
    "%%sql\n",
    "CREATE TABLE daily_product_revenue\n",
    "AS\n",
    "SELECT o.order_date,\n",
    "    oi.order_item_product_id,\n",
    "    round(sum(oi.order_item_subtotal)::numeric, 2) AS order_revenue\n",
    "FROM orders AS o\n",
    "    JOIN order_items AS oi\n",
    "        ON o.order_id = oi.order_item_order_id\n",
    "WHERE o.order_status IN ('COMPLETE', 'CLOSED')\n",
    "GROUP BY 1, 2;"
   ],
   "id": "19db1471256bc789",
   "outputs": [],
   "execution_count": null
  },
  {
   "metadata": {
    "SqlCellData": {
     "data_source_name": "itversity_retail_db@localhost",
     "variableName$1": "df_sql11"
    }
   },
   "cell_type": "code",
   "source": [
    "%%sql\n",
    "SELECT * FROM daily_product_revenue\n",
    "ORDER BY 1, 3 DESC;"
   ],
   "id": "fa53926e33ed9109",
   "outputs": [],
   "execution_count": null
  },
  {
   "metadata": {},
   "cell_type": "markdown",
   "source": "# 54. Overview of OVER and PARTITION BY Clause in SQL Queries",
   "id": "d9fa08c16150edc6"
  },
  {
   "metadata": {
    "SqlCellData": {
     "data_source_name": "itversity_retail_db@localhost",
     "variableName$1": "df_sql12"
    }
   },
   "cell_type": "code",
   "source": [
    "%%sql\n",
    "-- SELECT * FROM daily_revenue\n",
    "-- ORDER BY 1;\n",
    "\n",
    "SELECT to_char(dr.order_date::timestamp, 'yyyy-MM') AS order_month,\n",
    "    sum(order_revenue) AS order_revenue\n",
    "FROM daily_revenue AS dr\n",
    "GROUP BY 1\n",
    "ORDER BY 1;"
   ],
   "id": "61932ed94d14ba9b",
   "outputs": [],
   "execution_count": null
  },
  {
   "metadata": {
    "SqlCellData": {
     "data_source_name": "itversity_retail_db@localhost",
     "variableName$1": "df_sql13"
    }
   },
   "cell_type": "code",
   "source": [
    "%%sql\n",
    "SELECT to_char(dr.order_date::timestamp, 'yyyy-MM') AS order_month,\n",
    "    dr.order_date,\n",
    "    dr.order_revenue,\n",
    "    sum(order_revenue) OVER (\n",
    "        PARTITION BY to_char(dr.order_date::timestamp, 'yyyy-MM')) AS monthly_order_revenue\n",
    "FROM daily_revenue AS dr\n",
    "ORDER BY 1;"
   ],
   "id": "321b0bde1312689a",
   "outputs": [],
   "execution_count": null
  },
  {
   "metadata": {},
   "cell_type": "markdown",
   "source": "# 55. Compute Total Aggregation using OVER and PARTITION BY in SQL Queries",
   "id": "3677ff63001cbec4"
  },
  {
   "metadata": {
    "SqlCellData": {
     "data_source_name": "itversity_retail_db@localhost",
     "variableName$1": "df_sql14"
    }
   },
   "cell_type": "code",
   "source": [
    "%%sql\n",
    "SELECT dr.*,\n",
    "       sum(order_revenue) OVER (PARTITION BY 1) as total_revenue\n",
    "FROM daily_revenue AS dr\n",
    "ORDER BY 1;"
   ],
   "id": "33942cb7483fd349",
   "outputs": [],
   "execution_count": null
  },
  {
   "metadata": {},
   "cell_type": "markdown",
   "source": [
    "# 56. Overview of Ranking in SQL\n",
    "# 57. Compute Global Ranks using SQL"
   ],
   "id": "f654545b31cc691"
  },
  {
   "metadata": {
    "SqlCellData": {
     "data_source_name": "itversity_retail_db@localhost",
     "variableName$1": "df_sql16"
    }
   },
   "cell_type": "code",
   "source": [
    "%%sql\n",
    "-- SELECT count(*) FROM daily_product_revenue;\n",
    "\n",
    "SELECT * FROM daily_product_revenue\n",
    "ORDER BY order_date, order_revenue DESC;"
   ],
   "id": "3f687c86410d8def",
   "outputs": [],
   "execution_count": null
  },
  {
   "metadata": {
    "SqlCellData": {
     "data_source_name": "itversity_retail_db@localhost",
     "variableName$1": "df_sql17"
    }
   },
   "cell_type": "code",
   "source": [
    "%%sql\n",
    "SELECT order_date,\n",
    "        order_item_product_id,\n",
    "        order_revenue,\n",
    "        rank() OVER (ORDER BY order_revenue) AS rnk,\n",
    "        dense_rank() OVER (ORDER BY order_revenue DESC) AS drnk\n",
    "FROM daily_product_revenue\n",
    "WHERE order_date = '2014-01-01 00:00:00.0'\n",
    "ORDER BY order_revenue DESC;"
   ],
   "id": "a09738243b5fc56c",
   "outputs": [],
   "execution_count": null
  },
  {
   "metadata": {},
   "cell_type": "markdown",
   "source": "# 58. Compute Ranks based on key using SQL",
   "id": "64c2287fd8c0efd9"
  },
  {
   "metadata": {
    "SqlCellData": {
     "data_source_name": "itversity_retail_db@localhost",
     "variableName$1": "df_sql18"
    }
   },
   "cell_type": "code",
   "source": [
    "%%sql\n",
    "SELECT order_date,\n",
    "        order_item_product_id,\n",
    "        order_revenue,\n",
    "        rank() OVER (\n",
    "            PARTITION BY order_date\n",
    "            ORDER BY order_revenue DESC) AS rnk,\n",
    "        dense_rank() OVER (\n",
    "            PARTITION BY order_revenue\n",
    "            ORDER BY order_revenue DESC) AS drnk\n",
    "FROM daily_product_revenue\n",
    "WHERE to_char(order_date, 'yyyy-MM') = '2014-01'\n",
    "ORDER BY order_revenue DESC;"
   ],
   "id": "c12f3cc2a9d2139f",
   "outputs": [],
   "execution_count": null
  },
  {
   "metadata": {},
   "cell_type": "markdown",
   "source": [
    "# 59. Rules and Restrictions to Filter Data based on Ranks in SQL\n",
    "# 60. Filtering based on Global Ranks using Nested Queries and CTEs in SQL"
   ],
   "id": "6294d26e427be157"
  },
  {
   "metadata": {
    "SqlCellData": {
     "data_source_name": "itversity_retail_db@localhost",
     "variableName$1": "df_sql19"
    }
   },
   "cell_type": "code",
   "source": [
    "%%sql\n",
    "SELECT * FROM (\n",
    "SELECT order_date,\n",
    "        order_item_product_id,\n",
    "        order_revenue,\n",
    "        rank() OVER (ORDER BY order_revenue) AS rnk,\n",
    "        dense_rank() OVER (ORDER BY order_revenue DESC) AS drnk\n",
    "FROM daily_product_revenue\n",
    "WHERE order_date = '2014-01-01 00:00:00.0'\n",
    "ORDER BY order_revenue DESC\n",
    ") AS q\n",
    "WHERE drnk <= 5\n",
    "ORDER BY order_revenue DESC\n",
    ";"
   ],
   "id": "404d212a314b9f38",
   "outputs": [],
   "execution_count": null
  },
  {
   "metadata": {
    "SqlCellData": {
     "data_source_name": "itversity_retail_db@localhost",
     "variableName$1": "df_sql20"
    }
   },
   "cell_type": "code",
   "source": [
    "%%sql\n",
    "WITH daily_product_revenue_ranks AS(\n",
    "    SELECT order_date,\n",
    "        order_item_product_id,\n",
    "        order_revenue,\n",
    "        rank() OVER (ORDER BY order_revenue DESC) AS rnk,\n",
    "        dense_rank() OVER (ORDER BY order_revenue DESC) AS drnk\n",
    "FROM daily_product_revenue\n",
    "WHERE order_date = '2014-01-01 00:00:00.0'\n",
    "ORDER BY order_revenue DESC\n",
    ") SELECT * FROM daily_product_revenue_ranks\n",
    "WHERE drnk <= 5\n",
    "ORDER BY order_revenue DESC;"
   ],
   "id": "c502b257f33e1e9f",
   "outputs": [],
   "execution_count": null
  },
  {
   "metadata": {},
   "cell_type": "markdown",
   "source": "# 61. Filtering based on Ranks per Partition using Nested Queries and CTEs in SQL",
   "id": "65c185a78cef97f"
  },
  {
   "metadata": {
    "SqlCellData": {
     "data_source_name": "itversity_retail_db@localhost",
     "variableName$1": "df_sql21"
    }
   },
   "cell_type": "code",
   "source": [
    "%%sql\n",
    "SELECT * FROM (\n",
    "SELECT order_date,\n",
    "    order_item_product_id,\n",
    "    order_revenue,\n",
    "    rank() OVER (\n",
    "        PARTITION BY order_date\n",
    "        ORDER BY order_revenue DESC\n",
    "    ) AS rnk,\n",
    "    dense_rank() OVER (\n",
    "        PARTITION BY order_date\n",
    "        ORDER BY order_revenue DESC\n",
    "    ) AS drnk\n",
    "FROM daily_product_revenue\n",
    "WHERE to_char(order_date::date, 'yyyy-MM') = '2014-01'\n",
    ") AS q\n",
    "WHERE drnk <= 5\n",
    "ORDER BY order_date, order_revenue DESC\n",
    ";"
   ],
   "id": "594e505753215665",
   "outputs": [],
   "execution_count": null
  },
  {
   "metadata": {
    "SqlCellData": {
     "data_source_name": "itversity_retail_db@localhost",
     "variableName$1": "df_sql23"
    }
   },
   "cell_type": "code",
   "source": [
    "%%sql\n",
    "WITH daily_product_revenue_ranks AS (\n",
    "    SELECT order_date,\n",
    "    order_item_product_id,\n",
    "    order_revenue,\n",
    "    rank() OVER (\n",
    "        PARTITION BY order_date\n",
    "        ORDER BY order_revenue DESC\n",
    "    ) AS rnk,\n",
    "    dense_rank() OVER (\n",
    "        PARTITION BY order_date\n",
    "        ORDER BY order_revenue DESC\n",
    "    ) AS drnk\n",
    "FROM daily_product_revenue\n",
    "WHERE to_char(order_date::date, 'yyyy-MM') = '2014-01'\n",
    ") SELECT * FROM daily_product_revenue_ranks\n",
    "WHERE drnk <= 5\n",
    "ORDER BY order_date, order_revenue DESC;"
   ],
   "id": "98637f687b036e73",
   "outputs": [],
   "execution_count": null
  },
  {
   "metadata": {},
   "cell_type": "markdown",
   "source": "# 62. Create Students table with Data for ranking using SQL",
   "id": "791d765bf67a2af7"
  },
  {
   "metadata": {
    "SqlCellData": {
     "data_source_name": "itversity_retail_db@localhost",
     "variableName$1": "df_sql24"
    }
   },
   "cell_type": "code",
   "source": [
    "%%sql\n",
    "CREATE TABLE student_scores (\n",
    "    student_id INT PRIMARY KEY,\n",
    "    student_score INT\n",
    ");\n",
    "\n",
    "INSERT INTO student_scores VALUES\n",
    "(1, 980),\n",
    "(2, 960),\n",
    "(3, 960),\n",
    "(4, 990),\n",
    "(5, 920),\n",
    "(6, 960),\n",
    "(7, 980),\n",
    "(8, 960),\n",
    "(9, 940),\n",
    "(10, 940);"
   ],
   "id": "7703152a260bd25c",
   "outputs": [],
   "execution_count": null
  },
  {
   "metadata": {
    "SqlCellData": {
     "data_source_name": "itversity_retail_db@localhost",
     "variableName$1": "df_sql25"
    }
   },
   "cell_type": "code",
   "source": [
    "%%sql\n",
    "SELECT * FROM studet_scores\n",
    "ORDER BY student_score DESC;"
   ],
   "id": "9ab91bf77e69e5cb",
   "outputs": [],
   "execution_count": null
  },
  {
   "metadata": {},
   "cell_type": "markdown",
   "source": "# 63. Difference between rank and dense rank using SQL",
   "id": "beda0bf185c78ac7"
  },
  {
   "metadata": {
    "SqlCellData": {
     "data_source_name": "itversity_retail_db@localhost",
     "variableName$1": "df_sql26"
    },
    "ExecuteTime": {
     "end_time": "2025-02-05T19:16:58.246781Z",
     "start_time": "2025-02-05T19:16:57.561753400Z"
    }
   },
   "cell_type": "code",
   "source": [
    "%%sql\n",
    "SELECT student_id,\n",
    "    student_score,\n",
    "    rank() OVER (ORDER BY student_score DESC) AS student_rank,\n",
    "    dense_rank() OVER (ORDER BY student_score DESC) AS student_drank\n",
    "FROM student_scores\n",
    "ORDER BY student_score DESC;"
   ],
   "id": "300f742ca8ad77be",
   "outputs": [
    {
     "data": {
      "text/plain": [
       "   student_id  student_score  student_rank  student_drank\n",
       "0           4            990             1              1\n",
       "1           7            980             2              2\n",
       "2           1            980             2              2\n",
       "3           6            960             4              3\n",
       "4           2            960             4              3\n",
       "5           3            960             4              3\n",
       "6           8            960             4              3\n",
       "7          10            940             8              4\n",
       "8           9            940             8              4\n",
       "9           5            920            10              5"
      ],
      "text/html": [
       "<div>\n",
       "<style scoped>\n",
       "    .dataframe tbody tr th:only-of-type {\n",
       "        vertical-align: middle;\n",
       "    }\n",
       "\n",
       "    .dataframe tbody tr th {\n",
       "        vertical-align: top;\n",
       "    }\n",
       "\n",
       "    .dataframe thead th {\n",
       "        text-align: right;\n",
       "    }\n",
       "</style>\n",
       "<table border=\"1\" class=\"dataframe\">\n",
       "  <thead>\n",
       "    <tr style=\"text-align: right;\">\n",
       "      <th></th>\n",
       "      <th>student_id</th>\n",
       "      <th>student_score</th>\n",
       "      <th>student_rank</th>\n",
       "      <th>student_drank</th>\n",
       "    </tr>\n",
       "  </thead>\n",
       "  <tbody>\n",
       "    <tr>\n",
       "      <th>0</th>\n",
       "      <td>4</td>\n",
       "      <td>990</td>\n",
       "      <td>1</td>\n",
       "      <td>1</td>\n",
       "    </tr>\n",
       "    <tr>\n",
       "      <th>1</th>\n",
       "      <td>7</td>\n",
       "      <td>980</td>\n",
       "      <td>2</td>\n",
       "      <td>2</td>\n",
       "    </tr>\n",
       "    <tr>\n",
       "      <th>2</th>\n",
       "      <td>1</td>\n",
       "      <td>980</td>\n",
       "      <td>2</td>\n",
       "      <td>2</td>\n",
       "    </tr>\n",
       "    <tr>\n",
       "      <th>3</th>\n",
       "      <td>6</td>\n",
       "      <td>960</td>\n",
       "      <td>4</td>\n",
       "      <td>3</td>\n",
       "    </tr>\n",
       "    <tr>\n",
       "      <th>4</th>\n",
       "      <td>2</td>\n",
       "      <td>960</td>\n",
       "      <td>4</td>\n",
       "      <td>3</td>\n",
       "    </tr>\n",
       "    <tr>\n",
       "      <th>5</th>\n",
       "      <td>3</td>\n",
       "      <td>960</td>\n",
       "      <td>4</td>\n",
       "      <td>3</td>\n",
       "    </tr>\n",
       "    <tr>\n",
       "      <th>6</th>\n",
       "      <td>8</td>\n",
       "      <td>960</td>\n",
       "      <td>4</td>\n",
       "      <td>3</td>\n",
       "    </tr>\n",
       "    <tr>\n",
       "      <th>7</th>\n",
       "      <td>10</td>\n",
       "      <td>940</td>\n",
       "      <td>8</td>\n",
       "      <td>4</td>\n",
       "    </tr>\n",
       "    <tr>\n",
       "      <th>8</th>\n",
       "      <td>9</td>\n",
       "      <td>940</td>\n",
       "      <td>8</td>\n",
       "      <td>4</td>\n",
       "    </tr>\n",
       "    <tr>\n",
       "      <th>9</th>\n",
       "      <td>5</td>\n",
       "      <td>920</td>\n",
       "      <td>10</td>\n",
       "      <td>5</td>\n",
       "    </tr>\n",
       "  </tbody>\n",
       "</table>\n",
       "</div>"
      ]
     },
     "execution_count": 2,
     "metadata": {},
     "output_type": "execute_result"
    }
   ],
   "execution_count": 2
  }
 ],
 "metadata": {
  "kernelspec": {
   "display_name": "Python 3",
   "language": "python",
   "name": "python3"
  },
  "language_info": {
   "codemirror_mode": {
    "name": "ipython",
    "version": 2
   },
   "file_extension": ".py",
   "mimetype": "text/x-python",
   "name": "python",
   "nbconvert_exporter": "python",
   "pygments_lexer": "ipython2",
   "version": "2.7.6"
  }
 },
 "nbformat": 4,
 "nbformat_minor": 5
}
