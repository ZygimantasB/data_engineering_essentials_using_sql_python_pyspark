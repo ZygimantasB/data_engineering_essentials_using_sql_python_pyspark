{
 "cells": [
  {
   "metadata": {},
   "cell_type": "markdown",
   "source": "# 2. Overview of our support to Data Engineering Essentials course",
   "id": "c82d2ed143d5148d"
  },
  {
   "metadata": {},
   "cell_type": "markdown",
   "source": "# 3. Overview of SQL topics covered in the course",
   "id": "aa91a339bad8dad0"
  },
  {
   "metadata": {},
   "cell_type": "markdown",
   "source": "# 4. Overview of Python topics covered in the course",
   "id": "9624d8d91633f65a"
  },
  {
   "metadata": {},
   "cell_type": "markdown",
   "source": "# 5. Overview of Getting Started with GCP related to the course",
   "id": "90a726cb8b903ab6"
  },
  {
   "metadata": {},
   "cell_type": "markdown",
   "source": "# 6. Overview of Spark and Databricks Environment related topics",
   "id": "52e515525cb436cb"
  },
  {
   "metadata": {},
   "cell_type": "markdown",
   "source": "# 7. Detailed outline of Spark SQL Topics in the course",
   "id": "3294a222d2866b3f"
  },
  {
   "metadata": {},
   "cell_type": "markdown",
   "source": "# 8. Detailed outline of Pyspark Topics in the course",
   "id": "5cb57113b911b82a"
  },
  {
   "metadata": {},
   "cell_type": "markdown",
   "source": "# 9. Detailed outline of ELT Data Pipelines on Databricks",
   "id": "4be1d1602374eca9"
  },
  {
   "metadata": {},
   "cell_type": "markdown",
   "source": "# 10. Overview of Performance Tuning of Spark covered in the course",
   "id": "faee776bbc8b271"
  },
  {
   "cell_type": "code",
   "execution_count": null,
   "id": "initial_id",
   "metadata": {
    "collapsed": true
   },
   "outputs": [],
   "source": ""
  }
 ],
 "metadata": {
  "kernelspec": {
   "display_name": "Python 3",
   "language": "python",
   "name": "python3"
  },
  "language_info": {
   "codemirror_mode": {
    "name": "ipython",
    "version": 2
   },
   "file_extension": ".py",
   "mimetype": "text/x-python",
   "name": "python",
   "nbconvert_exporter": "python",
   "pygments_lexer": "ipython2",
   "version": "2.7.6"
  }
 },
 "nbformat": 4,
 "nbformat_minor": 5
}
