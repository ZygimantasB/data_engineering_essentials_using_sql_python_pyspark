{
 "cells": [
  {
   "metadata": {},
   "cell_type": "markdown",
   "source": "# 11. Introduction to SQL for Data Engineering",
   "id": "1deb69cb1fc5570c"
  },
  {
   "metadata": {},
   "cell_type": "markdown",
   "source": "# 12. Overview of Application Architecture and RDBMS",
   "id": "777354d909db8637"
  },
  {
   "metadata": {},
   "cell_type": "markdown",
   "source": "# 13. Overview of Database Technologies and relevance of SQL",
   "id": "dc5739e42fd56c30"
  },
  {
   "metadata": {},
   "cell_type": "markdown",
   "source": "# 14. Overview of Purpose Built Databases",
   "id": "2800a6fefc4b4170"
  },
  {
   "metadata": {},
   "cell_type": "markdown",
   "source": "# 15. Overview of Data Warehouse and Data Lake",
   "id": "394356596617d00f"
  },
  {
   "metadata": {},
   "cell_type": "markdown",
   "source": "# 16. Usage of RDBMS and Data Warehouse technologies",
   "id": "aadb8ba749509def"
  },
  {
   "metadata": {},
   "cell_type": "markdown",
   "source": "# 17. Differences and Similarities between RDBMS and Data Warehouse Technologies",
   "id": "79f6a578fe9f1799"
  },
  {
   "cell_type": "code",
   "execution_count": null,
   "id": "initial_id",
   "metadata": {
    "collapsed": true
   },
   "outputs": [],
   "source": ""
  }
 ],
 "metadata": {
  "kernelspec": {
   "display_name": "Python 3",
   "language": "python",
   "name": "python3"
  },
  "language_info": {
   "codemirror_mode": {
    "name": "ipython",
    "version": 2
   },
   "file_extension": ".py",
   "mimetype": "text/x-python",
   "name": "python",
   "nbconvert_exporter": "python",
   "pygments_lexer": "ipython2",
   "version": "2.7.6"
  }
 },
 "nbformat": 4,
 "nbformat_minor": 5
}
