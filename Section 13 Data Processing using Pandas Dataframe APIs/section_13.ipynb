{
 "cells": [
  {
   "metadata": {},
   "cell_type": "markdown",
   "source": "# 132. Overview of Pandas for Data Processing",
   "id": "2963091464b28fe5"
  },
  {
   "metadata": {},
   "cell_type": "markdown",
   "source": "# 133. Overview of Reading CSV Data using Pandas",
   "id": "d99dbccfda3628ba"
  },
  {
   "metadata": {},
   "cell_type": "markdown",
   "source": "# 134. Read Data from CSV Files to Pandas Dataframes",
   "id": "85208ae5e12a554d"
  },
  {
   "cell_type": "code",
   "id": "initial_id",
   "metadata": {
    "collapsed": true,
    "ExecuteTime": {
     "end_time": "2025-02-14T18:54:08.704849Z",
     "start_time": "2025-02-14T18:54:07.843605Z"
    }
   },
   "source": "import pandas as pd",
   "outputs": [],
   "execution_count": 1
  },
  {
   "metadata": {},
   "cell_type": "code",
   "outputs": [],
   "execution_count": null,
   "source": "",
   "id": "73da66daccd8c79f"
  }
 ],
 "metadata": {
  "kernelspec": {
   "display_name": "Python 3",
   "language": "python",
   "name": "python3"
  },
  "language_info": {
   "codemirror_mode": {
    "name": "ipython",
    "version": 2
   },
   "file_extension": ".py",
   "mimetype": "text/x-python",
   "name": "python",
   "nbconvert_exporter": "python",
   "pygments_lexer": "ipython2",
   "version": "2.7.6"
  }
 },
 "nbformat": 4,
 "nbformat_minor": 5
}
