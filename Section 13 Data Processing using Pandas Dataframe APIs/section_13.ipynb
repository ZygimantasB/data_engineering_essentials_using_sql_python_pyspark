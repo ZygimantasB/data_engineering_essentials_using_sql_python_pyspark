{
 "cells": [
  {
   "metadata": {},
   "cell_type": "markdown",
   "source": "# 132. Overview of Pandas for Data Processing",
   "id": "2963091464b28fe5"
  },
  {
   "metadata": {},
   "cell_type": "markdown",
   "source": "# 133. Overview of Reading CSV Data using Pandas",
   "id": "d99dbccfda3628ba"
  },
  {
   "metadata": {},
   "cell_type": "markdown",
   "source": "# 134. Read Data from CSV Files to Pandas Dataframes",
   "id": "85208ae5e12a554d"
  },
  {
   "metadata": {},
   "cell_type": "markdown",
   "source": "# 135. Filter Data in Pandas Dataframe using query",
   "id": "96cd93db55a4912b"
  },
  {
   "metadata": {},
   "cell_type": "markdown",
   "source": "# 136. Get Count by Status using Pandas Dataframe APIs",
   "id": "c9d9ee2c3f0ec5cc"
  },
  {
   "metadata": {},
   "cell_type": "markdown",
   "source": "# 137. Get count by Month and Status using Pandas Dataframe APIs",
   "id": "7acdbdc05fcd80f0"
  },
  {
   "metadata": {},
   "cell_type": "markdown",
   "source": "# 138. Create Dataframes using dynamic column list on CSV Data",
   "id": "c0c22742aeb86fc2"
  },
  {
   "metadata": {},
   "cell_type": "markdown",
   "source": "# 139. Performing Inner Join between Pandas Dataframes",
   "id": "a92ad9a1abac3f30"
  },
  {
   "metadata": {},
   "cell_type": "markdown",
   "source": "# 140. Perform Aggregations on Join results",
   "id": "20093b6be48df88d"
  },
  {
   "metadata": {},
   "cell_type": "markdown",
   "source": "# 141. Sort Data in Pandas Dataframes",
   "id": "63be0bf914f14a86"
  },
  {
   "cell_type": "code",
   "id": "initial_id",
   "metadata": {
    "collapsed": true,
    "ExecuteTime": {
     "end_time": "2025-02-14T18:54:08.704849Z",
     "start_time": "2025-02-14T18:54:07.843605Z"
    }
   },
   "source": "import pandas as pd",
   "outputs": [],
   "execution_count": 1
  },
  {
   "metadata": {
    "ExecuteTime": {
     "end_time": "2025-02-14T18:55:40.213737Z",
     "start_time": "2025-02-14T18:55:40.178308Z"
    }
   },
   "cell_type": "code",
   "source": "pd.read_csv(r'F:\\DataSpell\\data_engineering_essentials_using_sql_python_pyspark\\data\\part-00000.txt')",
   "id": "73da66daccd8c79f",
   "outputs": [
    {
     "data": {
      "text/plain": [
       "           0                      1      2                3\n",
       "0          1  2013-07-25 00:00:00.0  11599           CLOSED\n",
       "1          2  2013-07-25 00:00:00.0    256  PENDING_PAYMENT\n",
       "2          3  2013-07-25 00:00:00.0  12111         COMPLETE\n",
       "3          4  2013-07-25 00:00:00.0   8827           CLOSED\n",
       "4          5  2013-07-25 00:00:00.0  11318         COMPLETE\n",
       "...      ...                    ...    ...              ...\n",
       "68878  68879  2014-07-09 00:00:00.0    778         COMPLETE\n",
       "68879  68880  2014-07-13 00:00:00.0   1117         COMPLETE\n",
       "68880  68881  2014-07-19 00:00:00.0   2518  PENDING_PAYMENT\n",
       "68881  68882  2014-07-22 00:00:00.0  10000          ON_HOLD\n",
       "68882  68883  2014-07-23 00:00:00.0   5533         COMPLETE\n",
       "\n",
       "[68883 rows x 4 columns]"
      ],
      "text/html": [
       "<div>\n",
       "<style scoped>\n",
       "    .dataframe tbody tr th:only-of-type {\n",
       "        vertical-align: middle;\n",
       "    }\n",
       "\n",
       "    .dataframe tbody tr th {\n",
       "        vertical-align: top;\n",
       "    }\n",
       "\n",
       "    .dataframe thead th {\n",
       "        text-align: right;\n",
       "    }\n",
       "</style>\n",
       "<table border=\"1\" class=\"dataframe\">\n",
       "  <thead>\n",
       "    <tr style=\"text-align: right;\">\n",
       "      <th></th>\n",
       "      <th>0</th>\n",
       "      <th>1</th>\n",
       "      <th>2</th>\n",
       "      <th>3</th>\n",
       "    </tr>\n",
       "  </thead>\n",
       "  <tbody>\n",
       "    <tr>\n",
       "      <th>0</th>\n",
       "      <td>1</td>\n",
       "      <td>2013-07-25 00:00:00.0</td>\n",
       "      <td>11599</td>\n",
       "      <td>CLOSED</td>\n",
       "    </tr>\n",
       "    <tr>\n",
       "      <th>1</th>\n",
       "      <td>2</td>\n",
       "      <td>2013-07-25 00:00:00.0</td>\n",
       "      <td>256</td>\n",
       "      <td>PENDING_PAYMENT</td>\n",
       "    </tr>\n",
       "    <tr>\n",
       "      <th>2</th>\n",
       "      <td>3</td>\n",
       "      <td>2013-07-25 00:00:00.0</td>\n",
       "      <td>12111</td>\n",
       "      <td>COMPLETE</td>\n",
       "    </tr>\n",
       "    <tr>\n",
       "      <th>3</th>\n",
       "      <td>4</td>\n",
       "      <td>2013-07-25 00:00:00.0</td>\n",
       "      <td>8827</td>\n",
       "      <td>CLOSED</td>\n",
       "    </tr>\n",
       "    <tr>\n",
       "      <th>4</th>\n",
       "      <td>5</td>\n",
       "      <td>2013-07-25 00:00:00.0</td>\n",
       "      <td>11318</td>\n",
       "      <td>COMPLETE</td>\n",
       "    </tr>\n",
       "    <tr>\n",
       "      <th>...</th>\n",
       "      <td>...</td>\n",
       "      <td>...</td>\n",
       "      <td>...</td>\n",
       "      <td>...</td>\n",
       "    </tr>\n",
       "    <tr>\n",
       "      <th>68878</th>\n",
       "      <td>68879</td>\n",
       "      <td>2014-07-09 00:00:00.0</td>\n",
       "      <td>778</td>\n",
       "      <td>COMPLETE</td>\n",
       "    </tr>\n",
       "    <tr>\n",
       "      <th>68879</th>\n",
       "      <td>68880</td>\n",
       "      <td>2014-07-13 00:00:00.0</td>\n",
       "      <td>1117</td>\n",
       "      <td>COMPLETE</td>\n",
       "    </tr>\n",
       "    <tr>\n",
       "      <th>68880</th>\n",
       "      <td>68881</td>\n",
       "      <td>2014-07-19 00:00:00.0</td>\n",
       "      <td>2518</td>\n",
       "      <td>PENDING_PAYMENT</td>\n",
       "    </tr>\n",
       "    <tr>\n",
       "      <th>68881</th>\n",
       "      <td>68882</td>\n",
       "      <td>2014-07-22 00:00:00.0</td>\n",
       "      <td>10000</td>\n",
       "      <td>ON_HOLD</td>\n",
       "    </tr>\n",
       "    <tr>\n",
       "      <th>68882</th>\n",
       "      <td>68883</td>\n",
       "      <td>2014-07-23 00:00:00.0</td>\n",
       "      <td>5533</td>\n",
       "      <td>COMPLETE</td>\n",
       "    </tr>\n",
       "  </tbody>\n",
       "</table>\n",
       "<p>68883 rows × 4 columns</p>\n",
       "</div>"
      ]
     },
     "execution_count": 3,
     "metadata": {},
     "output_type": "execute_result"
    }
   ],
   "execution_count": 3
  },
  {
   "metadata": {},
   "cell_type": "code",
   "outputs": [],
   "execution_count": null,
   "source": "",
   "id": "8e886785e91db584"
  }
 ],
 "metadata": {
  "kernelspec": {
   "display_name": "Python 3",
   "language": "python",
   "name": "python3"
  },
  "language_info": {
   "codemirror_mode": {
    "name": "ipython",
    "version": 2
   },
   "file_extension": ".py",
   "mimetype": "text/x-python",
   "name": "python",
   "nbconvert_exporter": "python",
   "pygments_lexer": "ipython2",
   "version": "2.7.6"
  }
 },
 "nbformat": 4,
 "nbformat_minor": 5
}
