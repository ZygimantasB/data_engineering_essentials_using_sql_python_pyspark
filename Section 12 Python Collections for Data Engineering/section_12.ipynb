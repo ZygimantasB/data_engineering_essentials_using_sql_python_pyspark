{
 "cells": [
  {
   "metadata": {},
   "cell_type": "markdown",
   "source": "# 116. Overview of File IO using Python",
   "id": "ce0c0dccc1414f9e"
  },
  {
   "cell_type": "code",
   "id": "initial_id",
   "metadata": {
    "collapsed": true,
    "ExecuteTime": {
     "end_time": "2025-02-14T18:31:58.956197Z",
     "start_time": "2025-02-14T18:31:58.952197Z"
    }
   },
   "source": "txt_path = r'F:\\DataSpell\\data_engineering_essentials_using_sql_python_pyspark\\data\\part-00000.txt'",
   "outputs": [],
   "execution_count": 1
  },
  {
   "metadata": {
    "ExecuteTime": {
     "end_time": "2025-02-14T18:33:53.219571Z",
     "start_time": "2025-02-14T18:33:53.216528Z"
    }
   },
   "cell_type": "code",
   "source": "orders_file = open(txt_path, 'r')",
   "id": "7768cf019f7de80a",
   "outputs": [],
   "execution_count": 4
  },
  {
   "metadata": {
    "ExecuteTime": {
     "end_time": "2025-02-14T18:34:47.938635Z",
     "start_time": "2025-02-14T18:34:47.935246Z"
    }
   },
   "cell_type": "code",
   "source": "orders_str = orders_file.read()",
   "id": "de284dd1168e7471",
   "outputs": [],
   "execution_count": 7
  },
  {
   "metadata": {
    "ExecuteTime": {
     "end_time": "2025-02-14T18:34:49.431283Z",
     "start_time": "2025-02-14T18:34:49.426233Z"
    }
   },
   "cell_type": "code",
   "source": "type(orders_str)",
   "id": "e8b2fbe97b50aa8b",
   "outputs": [
    {
     "data": {
      "text/plain": [
       "str"
      ]
     },
     "execution_count": 8,
     "metadata": {},
     "output_type": "execute_result"
    }
   ],
   "execution_count": 8
  },
  {
   "metadata": {},
   "cell_type": "markdown",
   "source": "# 117. Read Data from CSV File into Python List",
   "id": "e88d10bbc43677d0"
  },
  {
   "metadata": {},
   "cell_type": "code",
   "outputs": [],
   "execution_count": null,
   "source": "",
   "id": "876838abf9ea16d"
  }
 ],
 "metadata": {
  "kernelspec": {
   "display_name": "Python 3",
   "language": "python",
   "name": "python3"
  },
  "language_info": {
   "codemirror_mode": {
    "name": "ipython",
    "version": 2
   },
   "file_extension": ".py",
   "mimetype": "text/x-python",
   "name": "python",
   "nbconvert_exporter": "python",
   "pygments_lexer": "ipython2",
   "version": "2.7.6"
  }
 },
 "nbformat": 4,
 "nbformat_minor": 5
}
