{
 "cells": [
  {
   "metadata": {},
   "cell_type": "markdown",
   "source": "# 238. Overview of Data Processing",
   "id": "f7a162c8333d178a"
  },
  {
   "metadata": {},
   "cell_type": "markdown",
   "source": "# 239. Overview of Data Processing Libraries",
   "id": "1bade4d6e14b1122"
  },
  {
   "cell_type": "code",
   "execution_count": null,
   "id": "initial_id",
   "metadata": {
    "collapsed": true
   },
   "outputs": [],
   "source": ""
  }
 ],
 "metadata": {
  "kernelspec": {
   "display_name": "Python 3",
   "language": "python",
   "name": "python3"
  },
  "language_info": {
   "codemirror_mode": {
    "name": "ipython",
    "version": 2
   },
   "file_extension": ".py",
   "mimetype": "text/x-python",
   "name": "python",
   "nbconvert_exporter": "python",
   "pygments_lexer": "ipython2",
   "version": "2.7.6"
  }
 },
 "nbformat": 4,
 "nbformat_minor": 5
}
