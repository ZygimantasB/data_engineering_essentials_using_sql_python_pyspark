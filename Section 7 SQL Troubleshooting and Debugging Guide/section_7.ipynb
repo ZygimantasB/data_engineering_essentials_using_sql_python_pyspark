{
 "cells": [
  {
   "metadata": {},
   "cell_type": "markdown",
   "source": "# 64. Introduction to SQL Troubleshooting and Debugging Guide",
   "id": "fad401c544bd2f50"
  },
  {
   "metadata": {},
   "cell_type": "markdown",
   "source": "# 65. Overview of Database Connectivity Issues",
   "id": "3209cb7243bf3156"
  },
  {
   "metadata": {},
   "cell_type": "markdown",
   "source": "# 66. Validate and Setup Telnet on Mac or PC",
   "id": "6b4cbdfe4905b210"
  },
  {
   "metadata": {},
   "cell_type": "markdown",
   "source": "# 67. Validate Connectivity to Database Server using telnet",
   "id": "3b2c18bc1ea35443"
  },
  {
   "metadata": {},
   "cell_type": "markdown",
   "source": "# 68. Troubleshoot Database Connectivity Issue with Correct Host Details",
   "id": "4c26e71894e6f526"
  },
  {
   "metadata": {},
   "cell_type": "markdown",
   "source": "# 69. Current Databases and Users in Postgres Database Server",
   "id": "c1de68e8bf97c0d7"
  },
  {
   "metadata": {},
   "cell_type": "markdown",
   "source": "# 70. Troubleshoot Database Credentials and Permissions Issues",
   "id": "984f730a34cf3d7"
  },
  {
   "metadata": {},
   "cell_type": "markdown",
   "source": "# 71. Overview of Compilation of SQL Queries",
   "id": "99499b569762ed7f"
  },
  {
   "metadata": {},
   "cell_type": "markdown",
   "source": "# 72. Troubleshooting Syntax Errors in SQL Queries",
   "id": "5e756ace2c313f94"
  },
  {
   "metadata": {},
   "cell_type": "markdown",
   "source": "# 73. Troubleshooting Semantec Errors in SQL Queries",
   "id": "d06c71591473bfb"
  },
  {
   "metadata": {
    "SqlCellData": {
     "data_source_name": "itversity_retail_db@localhost",
     "variableName$1": "df_sql"
    }
   },
   "cell_type": "code",
   "source": "%%sql\n",
   "id": "492810aa60039995",
   "outputs": [],
   "execution_count": null
  },
  {
   "cell_type": "code",
   "id": "initial_id",
   "metadata": {
    "collapsed": true,
    "ExecuteTime": {
     "end_time": "2025-02-10T16:46:35.312063Z",
     "start_time": "2025-02-10T16:46:35.308594Z"
    }
   },
   "source": "",
   "outputs": [],
   "execution_count": null
  }
 ],
 "metadata": {
  "kernelspec": {
   "display_name": "Python 3",
   "language": "python",
   "name": "python3"
  },
  "language_info": {
   "codemirror_mode": {
    "name": "ipython",
    "version": 2
   },
   "file_extension": ".py",
   "mimetype": "text/x-python",
   "name": "python",
   "nbconvert_exporter": "python",
   "pygments_lexer": "ipython2",
   "version": "2.7.6"
  }
 },
 "nbformat": 4,
 "nbformat_minor": 5
}
