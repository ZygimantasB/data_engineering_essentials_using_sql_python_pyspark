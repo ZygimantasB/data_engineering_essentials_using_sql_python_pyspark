{
 "cells": [
  {
   "metadata": {},
   "cell_type": "markdown",
   "source": "# 64. Introduction to SQL Troubleshooting and Debugging Guide",
   "id": "fad401c544bd2f50"
  },
  {
   "metadata": {},
   "cell_type": "markdown",
   "source": "# 65. Overview of Database Connectivity Issues",
   "id": "3209cb7243bf3156"
  },
  {
   "metadata": {},
   "cell_type": "markdown",
   "source": "# 66. Validate and Setup Telnet on Mac or PC",
   "id": "6b4cbdfe4905b210"
  },
  {
   "cell_type": "code",
   "execution_count": null,
   "id": "initial_id",
   "metadata": {
    "collapsed": true
   },
   "outputs": [],
   "source": ""
  }
 ],
 "metadata": {
  "kernelspec": {
   "display_name": "Python 3",
   "language": "python",
   "name": "python3"
  },
  "language_info": {
   "codemirror_mode": {
    "name": "ipython",
    "version": 2
   },
   "file_extension": ".py",
   "mimetype": "text/x-python",
   "name": "python",
   "nbconvert_exporter": "python",
   "pygments_lexer": "ipython2",
   "version": "2.7.6"
  }
 },
 "nbformat": 4,
 "nbformat_minor": 5
}
