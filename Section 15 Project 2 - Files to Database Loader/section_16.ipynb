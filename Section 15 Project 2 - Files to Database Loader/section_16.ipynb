{
 "cells": [
  {
   "metadata": {},
   "cell_type": "markdown",
   "source": "# 169. Install Python Dependencies for Pandas and Database Integration",
   "id": "ee39bf6adad06184"
  },
  {
   "metadata": {},
   "cell_type": "markdown",
   "source": "# 170. Run Queries from Notebook using SQL Magic",
   "id": "1948640c7cd6f2fa"
  },
  {
   "metadata": {},
   "cell_type": "markdown",
   "source": "# 171. Validate Pandas and SQL Integration",
   "id": "4c876a0e91e34228"
  },
  {
   "metadata": {},
   "cell_type": "markdown",
   "source": "# 172. Write CSV Data from File to Database Table",
   "id": "d403b8c668c2c450"
  },
  {
   "cell_type": "code",
   "execution_count": null,
   "id": "initial_id",
   "metadata": {
    "collapsed": true
   },
   "outputs": [],
   "source": [
    ""
   ]
  }
 ],
 "metadata": {
  "kernelspec": {
   "display_name": "Python 3",
   "language": "python",
   "name": "python3"
  },
  "language_info": {
   "codemirror_mode": {
    "name": "ipython",
    "version": 2
   },
   "file_extension": ".py",
   "mimetype": "text/x-python",
   "name": "python",
   "nbconvert_exporter": "python",
   "pygments_lexer": "ipython2",
   "version": "2.7.6"
  }
 },
 "nbformat": 4,
 "nbformat_minor": 5
}
