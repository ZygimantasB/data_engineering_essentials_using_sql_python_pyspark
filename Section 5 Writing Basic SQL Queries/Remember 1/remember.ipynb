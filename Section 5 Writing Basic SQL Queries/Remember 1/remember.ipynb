{
 "cells": [
  {
   "cell_type": "code",
   "id": "initial_id",
   "metadata": {
    "collapsed": true,
    "ExecuteTime": {
     "end_time": "2025-02-05T20:35:34.733514Z",
     "start_time": "2025-02-05T20:35:34.730416Z"
    }
   },
   "source": [
    "import ibis\n",
    "from decouple import config, AutoConfig"
   ],
   "outputs": [],
   "execution_count": 42
  },
  {
   "metadata": {
    "ExecuteTime": {
     "end_time": "2025-02-05T19:48:50.559009Z",
     "start_time": "2025-02-05T19:48:49.972246Z"
    }
   },
   "cell_type": "code",
   "source": "con = ibis.connect(\"duckdb://penguins.ddb\")",
   "id": "146a43b887ff8a7c",
   "outputs": [],
   "execution_count": 3
  },
  {
   "metadata": {
    "ExecuteTime": {
     "end_time": "2025-02-05T19:56:59.121407Z",
     "start_time": "2025-02-05T19:56:59.118282Z"
    }
   },
   "cell_type": "code",
   "source": [
    "csv_path = r'C:\\Users\\Zygim\\Downloads\\archive\\weather_data.csv'\n",
    "table_name = 'weather_data'"
   ],
   "id": "af0e4db931ebffe9",
   "outputs": [],
   "execution_count": 5
  },
  {
   "metadata": {
    "ExecuteTime": {
     "end_time": "2025-02-05T19:57:04.528783Z",
     "start_time": "2025-02-05T19:57:04.031561Z"
    }
   },
   "cell_type": "code",
   "source": "con.raw_sql(f\"\"\"CREATE TABLE {table_name} AS SELECT * FROM read_csv_auto('{csv_path}');\"\"\")",
   "id": "9fd8f1bf02872143",
   "outputs": [
    {
     "data": {
      "text/plain": [
       "<duckdb.duckdb.DuckDBPyConnection at 0x22c60de9cb0>"
      ]
     },
     "execution_count": 6,
     "metadata": {},
     "output_type": "execute_result"
    }
   ],
   "execution_count": 6
  },
  {
   "metadata": {
    "ExecuteTime": {
     "end_time": "2025-02-05T19:59:10.691240Z",
     "start_time": "2025-02-05T19:59:10.681220Z"
    }
   },
   "cell_type": "code",
   "source": "con.list_tables()",
   "id": "6a11aa0698e40458",
   "outputs": [
    {
     "data": {
      "text/plain": [
       "['weather_data']"
      ]
     },
     "execution_count": 8,
     "metadata": {},
     "output_type": "execute_result"
    }
   ],
   "execution_count": 8
  },
  {
   "metadata": {
    "ExecuteTime": {
     "end_time": "2025-02-05T20:05:44.236175Z",
     "start_time": "2025-02-05T20:05:44.227333Z"
    }
   },
   "cell_type": "code",
   "source": "con.raw_sql(f\"\"\"SELECT * FROM {table_name} LIMIT 10\"\"\").fetchdf()",
   "id": "c9010c3b9ad9ba3b",
   "outputs": [
    {
     "data": {
      "text/plain": [
       "       Location           Date_Time  Temperature_C  Humidity_pct  \\\n",
       "0     San Diego 2024-01-14 21:12:46      10.683001     41.195754   \n",
       "1     San Diego 2024-05-17 15:22:10       8.734140     58.319107   \n",
       "2     San Diego 2024-05-11 09:30:59      11.632436     38.820175   \n",
       "3  Philadelphia 2024-02-26 17:32:39      -8.628976     54.074474   \n",
       "4   San Antonio 2024-04-29 13:23:51      39.808213     72.899908   \n",
       "5     San Diego 2024-01-21 08:54:56      27.341055     49.023236   \n",
       "6      San Jose 2024-01-13 02:10:54       1.881883     65.742325   \n",
       "7      New York 2024-01-25 19:04:34      -6.894766     30.804894   \n",
       "8      New York 2024-03-29 05:20:30       0.963545     38.819158   \n",
       "9      San Jose 2024-05-18 09:14:02      -1.607088     82.198701   \n",
       "\n",
       "   Precipitation_mm  Wind_Speed_kmh  \n",
       "0          4.020119        8.233540  \n",
       "1          9.111623       27.715161  \n",
       "2          4.607511       28.732951  \n",
       "3          3.183720       26.367303  \n",
       "4          9.598282       29.898622  \n",
       "5          9.166543       27.473896  \n",
       "6          0.221709        1.073112  \n",
       "7          8.027624       16.848337  \n",
       "8          3.640129        7.989024  \n",
       "9          4.101493       25.647282  "
      ],
      "text/html": [
       "<div>\n",
       "<style scoped>\n",
       "    .dataframe tbody tr th:only-of-type {\n",
       "        vertical-align: middle;\n",
       "    }\n",
       "\n",
       "    .dataframe tbody tr th {\n",
       "        vertical-align: top;\n",
       "    }\n",
       "\n",
       "    .dataframe thead th {\n",
       "        text-align: right;\n",
       "    }\n",
       "</style>\n",
       "<table border=\"1\" class=\"dataframe\">\n",
       "  <thead>\n",
       "    <tr style=\"text-align: right;\">\n",
       "      <th></th>\n",
       "      <th>Location</th>\n",
       "      <th>Date_Time</th>\n",
       "      <th>Temperature_C</th>\n",
       "      <th>Humidity_pct</th>\n",
       "      <th>Precipitation_mm</th>\n",
       "      <th>Wind_Speed_kmh</th>\n",
       "    </tr>\n",
       "  </thead>\n",
       "  <tbody>\n",
       "    <tr>\n",
       "      <th>0</th>\n",
       "      <td>San Diego</td>\n",
       "      <td>2024-01-14 21:12:46</td>\n",
       "      <td>10.683001</td>\n",
       "      <td>41.195754</td>\n",
       "      <td>4.020119</td>\n",
       "      <td>8.233540</td>\n",
       "    </tr>\n",
       "    <tr>\n",
       "      <th>1</th>\n",
       "      <td>San Diego</td>\n",
       "      <td>2024-05-17 15:22:10</td>\n",
       "      <td>8.734140</td>\n",
       "      <td>58.319107</td>\n",
       "      <td>9.111623</td>\n",
       "      <td>27.715161</td>\n",
       "    </tr>\n",
       "    <tr>\n",
       "      <th>2</th>\n",
       "      <td>San Diego</td>\n",
       "      <td>2024-05-11 09:30:59</td>\n",
       "      <td>11.632436</td>\n",
       "      <td>38.820175</td>\n",
       "      <td>4.607511</td>\n",
       "      <td>28.732951</td>\n",
       "    </tr>\n",
       "    <tr>\n",
       "      <th>3</th>\n",
       "      <td>Philadelphia</td>\n",
       "      <td>2024-02-26 17:32:39</td>\n",
       "      <td>-8.628976</td>\n",
       "      <td>54.074474</td>\n",
       "      <td>3.183720</td>\n",
       "      <td>26.367303</td>\n",
       "    </tr>\n",
       "    <tr>\n",
       "      <th>4</th>\n",
       "      <td>San Antonio</td>\n",
       "      <td>2024-04-29 13:23:51</td>\n",
       "      <td>39.808213</td>\n",
       "      <td>72.899908</td>\n",
       "      <td>9.598282</td>\n",
       "      <td>29.898622</td>\n",
       "    </tr>\n",
       "    <tr>\n",
       "      <th>5</th>\n",
       "      <td>San Diego</td>\n",
       "      <td>2024-01-21 08:54:56</td>\n",
       "      <td>27.341055</td>\n",
       "      <td>49.023236</td>\n",
       "      <td>9.166543</td>\n",
       "      <td>27.473896</td>\n",
       "    </tr>\n",
       "    <tr>\n",
       "      <th>6</th>\n",
       "      <td>San Jose</td>\n",
       "      <td>2024-01-13 02:10:54</td>\n",
       "      <td>1.881883</td>\n",
       "      <td>65.742325</td>\n",
       "      <td>0.221709</td>\n",
       "      <td>1.073112</td>\n",
       "    </tr>\n",
       "    <tr>\n",
       "      <th>7</th>\n",
       "      <td>New York</td>\n",
       "      <td>2024-01-25 19:04:34</td>\n",
       "      <td>-6.894766</td>\n",
       "      <td>30.804894</td>\n",
       "      <td>8.027624</td>\n",
       "      <td>16.848337</td>\n",
       "    </tr>\n",
       "    <tr>\n",
       "      <th>8</th>\n",
       "      <td>New York</td>\n",
       "      <td>2024-03-29 05:20:30</td>\n",
       "      <td>0.963545</td>\n",
       "      <td>38.819158</td>\n",
       "      <td>3.640129</td>\n",
       "      <td>7.989024</td>\n",
       "    </tr>\n",
       "    <tr>\n",
       "      <th>9</th>\n",
       "      <td>San Jose</td>\n",
       "      <td>2024-05-18 09:14:02</td>\n",
       "      <td>-1.607088</td>\n",
       "      <td>82.198701</td>\n",
       "      <td>4.101493</td>\n",
       "      <td>25.647282</td>\n",
       "    </tr>\n",
       "  </tbody>\n",
       "</table>\n",
       "</div>"
      ]
     },
     "execution_count": 21,
     "metadata": {},
     "output_type": "execute_result"
    }
   ],
   "execution_count": 21
  },
  {
   "metadata": {
    "ExecuteTime": {
     "end_time": "2025-02-05T20:02:56.870387Z",
     "start_time": "2025-02-05T20:02:56.864874Z"
    }
   },
   "cell_type": "code",
   "source": "table = con.table(table_name)",
   "id": "e7648f1f477c1355",
   "outputs": [],
   "execution_count": 13
  },
  {
   "metadata": {
    "ExecuteTime": {
     "end_time": "2025-02-05T20:03:06.206459Z",
     "start_time": "2025-02-05T20:03:06.201951Z"
    }
   },
   "cell_type": "code",
   "source": "table.schema()",
   "id": "ce42c9fd5e521c22",
   "outputs": [
    {
     "data": {
      "text/plain": [
       "ibis.Schema {\n",
       "  Location          string\n",
       "  Date_Time         timestamp(6)\n",
       "  Temperature_C     float64\n",
       "  Humidity_pct      float64\n",
       "  Precipitation_mm  float64\n",
       "  Wind_Speed_kmh    float64\n",
       "}"
      ]
     },
     "execution_count": 15,
     "metadata": {},
     "output_type": "execute_result"
    }
   ],
   "execution_count": 15
  },
  {
   "metadata": {
    "ExecuteTime": {
     "end_time": "2025-02-05T20:06:02.905774Z",
     "start_time": "2025-02-05T20:06:02.897648Z"
    }
   },
   "cell_type": "code",
   "source": "con.raw_sql(f\"\"\"SELECT * FROM {table_name} LIMIT 10\"\"\").fetchdf()",
   "id": "f8557a8db62812d5",
   "outputs": [
    {
     "data": {
      "text/plain": [
       "       Location           Date_Time  Temperature_C  Humidity_pct  \\\n",
       "0     San Diego 2024-01-14 21:12:46      10.683001     41.195754   \n",
       "1     San Diego 2024-05-17 15:22:10       8.734140     58.319107   \n",
       "2     San Diego 2024-05-11 09:30:59      11.632436     38.820175   \n",
       "3  Philadelphia 2024-02-26 17:32:39      -8.628976     54.074474   \n",
       "4   San Antonio 2024-04-29 13:23:51      39.808213     72.899908   \n",
       "5     San Diego 2024-01-21 08:54:56      27.341055     49.023236   \n",
       "6      San Jose 2024-01-13 02:10:54       1.881883     65.742325   \n",
       "7      New York 2024-01-25 19:04:34      -6.894766     30.804894   \n",
       "8      New York 2024-03-29 05:20:30       0.963545     38.819158   \n",
       "9      San Jose 2024-05-18 09:14:02      -1.607088     82.198701   \n",
       "\n",
       "   Precipitation_mm  Wind_Speed_kmh  \n",
       "0          4.020119        8.233540  \n",
       "1          9.111623       27.715161  \n",
       "2          4.607511       28.732951  \n",
       "3          3.183720       26.367303  \n",
       "4          9.598282       29.898622  \n",
       "5          9.166543       27.473896  \n",
       "6          0.221709        1.073112  \n",
       "7          8.027624       16.848337  \n",
       "8          3.640129        7.989024  \n",
       "9          4.101493       25.647282  "
      ],
      "text/html": [
       "<div>\n",
       "<style scoped>\n",
       "    .dataframe tbody tr th:only-of-type {\n",
       "        vertical-align: middle;\n",
       "    }\n",
       "\n",
       "    .dataframe tbody tr th {\n",
       "        vertical-align: top;\n",
       "    }\n",
       "\n",
       "    .dataframe thead th {\n",
       "        text-align: right;\n",
       "    }\n",
       "</style>\n",
       "<table border=\"1\" class=\"dataframe\">\n",
       "  <thead>\n",
       "    <tr style=\"text-align: right;\">\n",
       "      <th></th>\n",
       "      <th>Location</th>\n",
       "      <th>Date_Time</th>\n",
       "      <th>Temperature_C</th>\n",
       "      <th>Humidity_pct</th>\n",
       "      <th>Precipitation_mm</th>\n",
       "      <th>Wind_Speed_kmh</th>\n",
       "    </tr>\n",
       "  </thead>\n",
       "  <tbody>\n",
       "    <tr>\n",
       "      <th>0</th>\n",
       "      <td>San Diego</td>\n",
       "      <td>2024-01-14 21:12:46</td>\n",
       "      <td>10.683001</td>\n",
       "      <td>41.195754</td>\n",
       "      <td>4.020119</td>\n",
       "      <td>8.233540</td>\n",
       "    </tr>\n",
       "    <tr>\n",
       "      <th>1</th>\n",
       "      <td>San Diego</td>\n",
       "      <td>2024-05-17 15:22:10</td>\n",
       "      <td>8.734140</td>\n",
       "      <td>58.319107</td>\n",
       "      <td>9.111623</td>\n",
       "      <td>27.715161</td>\n",
       "    </tr>\n",
       "    <tr>\n",
       "      <th>2</th>\n",
       "      <td>San Diego</td>\n",
       "      <td>2024-05-11 09:30:59</td>\n",
       "      <td>11.632436</td>\n",
       "      <td>38.820175</td>\n",
       "      <td>4.607511</td>\n",
       "      <td>28.732951</td>\n",
       "    </tr>\n",
       "    <tr>\n",
       "      <th>3</th>\n",
       "      <td>Philadelphia</td>\n",
       "      <td>2024-02-26 17:32:39</td>\n",
       "      <td>-8.628976</td>\n",
       "      <td>54.074474</td>\n",
       "      <td>3.183720</td>\n",
       "      <td>26.367303</td>\n",
       "    </tr>\n",
       "    <tr>\n",
       "      <th>4</th>\n",
       "      <td>San Antonio</td>\n",
       "      <td>2024-04-29 13:23:51</td>\n",
       "      <td>39.808213</td>\n",
       "      <td>72.899908</td>\n",
       "      <td>9.598282</td>\n",
       "      <td>29.898622</td>\n",
       "    </tr>\n",
       "    <tr>\n",
       "      <th>5</th>\n",
       "      <td>San Diego</td>\n",
       "      <td>2024-01-21 08:54:56</td>\n",
       "      <td>27.341055</td>\n",
       "      <td>49.023236</td>\n",
       "      <td>9.166543</td>\n",
       "      <td>27.473896</td>\n",
       "    </tr>\n",
       "    <tr>\n",
       "      <th>6</th>\n",
       "      <td>San Jose</td>\n",
       "      <td>2024-01-13 02:10:54</td>\n",
       "      <td>1.881883</td>\n",
       "      <td>65.742325</td>\n",
       "      <td>0.221709</td>\n",
       "      <td>1.073112</td>\n",
       "    </tr>\n",
       "    <tr>\n",
       "      <th>7</th>\n",
       "      <td>New York</td>\n",
       "      <td>2024-01-25 19:04:34</td>\n",
       "      <td>-6.894766</td>\n",
       "      <td>30.804894</td>\n",
       "      <td>8.027624</td>\n",
       "      <td>16.848337</td>\n",
       "    </tr>\n",
       "    <tr>\n",
       "      <th>8</th>\n",
       "      <td>New York</td>\n",
       "      <td>2024-03-29 05:20:30</td>\n",
       "      <td>0.963545</td>\n",
       "      <td>38.819158</td>\n",
       "      <td>3.640129</td>\n",
       "      <td>7.989024</td>\n",
       "    </tr>\n",
       "    <tr>\n",
       "      <th>9</th>\n",
       "      <td>San Jose</td>\n",
       "      <td>2024-05-18 09:14:02</td>\n",
       "      <td>-1.607088</td>\n",
       "      <td>82.198701</td>\n",
       "      <td>4.101493</td>\n",
       "      <td>25.647282</td>\n",
       "    </tr>\n",
       "  </tbody>\n",
       "</table>\n",
       "</div>"
      ]
     },
     "execution_count": 22,
     "metadata": {},
     "output_type": "execute_result"
    }
   ],
   "execution_count": 22
  },
  {
   "metadata": {
    "ExecuteTime": {
     "end_time": "2025-02-05T20:10:52.896836Z",
     "start_time": "2025-02-05T20:10:52.890443Z"
    }
   },
   "cell_type": "code",
   "source": [
    "con.sql(\"\"\"\n",
    "  SELECT * FROM weather_data\n",
    "\"\"\")"
   ],
   "id": "2496722fa7644699",
   "outputs": [
    {
     "data": {
      "text/plain": [
       "SQLQueryResult\n",
       "  query:\n",
       "    SELECT * FROM weather_data\n",
       "  schema:\n",
       "    Location         string\n",
       "    Date_Time        timestamp(6)\n",
       "    Temperature_C    float64\n",
       "    Humidity_pct     float64\n",
       "    Precipitation_mm float64\n",
       "    Wind_Speed_kmh   float64"
      ],
      "text/html": [
       "<pre style=\"white-space:pre;overflow-x:auto;line-height:normal;font-family:Menlo,'DejaVu Sans Mono',consolas,'Courier New',monospace\">SQLQueryResult\n",
       "  query:\n",
       "    SELECT * FROM weather_data\n",
       "  schema:\n",
       "    Location         string\n",
       "    Date_Time        timestamp(6)\n",
       "    Temperature_C    float64\n",
       "    Humidity_pct     float64\n",
       "    Precipitation_mm float64\n",
       "    Wind_Speed_kmh   float64\n",
       "</pre>\n"
      ]
     },
     "execution_count": 27,
     "metadata": {},
     "output_type": "execute_result"
    }
   ],
   "execution_count": 27
  },
  {
   "metadata": {},
   "cell_type": "markdown",
   "source": "# Section 5 Remember",
   "id": "a695b8c141815f3e"
  },
  {
   "metadata": {
    "ExecuteTime": {
     "end_time": "2025-02-05T20:36:06.663197Z",
     "start_time": "2025-02-05T20:36:06.586645Z"
    }
   },
   "cell_type": "code",
   "source": [
    "config = AutoConfig(search_path=r'F:\\DataSpell\\data_engineering_essentials_using_sql_python_pyspark')\n",
    "\n",
    "postgres = ibis.postgres.connect(\n",
    "    host=config('HOST'),\n",
    "    port=config('PORT'),\n",
    "    user=config('USER'),\n",
    "    password=config('PASSWORD'),\n",
    "    database=config('DATABASE')\n",
    ")"
   ],
   "id": "222fc9c8b3c10c88",
   "outputs": [],
   "execution_count": 45
  },
  {
   "metadata": {
    "ExecuteTime": {
     "end_time": "2025-02-05T20:36:07.228274Z",
     "start_time": "2025-02-05T20:36:07.214541Z"
    }
   },
   "cell_type": "code",
   "source": "postgres.list_tables()",
   "id": "af1dc4cbda526938",
   "outputs": [
    {
     "data": {
      "text/plain": [
       "['categories',\n",
       " 'customers',\n",
       " 'daily_product_revenue',\n",
       " 'daily_revenue',\n",
       " 'departments',\n",
       " 'order_count_by_status',\n",
       " 'order_details_v',\n",
       " 'order_items',\n",
       " 'orders',\n",
       " 'orders_stg',\n",
       " 'products',\n",
       " 'student_scores']"
      ]
     },
     "execution_count": 46,
     "metadata": {},
     "output_type": "execute_result"
    }
   ],
   "execution_count": 46
  },
  {
   "metadata": {
    "ExecuteTime": {
     "end_time": "2025-02-05T20:41:56.521741Z",
     "start_time": "2025-02-05T20:41:56.425854Z"
    }
   },
   "cell_type": "code",
   "source": "con.raw_sql(f\"\"\"SELECT * FROM weather_data\"\"\").fetchdf()",
   "id": "63e1454f1a5505e0",
   "outputs": [
    {
     "data": {
      "text/plain": [
       "            Location           Date_Time  Temperature_C  Humidity_pct  \\\n",
       "0          San Diego 2024-01-14 21:12:46      10.683001     41.195754   \n",
       "1          San Diego 2024-05-17 15:22:10       8.734140     58.319107   \n",
       "2          San Diego 2024-05-11 09:30:59      11.632436     38.820175   \n",
       "3       Philadelphia 2024-02-26 17:32:39      -8.628976     54.074474   \n",
       "4        San Antonio 2024-04-29 13:23:51      39.808213     72.899908   \n",
       "...              ...                 ...            ...           ...   \n",
       "999995        Dallas 2024-01-01 20:29:48      23.416877     37.705024   \n",
       "999996   San Antonio 2024-01-20 15:59:48       6.759080     40.731036   \n",
       "999997      New York 2024-04-14 08:30:09      15.664465     62.201884   \n",
       "999998       Chicago 2024-05-12 20:10:43      18.999994     63.703245   \n",
       "999999      New York 2024-04-16 16:11:52      10.725351     43.804584   \n",
       "\n",
       "        Precipitation_mm  Wind_Speed_kmh  \n",
       "0               4.020119        8.233540  \n",
       "1               9.111623       27.715161  \n",
       "2               4.607511       28.732951  \n",
       "3               3.183720       26.367303  \n",
       "4               9.598282       29.898622  \n",
       "...                  ...             ...  \n",
       "999995          3.819833       16.538119  \n",
       "999996          8.182785       29.005558  \n",
       "999997          3.987558        0.403909  \n",
       "999998          4.294325        6.326036  \n",
       "999999          1.883292       15.363828  \n",
       "\n",
       "[1000000 rows x 6 columns]"
      ],
      "text/html": [
       "<div>\n",
       "<style scoped>\n",
       "    .dataframe tbody tr th:only-of-type {\n",
       "        vertical-align: middle;\n",
       "    }\n",
       "\n",
       "    .dataframe tbody tr th {\n",
       "        vertical-align: top;\n",
       "    }\n",
       "\n",
       "    .dataframe thead th {\n",
       "        text-align: right;\n",
       "    }\n",
       "</style>\n",
       "<table border=\"1\" class=\"dataframe\">\n",
       "  <thead>\n",
       "    <tr style=\"text-align: right;\">\n",
       "      <th></th>\n",
       "      <th>Location</th>\n",
       "      <th>Date_Time</th>\n",
       "      <th>Temperature_C</th>\n",
       "      <th>Humidity_pct</th>\n",
       "      <th>Precipitation_mm</th>\n",
       "      <th>Wind_Speed_kmh</th>\n",
       "    </tr>\n",
       "  </thead>\n",
       "  <tbody>\n",
       "    <tr>\n",
       "      <th>0</th>\n",
       "      <td>San Diego</td>\n",
       "      <td>2024-01-14 21:12:46</td>\n",
       "      <td>10.683001</td>\n",
       "      <td>41.195754</td>\n",
       "      <td>4.020119</td>\n",
       "      <td>8.233540</td>\n",
       "    </tr>\n",
       "    <tr>\n",
       "      <th>1</th>\n",
       "      <td>San Diego</td>\n",
       "      <td>2024-05-17 15:22:10</td>\n",
       "      <td>8.734140</td>\n",
       "      <td>58.319107</td>\n",
       "      <td>9.111623</td>\n",
       "      <td>27.715161</td>\n",
       "    </tr>\n",
       "    <tr>\n",
       "      <th>2</th>\n",
       "      <td>San Diego</td>\n",
       "      <td>2024-05-11 09:30:59</td>\n",
       "      <td>11.632436</td>\n",
       "      <td>38.820175</td>\n",
       "      <td>4.607511</td>\n",
       "      <td>28.732951</td>\n",
       "    </tr>\n",
       "    <tr>\n",
       "      <th>3</th>\n",
       "      <td>Philadelphia</td>\n",
       "      <td>2024-02-26 17:32:39</td>\n",
       "      <td>-8.628976</td>\n",
       "      <td>54.074474</td>\n",
       "      <td>3.183720</td>\n",
       "      <td>26.367303</td>\n",
       "    </tr>\n",
       "    <tr>\n",
       "      <th>4</th>\n",
       "      <td>San Antonio</td>\n",
       "      <td>2024-04-29 13:23:51</td>\n",
       "      <td>39.808213</td>\n",
       "      <td>72.899908</td>\n",
       "      <td>9.598282</td>\n",
       "      <td>29.898622</td>\n",
       "    </tr>\n",
       "    <tr>\n",
       "      <th>...</th>\n",
       "      <td>...</td>\n",
       "      <td>...</td>\n",
       "      <td>...</td>\n",
       "      <td>...</td>\n",
       "      <td>...</td>\n",
       "      <td>...</td>\n",
       "    </tr>\n",
       "    <tr>\n",
       "      <th>999995</th>\n",
       "      <td>Dallas</td>\n",
       "      <td>2024-01-01 20:29:48</td>\n",
       "      <td>23.416877</td>\n",
       "      <td>37.705024</td>\n",
       "      <td>3.819833</td>\n",
       "      <td>16.538119</td>\n",
       "    </tr>\n",
       "    <tr>\n",
       "      <th>999996</th>\n",
       "      <td>San Antonio</td>\n",
       "      <td>2024-01-20 15:59:48</td>\n",
       "      <td>6.759080</td>\n",
       "      <td>40.731036</td>\n",
       "      <td>8.182785</td>\n",
       "      <td>29.005558</td>\n",
       "    </tr>\n",
       "    <tr>\n",
       "      <th>999997</th>\n",
       "      <td>New York</td>\n",
       "      <td>2024-04-14 08:30:09</td>\n",
       "      <td>15.664465</td>\n",
       "      <td>62.201884</td>\n",
       "      <td>3.987558</td>\n",
       "      <td>0.403909</td>\n",
       "    </tr>\n",
       "    <tr>\n",
       "      <th>999998</th>\n",
       "      <td>Chicago</td>\n",
       "      <td>2024-05-12 20:10:43</td>\n",
       "      <td>18.999994</td>\n",
       "      <td>63.703245</td>\n",
       "      <td>4.294325</td>\n",
       "      <td>6.326036</td>\n",
       "    </tr>\n",
       "    <tr>\n",
       "      <th>999999</th>\n",
       "      <td>New York</td>\n",
       "      <td>2024-04-16 16:11:52</td>\n",
       "      <td>10.725351</td>\n",
       "      <td>43.804584</td>\n",
       "      <td>1.883292</td>\n",
       "      <td>15.363828</td>\n",
       "    </tr>\n",
       "  </tbody>\n",
       "</table>\n",
       "<p>1000000 rows × 6 columns</p>\n",
       "</div>"
      ]
     },
     "execution_count": 61,
     "metadata": {},
     "output_type": "execute_result"
    }
   ],
   "execution_count": 61
  },
  {
   "metadata": {
    "ExecuteTime": {
     "end_time": "2025-02-05T20:42:47.168323Z",
     "start_time": "2025-02-05T20:42:47.125866Z"
    }
   },
   "cell_type": "code",
   "source": [
    "con.raw_sql(\"\"\"\n",
    "    SELECT *\n",
    "    FROM weather_data\n",
    "    WHERE Location IN ('San Antonio', 'New York')\n",
    "\"\"\").fetchdf()"
   ],
   "id": "52c4ebe702917f71",
   "outputs": [
    {
     "data": {
      "text/plain": [
       "           Location           Date_Time  Temperature_C  Humidity_pct  \\\n",
       "0       San Antonio 2024-04-29 13:23:51      39.808213     72.899908   \n",
       "1       San Antonio 2024-02-10 15:05:28      16.349790     65.812607   \n",
       "2       San Antonio 2024-05-08 16:20:53      35.179548     35.083071   \n",
       "3       San Antonio 2024-02-14 04:43:05      30.739684     85.603779   \n",
       "4       San Antonio 2024-02-08 20:45:03       3.017951     49.868218   \n",
       "...             ...                 ...            ...           ...   \n",
       "199929     New York 2024-01-30 15:04:59       1.837912     66.505813   \n",
       "199930     New York 2024-01-01 11:49:20      20.245916     31.677558   \n",
       "199931     New York 2024-02-14 03:55:10       4.210758     45.683075   \n",
       "199932     New York 2024-04-14 08:30:09      15.664465     62.201884   \n",
       "199933     New York 2024-04-16 16:11:52      10.725351     43.804584   \n",
       "\n",
       "        Precipitation_mm  Wind_Speed_kmh  \n",
       "0               9.598282       29.898622  \n",
       "1               0.109090        6.597039  \n",
       "2               9.597294        4.507863  \n",
       "3               9.250559       24.375952  \n",
       "4               6.906614        6.212008  \n",
       "...                  ...             ...  \n",
       "199929          4.934130        4.797305  \n",
       "199930          9.801482       24.029331  \n",
       "199931          2.053384       22.351735  \n",
       "199932          3.987558        0.403909  \n",
       "199933          1.883292       15.363828  \n",
       "\n",
       "[199934 rows x 6 columns]"
      ],
      "text/html": [
       "<div>\n",
       "<style scoped>\n",
       "    .dataframe tbody tr th:only-of-type {\n",
       "        vertical-align: middle;\n",
       "    }\n",
       "\n",
       "    .dataframe tbody tr th {\n",
       "        vertical-align: top;\n",
       "    }\n",
       "\n",
       "    .dataframe thead th {\n",
       "        text-align: right;\n",
       "    }\n",
       "</style>\n",
       "<table border=\"1\" class=\"dataframe\">\n",
       "  <thead>\n",
       "    <tr style=\"text-align: right;\">\n",
       "      <th></th>\n",
       "      <th>Location</th>\n",
       "      <th>Date_Time</th>\n",
       "      <th>Temperature_C</th>\n",
       "      <th>Humidity_pct</th>\n",
       "      <th>Precipitation_mm</th>\n",
       "      <th>Wind_Speed_kmh</th>\n",
       "    </tr>\n",
       "  </thead>\n",
       "  <tbody>\n",
       "    <tr>\n",
       "      <th>0</th>\n",
       "      <td>San Antonio</td>\n",
       "      <td>2024-04-29 13:23:51</td>\n",
       "      <td>39.808213</td>\n",
       "      <td>72.899908</td>\n",
       "      <td>9.598282</td>\n",
       "      <td>29.898622</td>\n",
       "    </tr>\n",
       "    <tr>\n",
       "      <th>1</th>\n",
       "      <td>San Antonio</td>\n",
       "      <td>2024-02-10 15:05:28</td>\n",
       "      <td>16.349790</td>\n",
       "      <td>65.812607</td>\n",
       "      <td>0.109090</td>\n",
       "      <td>6.597039</td>\n",
       "    </tr>\n",
       "    <tr>\n",
       "      <th>2</th>\n",
       "      <td>San Antonio</td>\n",
       "      <td>2024-05-08 16:20:53</td>\n",
       "      <td>35.179548</td>\n",
       "      <td>35.083071</td>\n",
       "      <td>9.597294</td>\n",
       "      <td>4.507863</td>\n",
       "    </tr>\n",
       "    <tr>\n",
       "      <th>3</th>\n",
       "      <td>San Antonio</td>\n",
       "      <td>2024-02-14 04:43:05</td>\n",
       "      <td>30.739684</td>\n",
       "      <td>85.603779</td>\n",
       "      <td>9.250559</td>\n",
       "      <td>24.375952</td>\n",
       "    </tr>\n",
       "    <tr>\n",
       "      <th>4</th>\n",
       "      <td>San Antonio</td>\n",
       "      <td>2024-02-08 20:45:03</td>\n",
       "      <td>3.017951</td>\n",
       "      <td>49.868218</td>\n",
       "      <td>6.906614</td>\n",
       "      <td>6.212008</td>\n",
       "    </tr>\n",
       "    <tr>\n",
       "      <th>...</th>\n",
       "      <td>...</td>\n",
       "      <td>...</td>\n",
       "      <td>...</td>\n",
       "      <td>...</td>\n",
       "      <td>...</td>\n",
       "      <td>...</td>\n",
       "    </tr>\n",
       "    <tr>\n",
       "      <th>199929</th>\n",
       "      <td>New York</td>\n",
       "      <td>2024-01-30 15:04:59</td>\n",
       "      <td>1.837912</td>\n",
       "      <td>66.505813</td>\n",
       "      <td>4.934130</td>\n",
       "      <td>4.797305</td>\n",
       "    </tr>\n",
       "    <tr>\n",
       "      <th>199930</th>\n",
       "      <td>New York</td>\n",
       "      <td>2024-01-01 11:49:20</td>\n",
       "      <td>20.245916</td>\n",
       "      <td>31.677558</td>\n",
       "      <td>9.801482</td>\n",
       "      <td>24.029331</td>\n",
       "    </tr>\n",
       "    <tr>\n",
       "      <th>199931</th>\n",
       "      <td>New York</td>\n",
       "      <td>2024-02-14 03:55:10</td>\n",
       "      <td>4.210758</td>\n",
       "      <td>45.683075</td>\n",
       "      <td>2.053384</td>\n",
       "      <td>22.351735</td>\n",
       "    </tr>\n",
       "    <tr>\n",
       "      <th>199932</th>\n",
       "      <td>New York</td>\n",
       "      <td>2024-04-14 08:30:09</td>\n",
       "      <td>15.664465</td>\n",
       "      <td>62.201884</td>\n",
       "      <td>3.987558</td>\n",
       "      <td>0.403909</td>\n",
       "    </tr>\n",
       "    <tr>\n",
       "      <th>199933</th>\n",
       "      <td>New York</td>\n",
       "      <td>2024-04-16 16:11:52</td>\n",
       "      <td>10.725351</td>\n",
       "      <td>43.804584</td>\n",
       "      <td>1.883292</td>\n",
       "      <td>15.363828</td>\n",
       "    </tr>\n",
       "  </tbody>\n",
       "</table>\n",
       "<p>199934 rows × 6 columns</p>\n",
       "</div>"
      ]
     },
     "execution_count": 65,
     "metadata": {},
     "output_type": "execute_result"
    }
   ],
   "execution_count": 65
  },
  {
   "metadata": {
    "ExecuteTime": {
     "end_time": "2025-02-05T20:46:19.155565Z",
     "start_time": "2025-02-05T20:46:19.145143Z"
    }
   },
   "cell_type": "code",
   "source": [
    "con.raw_sql(\"\"\"\n",
    "    SELECT count(DISTINCT Location)\n",
    "    FROM weather_data\n",
    "\"\"\").fetchdf()"
   ],
   "id": "400ed156bf818e4c",
   "outputs": [
    {
     "data": {
      "text/plain": [
       "   count(DISTINCT \"Location\")\n",
       "0                          10"
      ],
      "text/html": [
       "<div>\n",
       "<style scoped>\n",
       "    .dataframe tbody tr th:only-of-type {\n",
       "        vertical-align: middle;\n",
       "    }\n",
       "\n",
       "    .dataframe tbody tr th {\n",
       "        vertical-align: top;\n",
       "    }\n",
       "\n",
       "    .dataframe thead th {\n",
       "        text-align: right;\n",
       "    }\n",
       "</style>\n",
       "<table border=\"1\" class=\"dataframe\">\n",
       "  <thead>\n",
       "    <tr style=\"text-align: right;\">\n",
       "      <th></th>\n",
       "      <th>count(DISTINCT \"Location\")</th>\n",
       "    </tr>\n",
       "  </thead>\n",
       "  <tbody>\n",
       "    <tr>\n",
       "      <th>0</th>\n",
       "      <td>10</td>\n",
       "    </tr>\n",
       "  </tbody>\n",
       "</table>\n",
       "</div>"
      ]
     },
     "execution_count": 71,
     "metadata": {},
     "output_type": "execute_result"
    }
   ],
   "execution_count": 71
  },
  {
   "metadata": {
    "ExecuteTime": {
     "end_time": "2025-02-05T20:48:49.192393Z",
     "start_time": "2025-02-05T20:48:49.185520Z"
    }
   },
   "cell_type": "code",
   "source": [
    "con.raw_sql(\"\"\"\n",
    "    SELECT round(SUM(Precipitation_mm), 2)\n",
    "    FROM weather_data\n",
    "    WHERE Location = 'San Antonio'\n",
    "\"\"\").fetchdf()"
   ],
   "id": "f71284b1877d485e",
   "outputs": [
    {
     "data": {
      "text/plain": [
       "   round(sum(Precipitation_mm), 2)\n",
       "0                        500618.82"
      ],
      "text/html": [
       "<div>\n",
       "<style scoped>\n",
       "    .dataframe tbody tr th:only-of-type {\n",
       "        vertical-align: middle;\n",
       "    }\n",
       "\n",
       "    .dataframe tbody tr th {\n",
       "        vertical-align: top;\n",
       "    }\n",
       "\n",
       "    .dataframe thead th {\n",
       "        text-align: right;\n",
       "    }\n",
       "</style>\n",
       "<table border=\"1\" class=\"dataframe\">\n",
       "  <thead>\n",
       "    <tr style=\"text-align: right;\">\n",
       "      <th></th>\n",
       "      <th>round(sum(Precipitation_mm), 2)</th>\n",
       "    </tr>\n",
       "  </thead>\n",
       "  <tbody>\n",
       "    <tr>\n",
       "      <th>0</th>\n",
       "      <td>500618.82</td>\n",
       "    </tr>\n",
       "  </tbody>\n",
       "</table>\n",
       "</div>"
      ]
     },
     "execution_count": 74,
     "metadata": {},
     "output_type": "execute_result"
    }
   ],
   "execution_count": 74
  }
 ],
 "metadata": {
  "kernelspec": {
   "display_name": "Python 3",
   "language": "python",
   "name": "python3"
  },
  "language_info": {
   "codemirror_mode": {
    "name": "ipython",
    "version": 2
   },
   "file_extension": ".py",
   "mimetype": "text/x-python",
   "name": "python",
   "nbconvert_exporter": "python",
   "pygments_lexer": "ipython2",
   "version": "2.7.6"
  }
 },
 "nbformat": 4,
 "nbformat_minor": 5
}
