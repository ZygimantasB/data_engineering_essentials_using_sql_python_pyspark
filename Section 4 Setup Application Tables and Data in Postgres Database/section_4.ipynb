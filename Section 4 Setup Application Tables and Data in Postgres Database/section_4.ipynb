{
 "cells": [
  {
   "metadata": {},
   "cell_type": "markdown",
   "source": "# 28. Overview of Postgres Database Server and pgAdmin",
   "id": "56f285b430479b4a"
  },
  {
   "metadata": {},
   "cell_type": "markdown",
   "source": "# 29. Overview of Database Connection Details",
   "id": "961f50034789603d"
  },
  {
   "metadata": {},
   "cell_type": "markdown",
   "source": "# 30. Overview of Connecting to External Databases using pgAdmin",
   "id": "8b1d489331eccef8"
  },
  {
   "metadata": {},
   "cell_type": "markdown",
   "source": "# 31. Create Application Database and User in Postgres Database Server",
   "id": "e9df2f43c117d945"
  },
  {
   "metadata": {},
   "cell_type": "markdown",
   "source": "# 32. Clone Data Sets from Git Repository for Database Scripts",
   "id": "236fd2bf0ee7cbdd"
  },
  {
   "metadata": {
    "SqlCellData": {
     "data_source_name": "itversity_retail_db@localhost",
     "variableName$1": "df_sql"
    }
   },
   "cell_type": "code",
   "source": [
    "%%sql\n",
    "CREATE DATABASE itversity_retail_db;"
   ],
   "id": "36c7e88b35333fec",
   "outputs": [],
   "execution_count": null
  },
  {
   "metadata": {
    "SqlCellData": {
     "data_source_name": "itversity_retail_db@localhost",
     "variableName$1": "df_sql2"
    }
   },
   "cell_type": "code",
   "source": [
    "%%sql\n",
    "CREATE USER itversity_retail_user WITH ENCRYPTED PASSWORD 'itversity';"
   ],
   "id": "cab5cd49570d75b0",
   "outputs": [],
   "execution_count": null
  },
  {
   "metadata": {
    "SqlCellData": {
     "data_source_name": "itversity_retail_db@localhost",
     "variableName$1": "df_sql3"
    }
   },
   "cell_type": "code",
   "source": [
    "%%sql\n",
    "GRANT ALL ON DATABASE itversity_retail_db TO itversity_retail_user;"
   ],
   "id": "b7677c796edaf2c3",
   "outputs": [],
   "execution_count": null
  },
  {
   "metadata": {},
   "cell_type": "markdown",
   "source": "# 33. Register Server in pgAdmin using Application Database and User",
   "id": "ba47e5897ddb2d7e"
  },
  {
   "metadata": {},
   "cell_type": "markdown",
   "source": "# 34. Setup Application Tables and Data in Postgres Database",
   "id": "1260624eb5c83de9"
  },
  {
   "metadata": {
    "SqlCellData": {
     "data_source_name": "itversity_retail_db@localhost",
     "variableName$1": "df_sql6"
    },
    "ExecuteTime": {
     "end_time": "2025-02-02T11:09:08.395818Z",
     "start_time": "2025-02-02T11:09:08.362536400Z"
    }
   },
   "cell_type": "code",
   "source": [
    "%%sql\n",
    "-- select * from departments;\n",
    "-- select * from customers;\n",
    "SELECT count(*) from departments;"
   ],
   "id": "aa8f1683e1c247da",
   "outputs": [
    {
     "data": {
      "text/plain": [
       "   count\n",
       "0      6"
      ],
      "text/html": [
       "<div>\n",
       "<style scoped>\n",
       "    .dataframe tbody tr th:only-of-type {\n",
       "        vertical-align: middle;\n",
       "    }\n",
       "\n",
       "    .dataframe tbody tr th {\n",
       "        vertical-align: top;\n",
       "    }\n",
       "\n",
       "    .dataframe thead th {\n",
       "        text-align: right;\n",
       "    }\n",
       "</style>\n",
       "<table border=\"1\" class=\"dataframe\">\n",
       "  <thead>\n",
       "    <tr style=\"text-align: right;\">\n",
       "      <th></th>\n",
       "      <th>count</th>\n",
       "    </tr>\n",
       "  </thead>\n",
       "  <tbody>\n",
       "    <tr>\n",
       "      <th>0</th>\n",
       "      <td>6</td>\n",
       "    </tr>\n",
       "  </tbody>\n",
       "</table>\n",
       "</div>"
      ]
     },
     "execution_count": 6,
     "metadata": {},
     "output_type": "execute_result"
    }
   ],
   "execution_count": 6
  },
  {
   "metadata": {
    "SqlCellData": {
     "data_source_name": "itversity_retail_db@localhost",
     "variableName$1": "df_sql8"
    },
    "ExecuteTime": {
     "end_time": "2025-02-02T11:04:58.824519Z",
     "start_time": "2025-02-02T11:04:58.701103200Z"
    }
   },
   "cell_type": "code",
   "source": [
    "%%sql\n",
    "SELECT current_database();"
   ],
   "id": "31b8582554b00da1",
   "outputs": [
    {
     "data": {
      "text/plain": [
       "      current_database\n",
       "0  itversity_retail_db"
      ],
      "text/html": [
       "<div>\n",
       "<style scoped>\n",
       "    .dataframe tbody tr th:only-of-type {\n",
       "        vertical-align: middle;\n",
       "    }\n",
       "\n",
       "    .dataframe tbody tr th {\n",
       "        vertical-align: top;\n",
       "    }\n",
       "\n",
       "    .dataframe thead th {\n",
       "        text-align: right;\n",
       "    }\n",
       "</style>\n",
       "<table border=\"1\" class=\"dataframe\">\n",
       "  <thead>\n",
       "    <tr style=\"text-align: right;\">\n",
       "      <th></th>\n",
       "      <th>current_database</th>\n",
       "    </tr>\n",
       "  </thead>\n",
       "  <tbody>\n",
       "    <tr>\n",
       "      <th>0</th>\n",
       "      <td>itversity_retail_db</td>\n",
       "    </tr>\n",
       "  </tbody>\n",
       "</table>\n",
       "</div>"
      ]
     },
     "execution_count": 2,
     "metadata": {},
     "output_type": "execute_result"
    }
   ],
   "execution_count": 2
  },
  {
   "metadata": {},
   "cell_type": "markdown",
   "source": "# 35. Overview of pgAdmin to write SQL Queries",
   "id": "79ad3cfaebdf5518"
  },
  {
   "metadata": {
    "SqlCellData": {
     "data_source_name": "itversity_retail_db@localhost",
     "variableName$1": "df_sql12"
    },
    "ExecuteTime": {
     "end_time": "2025-02-02T11:16:12.503292Z",
     "start_time": "2025-02-02T11:16:12.426761100Z"
    }
   },
   "cell_type": "code",
   "source": [
    "%%sql\n",
    "-- SELECT * FROM orders LIMIT 10;\n",
    "\n",
    "SELECT * FROM order_items LIMIT 10;"
   ],
   "id": "b4ee5a7ebe700c93",
   "outputs": [
    {
     "data": {
      "text/plain": [
       "   order_item_id  order_item_order_id  order_item_product_id  \\\n",
       "0              1                    1                    957   \n",
       "1              2                    2                   1073   \n",
       "2              3                    2                    502   \n",
       "3              4                    2                    403   \n",
       "4              5                    4                    897   \n",
       "5              6                    4                    365   \n",
       "6              7                    4                    502   \n",
       "7              8                    4                   1014   \n",
       "8              9                    5                    957   \n",
       "9             10                    5                    365   \n",
       "\n",
       "   order_item_quantity  order_item_subtotal  order_item_product_price  \n",
       "0                    1               299.98                    299.98  \n",
       "1                    1               199.99                    199.99  \n",
       "2                    5               250.00                     50.00  \n",
       "3                    1               129.99                    129.99  \n",
       "4                    2                49.98                     24.99  \n",
       "5                    5               299.95                     59.99  \n",
       "6                    3               150.00                     50.00  \n",
       "7                    4               199.92                     49.98  \n",
       "8                    1               299.98                    299.98  \n",
       "9                    5               299.95                     59.99  "
      ],
      "text/html": [
       "<div>\n",
       "<style scoped>\n",
       "    .dataframe tbody tr th:only-of-type {\n",
       "        vertical-align: middle;\n",
       "    }\n",
       "\n",
       "    .dataframe tbody tr th {\n",
       "        vertical-align: top;\n",
       "    }\n",
       "\n",
       "    .dataframe thead th {\n",
       "        text-align: right;\n",
       "    }\n",
       "</style>\n",
       "<table border=\"1\" class=\"dataframe\">\n",
       "  <thead>\n",
       "    <tr style=\"text-align: right;\">\n",
       "      <th></th>\n",
       "      <th>order_item_id</th>\n",
       "      <th>order_item_order_id</th>\n",
       "      <th>order_item_product_id</th>\n",
       "      <th>order_item_quantity</th>\n",
       "      <th>order_item_subtotal</th>\n",
       "      <th>order_item_product_price</th>\n",
       "    </tr>\n",
       "  </thead>\n",
       "  <tbody>\n",
       "    <tr>\n",
       "      <th>0</th>\n",
       "      <td>1</td>\n",
       "      <td>1</td>\n",
       "      <td>957</td>\n",
       "      <td>1</td>\n",
       "      <td>299.98</td>\n",
       "      <td>299.98</td>\n",
       "    </tr>\n",
       "    <tr>\n",
       "      <th>1</th>\n",
       "      <td>2</td>\n",
       "      <td>2</td>\n",
       "      <td>1073</td>\n",
       "      <td>1</td>\n",
       "      <td>199.99</td>\n",
       "      <td>199.99</td>\n",
       "    </tr>\n",
       "    <tr>\n",
       "      <th>2</th>\n",
       "      <td>3</td>\n",
       "      <td>2</td>\n",
       "      <td>502</td>\n",
       "      <td>5</td>\n",
       "      <td>250.00</td>\n",
       "      <td>50.00</td>\n",
       "    </tr>\n",
       "    <tr>\n",
       "      <th>3</th>\n",
       "      <td>4</td>\n",
       "      <td>2</td>\n",
       "      <td>403</td>\n",
       "      <td>1</td>\n",
       "      <td>129.99</td>\n",
       "      <td>129.99</td>\n",
       "    </tr>\n",
       "    <tr>\n",
       "      <th>4</th>\n",
       "      <td>5</td>\n",
       "      <td>4</td>\n",
       "      <td>897</td>\n",
       "      <td>2</td>\n",
       "      <td>49.98</td>\n",
       "      <td>24.99</td>\n",
       "    </tr>\n",
       "    <tr>\n",
       "      <th>5</th>\n",
       "      <td>6</td>\n",
       "      <td>4</td>\n",
       "      <td>365</td>\n",
       "      <td>5</td>\n",
       "      <td>299.95</td>\n",
       "      <td>59.99</td>\n",
       "    </tr>\n",
       "    <tr>\n",
       "      <th>6</th>\n",
       "      <td>7</td>\n",
       "      <td>4</td>\n",
       "      <td>502</td>\n",
       "      <td>3</td>\n",
       "      <td>150.00</td>\n",
       "      <td>50.00</td>\n",
       "    </tr>\n",
       "    <tr>\n",
       "      <th>7</th>\n",
       "      <td>8</td>\n",
       "      <td>4</td>\n",
       "      <td>1014</td>\n",
       "      <td>4</td>\n",
       "      <td>199.92</td>\n",
       "      <td>49.98</td>\n",
       "    </tr>\n",
       "    <tr>\n",
       "      <th>8</th>\n",
       "      <td>9</td>\n",
       "      <td>5</td>\n",
       "      <td>957</td>\n",
       "      <td>1</td>\n",
       "      <td>299.98</td>\n",
       "      <td>299.98</td>\n",
       "    </tr>\n",
       "    <tr>\n",
       "      <th>9</th>\n",
       "      <td>10</td>\n",
       "      <td>5</td>\n",
       "      <td>365</td>\n",
       "      <td>5</td>\n",
       "      <td>299.95</td>\n",
       "      <td>59.99</td>\n",
       "    </tr>\n",
       "  </tbody>\n",
       "</table>\n",
       "</div>"
      ]
     },
     "execution_count": 10,
     "metadata": {},
     "output_type": "execute_result"
    }
   ],
   "execution_count": 10
  },
  {
   "metadata": {
    "SqlCellData": {
     "data_source_name": "itversity_retail_db@localhost",
     "variableName$1": "df_sql14"
    },
    "ExecuteTime": {
     "end_time": "2025-02-02T11:16:17.296545500Z",
     "start_time": "2025-02-02T11:16:17.223127400Z"
    }
   },
   "cell_type": "code",
   "execution_count": null,
   "source": "%%sql\n",
   "id": "674b9bbad650af83",
   "outputs": []
  }
 ],
 "metadata": {
  "kernelspec": {
   "display_name": "Python 3",
   "language": "python",
   "name": "python3"
  },
  "language_info": {
   "codemirror_mode": {
    "name": "ipython",
    "version": 2
   },
   "file_extension": ".py",
   "mimetype": "text/x-python",
   "name": "python",
   "nbconvert_exporter": "python",
   "pygments_lexer": "ipython2",
   "version": "2.7.6"
  }
 },
 "nbformat": 4,
 "nbformat_minor": 5
}
