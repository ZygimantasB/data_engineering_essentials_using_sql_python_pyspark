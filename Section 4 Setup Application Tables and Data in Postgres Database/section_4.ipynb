{
 "cells": [
  {
   "metadata": {},
   "cell_type": "markdown",
   "source": "# 28. Overview of Postgres Database Server and pgAdmin",
   "id": "56f285b430479b4a"
  },
  {
   "metadata": {},
   "cell_type": "markdown",
   "source": "# 29. Overview of Database Connection Details",
   "id": "961f50034789603d"
  },
  {
   "metadata": {},
   "cell_type": "markdown",
   "source": "# 30. Overview of Connecting to External Databases using pgAdmin",
   "id": "8b1d489331eccef8"
  },
  {
   "metadata": {},
   "cell_type": "markdown",
   "source": "# 31. Create Application Database and User in Postgres Database Server",
   "id": "e9df2f43c117d945"
  },
  {
   "metadata": {},
   "cell_type": "markdown",
   "source": "# 32. Clone Data Sets from Git Repository for Database Scripts",
   "id": "236fd2bf0ee7cbdd"
  },
  {
   "metadata": {
    "SqlCellData": {
     "data_source_name": "postgres@localhost",
     "variableName$1": "df_sql"
    }
   },
   "cell_type": "code",
   "source": [
    "%%sql\n",
    "CREATE DATABASE itversity_retail_db;"
   ],
   "id": "36c7e88b35333fec",
   "outputs": [],
   "execution_count": null
  },
  {
   "metadata": {
    "SqlCellData": {
     "data_source_name": "postgres@localhost",
     "variableName$1": "df_sql2"
    }
   },
   "cell_type": "code",
   "source": [
    "%%sql\n",
    "CREATE USER itversity_retail_user WITH ENCRYPTED PASSWORD 'itversity';"
   ],
   "id": "cab5cd49570d75b0",
   "outputs": [],
   "execution_count": null
  },
  {
   "metadata": {
    "SqlCellData": {
     "data_source_name": "postgres@localhost",
     "variableName$1": "df_sql3"
    },
    "ExecuteTime": {
     "end_time": "2025-02-01T12:45:05.007470200Z",
     "start_time": "2025-02-01T12:45:04.964066200Z"
    }
   },
   "cell_type": "code",
   "source": [
    "%%sql\n",
    "GRANT ALL ON DATABASE itversity_retail_db TO itversity_retail_user;"
   ],
   "id": "b7677c796edaf2c3",
   "execution_count": null,
   "outputs": []
  },
  {
   "metadata": {
    "SqlCellData": {
     "data_source_name": "postgres@localhost",
     "variableName$1": "df_sql4"
    }
   },
   "cell_type": "code",
   "outputs": [],
   "execution_count": null,
   "source": "%%sql\n",
   "id": "19c7142ad8052ac8"
  },
  {
   "metadata": {},
   "cell_type": "code",
   "source": "",
   "id": "f685bc4e13e7cee1",
   "outputs": [],
   "execution_count": null
  }
 ],
 "metadata": {
  "kernelspec": {
   "display_name": "Python 3",
   "language": "python",
   "name": "python3"
  },
  "language_info": {
   "codemirror_mode": {
    "name": "ipython",
    "version": 2
   },
   "file_extension": ".py",
   "mimetype": "text/x-python",
   "name": "python",
   "nbconvert_exporter": "python",
   "pygments_lexer": "ipython2",
   "version": "2.7.6"
  }
 },
 "nbformat": 4,
 "nbformat_minor": 5
}
