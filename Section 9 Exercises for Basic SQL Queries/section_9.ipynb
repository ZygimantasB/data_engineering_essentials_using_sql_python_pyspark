{
 "cells": [
  {
   "metadata": {},
   "cell_type": "markdown",
   "source": [
    "-- Let us take care of exercises related to filtering and aggregations using SQL.\n",
    "\n",
    "-- * Get all the details of the courses which are in `inactive` or `draft` state.\n",
    "\n",
    "-- * Get all the details of the courses which are related to `Python` or `Scala`.\n",
    "\n",
    "-- * Get count of courses by `course_status`. The output should contain `course_status` and `course_count`.\n",
    "\n",
    "-- * Get count of `published` courses by `course_author`. The output should contain `course_author` and `course_count`.\n",
    "\n",
    "-- * Get all the details of `Python` or `Scala` related courses in `draft` status.\n",
    "\n",
    "-- * Get the author and count where the author have more than **one published** course. The output should contain `course_author` and `course_count`."
   ],
   "id": "7a42e2aa403ed8b9"
  },
  {
   "metadata": {},
   "cell_type": "markdown",
   "source": [
    "# 93. Simple Exercises for Filtering and Aggregations\n",
    "# 94. Exercises on Joins and Aggregations using SQL"
   ],
   "id": "e49644efd04a751a"
  },
  {
   "metadata": {
    "SqlCellData": {
     "data_source_name": "itversity_retail_db@localhost",
     "variableName$1": "df_sql"
    },
    "ExecuteTime": {
     "end_time": "2025-02-11T20:20:19.201429Z",
     "start_time": "2025-02-11T20:20:16.528088400Z"
    }
   },
   "cell_type": "code",
   "source": [
    "%%sql\n",
    "SELECT * FROM courses;"
   ],
   "id": "ee3954abb8d50c1a",
   "outputs": [
    {
     "data": {
      "text/plain": [
       "    course_id                       course_name  course_author course_status  \\\n",
       "0           1          Programming using Python     Bob Dillon     published   \n",
       "1           2     Data Engineering using Python     Bob Dillon     published   \n",
       "2           3      Data Engineering using Scala  Elvis Presley         draft   \n",
       "3           4           Programming using Scala  Elvis Presley     published   \n",
       "4           5            Programming using Java      Mike Jack      inactive   \n",
       "5           6   Web Applications - Python Flask     Bob Dillon      inactive   \n",
       "6           7    Web Applications - Java Spring     Bob Dillon         draft   \n",
       "7           8   Pipeline Orchestration - Python     Bob Dillon         draft   \n",
       "8           9      Streaming Pipelines - Python     Bob Dillon     published   \n",
       "9          10     Web Applications - Scala Play  Elvis Presley      inactive   \n",
       "10         11  Web Applications - Python Django     Bob Dillon     published   \n",
       "11         12       Server Automation - Ansible      Uncle Sam     published   \n",
       "\n",
       "   course_published_dt  \n",
       "0           2020-09-30  \n",
       "1           2020-07-15  \n",
       "2                  NaN  \n",
       "3           2020-05-12  \n",
       "4           2020-08-10  \n",
       "5           2020-07-20  \n",
       "6                  NaN  \n",
       "7                  NaN  \n",
       "8           2020-10-05  \n",
       "9           2020-09-30  \n",
       "10          2020-06-23  \n",
       "11          2020-07-05  "
      ],
      "text/html": [
       "<div>\n",
       "<style scoped>\n",
       "    .dataframe tbody tr th:only-of-type {\n",
       "        vertical-align: middle;\n",
       "    }\n",
       "\n",
       "    .dataframe tbody tr th {\n",
       "        vertical-align: top;\n",
       "    }\n",
       "\n",
       "    .dataframe thead th {\n",
       "        text-align: right;\n",
       "    }\n",
       "</style>\n",
       "<table border=\"1\" class=\"dataframe\">\n",
       "  <thead>\n",
       "    <tr style=\"text-align: right;\">\n",
       "      <th></th>\n",
       "      <th>course_id</th>\n",
       "      <th>course_name</th>\n",
       "      <th>course_author</th>\n",
       "      <th>course_status</th>\n",
       "      <th>course_published_dt</th>\n",
       "    </tr>\n",
       "  </thead>\n",
       "  <tbody>\n",
       "    <tr>\n",
       "      <th>0</th>\n",
       "      <td>1</td>\n",
       "      <td>Programming using Python</td>\n",
       "      <td>Bob Dillon</td>\n",
       "      <td>published</td>\n",
       "      <td>2020-09-30</td>\n",
       "    </tr>\n",
       "    <tr>\n",
       "      <th>1</th>\n",
       "      <td>2</td>\n",
       "      <td>Data Engineering using Python</td>\n",
       "      <td>Bob Dillon</td>\n",
       "      <td>published</td>\n",
       "      <td>2020-07-15</td>\n",
       "    </tr>\n",
       "    <tr>\n",
       "      <th>2</th>\n",
       "      <td>3</td>\n",
       "      <td>Data Engineering using Scala</td>\n",
       "      <td>Elvis Presley</td>\n",
       "      <td>draft</td>\n",
       "      <td>NaN</td>\n",
       "    </tr>\n",
       "    <tr>\n",
       "      <th>3</th>\n",
       "      <td>4</td>\n",
       "      <td>Programming using Scala</td>\n",
       "      <td>Elvis Presley</td>\n",
       "      <td>published</td>\n",
       "      <td>2020-05-12</td>\n",
       "    </tr>\n",
       "    <tr>\n",
       "      <th>4</th>\n",
       "      <td>5</td>\n",
       "      <td>Programming using Java</td>\n",
       "      <td>Mike Jack</td>\n",
       "      <td>inactive</td>\n",
       "      <td>2020-08-10</td>\n",
       "    </tr>\n",
       "    <tr>\n",
       "      <th>5</th>\n",
       "      <td>6</td>\n",
       "      <td>Web Applications - Python Flask</td>\n",
       "      <td>Bob Dillon</td>\n",
       "      <td>inactive</td>\n",
       "      <td>2020-07-20</td>\n",
       "    </tr>\n",
       "    <tr>\n",
       "      <th>6</th>\n",
       "      <td>7</td>\n",
       "      <td>Web Applications - Java Spring</td>\n",
       "      <td>Bob Dillon</td>\n",
       "      <td>draft</td>\n",
       "      <td>NaN</td>\n",
       "    </tr>\n",
       "    <tr>\n",
       "      <th>7</th>\n",
       "      <td>8</td>\n",
       "      <td>Pipeline Orchestration - Python</td>\n",
       "      <td>Bob Dillon</td>\n",
       "      <td>draft</td>\n",
       "      <td>NaN</td>\n",
       "    </tr>\n",
       "    <tr>\n",
       "      <th>8</th>\n",
       "      <td>9</td>\n",
       "      <td>Streaming Pipelines - Python</td>\n",
       "      <td>Bob Dillon</td>\n",
       "      <td>published</td>\n",
       "      <td>2020-10-05</td>\n",
       "    </tr>\n",
       "    <tr>\n",
       "      <th>9</th>\n",
       "      <td>10</td>\n",
       "      <td>Web Applications - Scala Play</td>\n",
       "      <td>Elvis Presley</td>\n",
       "      <td>inactive</td>\n",
       "      <td>2020-09-30</td>\n",
       "    </tr>\n",
       "    <tr>\n",
       "      <th>10</th>\n",
       "      <td>11</td>\n",
       "      <td>Web Applications - Python Django</td>\n",
       "      <td>Bob Dillon</td>\n",
       "      <td>published</td>\n",
       "      <td>2020-06-23</td>\n",
       "    </tr>\n",
       "    <tr>\n",
       "      <th>11</th>\n",
       "      <td>12</td>\n",
       "      <td>Server Automation - Ansible</td>\n",
       "      <td>Uncle Sam</td>\n",
       "      <td>published</td>\n",
       "      <td>2020-07-05</td>\n",
       "    </tr>\n",
       "  </tbody>\n",
       "</table>\n",
       "</div>"
      ]
     },
     "execution_count": 3,
     "metadata": {},
     "output_type": "execute_result"
    }
   ],
   "execution_count": 3
  },
  {
   "metadata": {},
   "cell_type": "markdown",
   "source": "# Get all the details of the courses which are in `inactive` or `draft` state.",
   "id": "dc2aee296802cf77"
  },
  {
   "metadata": {
    "SqlCellData": {
     "data_source_name": "itversity_retail_db@localhost",
     "variableName$1": "df_sql1"
    },
    "ExecuteTime": {
     "end_time": "2025-02-11T20:22:33.008030Z",
     "start_time": "2025-02-11T20:22:32.951203700Z"
    }
   },
   "cell_type": "code",
   "source": [
    "%%sql\n",
    "SELECT * FROM courses\n",
    "WHERE course_status IN ('draft', 'inactive')"
   ],
   "id": "881185d66cb02cb7",
   "outputs": [
    {
     "data": {
      "text/plain": [
       "   course_id                      course_name  course_author course_status  \\\n",
       "0          3     Data Engineering using Scala  Elvis Presley         draft   \n",
       "1          5           Programming using Java      Mike Jack      inactive   \n",
       "2          6  Web Applications - Python Flask     Bob Dillon      inactive   \n",
       "3          7   Web Applications - Java Spring     Bob Dillon         draft   \n",
       "4          8  Pipeline Orchestration - Python     Bob Dillon         draft   \n",
       "5         10    Web Applications - Scala Play  Elvis Presley      inactive   \n",
       "\n",
       "  course_published_dt  \n",
       "0                 NaN  \n",
       "1          2020-08-10  \n",
       "2          2020-07-20  \n",
       "3                 NaN  \n",
       "4                 NaN  \n",
       "5          2020-09-30  "
      ],
      "text/html": [
       "<div>\n",
       "<style scoped>\n",
       "    .dataframe tbody tr th:only-of-type {\n",
       "        vertical-align: middle;\n",
       "    }\n",
       "\n",
       "    .dataframe tbody tr th {\n",
       "        vertical-align: top;\n",
       "    }\n",
       "\n",
       "    .dataframe thead th {\n",
       "        text-align: right;\n",
       "    }\n",
       "</style>\n",
       "<table border=\"1\" class=\"dataframe\">\n",
       "  <thead>\n",
       "    <tr style=\"text-align: right;\">\n",
       "      <th></th>\n",
       "      <th>course_id</th>\n",
       "      <th>course_name</th>\n",
       "      <th>course_author</th>\n",
       "      <th>course_status</th>\n",
       "      <th>course_published_dt</th>\n",
       "    </tr>\n",
       "  </thead>\n",
       "  <tbody>\n",
       "    <tr>\n",
       "      <th>0</th>\n",
       "      <td>3</td>\n",
       "      <td>Data Engineering using Scala</td>\n",
       "      <td>Elvis Presley</td>\n",
       "      <td>draft</td>\n",
       "      <td>NaN</td>\n",
       "    </tr>\n",
       "    <tr>\n",
       "      <th>1</th>\n",
       "      <td>5</td>\n",
       "      <td>Programming using Java</td>\n",
       "      <td>Mike Jack</td>\n",
       "      <td>inactive</td>\n",
       "      <td>2020-08-10</td>\n",
       "    </tr>\n",
       "    <tr>\n",
       "      <th>2</th>\n",
       "      <td>6</td>\n",
       "      <td>Web Applications - Python Flask</td>\n",
       "      <td>Bob Dillon</td>\n",
       "      <td>inactive</td>\n",
       "      <td>2020-07-20</td>\n",
       "    </tr>\n",
       "    <tr>\n",
       "      <th>3</th>\n",
       "      <td>7</td>\n",
       "      <td>Web Applications - Java Spring</td>\n",
       "      <td>Bob Dillon</td>\n",
       "      <td>draft</td>\n",
       "      <td>NaN</td>\n",
       "    </tr>\n",
       "    <tr>\n",
       "      <th>4</th>\n",
       "      <td>8</td>\n",
       "      <td>Pipeline Orchestration - Python</td>\n",
       "      <td>Bob Dillon</td>\n",
       "      <td>draft</td>\n",
       "      <td>NaN</td>\n",
       "    </tr>\n",
       "    <tr>\n",
       "      <th>5</th>\n",
       "      <td>10</td>\n",
       "      <td>Web Applications - Scala Play</td>\n",
       "      <td>Elvis Presley</td>\n",
       "      <td>inactive</td>\n",
       "      <td>2020-09-30</td>\n",
       "    </tr>\n",
       "  </tbody>\n",
       "</table>\n",
       "</div>"
      ]
     },
     "execution_count": 5,
     "metadata": {},
     "output_type": "execute_result"
    }
   ],
   "execution_count": 5
  },
  {
   "metadata": {},
   "cell_type": "markdown",
   "source": "# Get all the details of the courses which are related to `Python` or `Scala`.",
   "id": "8b40f259729d9def"
  },
  {
   "metadata": {
    "SqlCellData": {
     "data_source_name": "itversity_retail_db@localhost",
     "variableName$1": "df_sql2"
    },
    "ExecuteTime": {
     "end_time": "2025-02-11T20:26:12.678049Z",
     "start_time": "2025-02-11T20:26:12.624197600Z"
    }
   },
   "cell_type": "code",
   "source": [
    "%%sql\n",
    "SELECT * FROM courses\n",
    "WHERE course_name LIKE '%Scala%'\n",
    "   OR course_name LIKE '%Python%'"
   ],
   "id": "23ffecea055a9592",
   "outputs": [
    {
     "data": {
      "text/plain": [
       "   course_id                       course_name  course_author course_status  \\\n",
       "0          1          Programming using Python     Bob Dillon     published   \n",
       "1          2     Data Engineering using Python     Bob Dillon     published   \n",
       "2          3      Data Engineering using Scala  Elvis Presley         draft   \n",
       "3          4           Programming using Scala  Elvis Presley     published   \n",
       "4          6   Web Applications - Python Flask     Bob Dillon      inactive   \n",
       "5          8   Pipeline Orchestration - Python     Bob Dillon         draft   \n",
       "6          9      Streaming Pipelines - Python     Bob Dillon     published   \n",
       "7         10     Web Applications - Scala Play  Elvis Presley      inactive   \n",
       "8         11  Web Applications - Python Django     Bob Dillon     published   \n",
       "\n",
       "  course_published_dt  \n",
       "0          2020-09-30  \n",
       "1          2020-07-15  \n",
       "2                 NaN  \n",
       "3          2020-05-12  \n",
       "4          2020-07-20  \n",
       "5                 NaN  \n",
       "6          2020-10-05  \n",
       "7          2020-09-30  \n",
       "8          2020-06-23  "
      ],
      "text/html": [
       "<div>\n",
       "<style scoped>\n",
       "    .dataframe tbody tr th:only-of-type {\n",
       "        vertical-align: middle;\n",
       "    }\n",
       "\n",
       "    .dataframe tbody tr th {\n",
       "        vertical-align: top;\n",
       "    }\n",
       "\n",
       "    .dataframe thead th {\n",
       "        text-align: right;\n",
       "    }\n",
       "</style>\n",
       "<table border=\"1\" class=\"dataframe\">\n",
       "  <thead>\n",
       "    <tr style=\"text-align: right;\">\n",
       "      <th></th>\n",
       "      <th>course_id</th>\n",
       "      <th>course_name</th>\n",
       "      <th>course_author</th>\n",
       "      <th>course_status</th>\n",
       "      <th>course_published_dt</th>\n",
       "    </tr>\n",
       "  </thead>\n",
       "  <tbody>\n",
       "    <tr>\n",
       "      <th>0</th>\n",
       "      <td>1</td>\n",
       "      <td>Programming using Python</td>\n",
       "      <td>Bob Dillon</td>\n",
       "      <td>published</td>\n",
       "      <td>2020-09-30</td>\n",
       "    </tr>\n",
       "    <tr>\n",
       "      <th>1</th>\n",
       "      <td>2</td>\n",
       "      <td>Data Engineering using Python</td>\n",
       "      <td>Bob Dillon</td>\n",
       "      <td>published</td>\n",
       "      <td>2020-07-15</td>\n",
       "    </tr>\n",
       "    <tr>\n",
       "      <th>2</th>\n",
       "      <td>3</td>\n",
       "      <td>Data Engineering using Scala</td>\n",
       "      <td>Elvis Presley</td>\n",
       "      <td>draft</td>\n",
       "      <td>NaN</td>\n",
       "    </tr>\n",
       "    <tr>\n",
       "      <th>3</th>\n",
       "      <td>4</td>\n",
       "      <td>Programming using Scala</td>\n",
       "      <td>Elvis Presley</td>\n",
       "      <td>published</td>\n",
       "      <td>2020-05-12</td>\n",
       "    </tr>\n",
       "    <tr>\n",
       "      <th>4</th>\n",
       "      <td>6</td>\n",
       "      <td>Web Applications - Python Flask</td>\n",
       "      <td>Bob Dillon</td>\n",
       "      <td>inactive</td>\n",
       "      <td>2020-07-20</td>\n",
       "    </tr>\n",
       "    <tr>\n",
       "      <th>5</th>\n",
       "      <td>8</td>\n",
       "      <td>Pipeline Orchestration - Python</td>\n",
       "      <td>Bob Dillon</td>\n",
       "      <td>draft</td>\n",
       "      <td>NaN</td>\n",
       "    </tr>\n",
       "    <tr>\n",
       "      <th>6</th>\n",
       "      <td>9</td>\n",
       "      <td>Streaming Pipelines - Python</td>\n",
       "      <td>Bob Dillon</td>\n",
       "      <td>published</td>\n",
       "      <td>2020-10-05</td>\n",
       "    </tr>\n",
       "    <tr>\n",
       "      <th>7</th>\n",
       "      <td>10</td>\n",
       "      <td>Web Applications - Scala Play</td>\n",
       "      <td>Elvis Presley</td>\n",
       "      <td>inactive</td>\n",
       "      <td>2020-09-30</td>\n",
       "    </tr>\n",
       "    <tr>\n",
       "      <th>8</th>\n",
       "      <td>11</td>\n",
       "      <td>Web Applications - Python Django</td>\n",
       "      <td>Bob Dillon</td>\n",
       "      <td>published</td>\n",
       "      <td>2020-06-23</td>\n",
       "    </tr>\n",
       "  </tbody>\n",
       "</table>\n",
       "</div>"
      ]
     },
     "execution_count": 13,
     "metadata": {},
     "output_type": "execute_result"
    }
   ],
   "execution_count": 13
  },
  {
   "metadata": {},
   "cell_type": "markdown",
   "source": "# Get count of courses by `course_status`. The output should contain `course_status` and `course_count`.",
   "id": "4996c8e2b9dad2e"
  },
  {
   "metadata": {
    "SqlCellData": {
     "data_source_name": "itversity_retail_db@localhost",
     "variableName$1": "df_sql3"
    },
    "ExecuteTime": {
     "end_time": "2025-02-11T20:28:50.946487Z",
     "start_time": "2025-02-11T20:28:50.902846900Z"
    }
   },
   "cell_type": "code",
   "source": [
    "%%sql\n",
    "SELECT course_status, count(*) FROM courses\n",
    "GROUP BY course_status;"
   ],
   "id": "6f31a483f571e69f",
   "outputs": [
    {
     "data": {
      "text/plain": [
       "  course_status  count\n",
       "0     published      6\n",
       "1      inactive      3\n",
       "2         draft      3"
      ],
      "text/html": [
       "<div>\n",
       "<style scoped>\n",
       "    .dataframe tbody tr th:only-of-type {\n",
       "        vertical-align: middle;\n",
       "    }\n",
       "\n",
       "    .dataframe tbody tr th {\n",
       "        vertical-align: top;\n",
       "    }\n",
       "\n",
       "    .dataframe thead th {\n",
       "        text-align: right;\n",
       "    }\n",
       "</style>\n",
       "<table border=\"1\" class=\"dataframe\">\n",
       "  <thead>\n",
       "    <tr style=\"text-align: right;\">\n",
       "      <th></th>\n",
       "      <th>course_status</th>\n",
       "      <th>count</th>\n",
       "    </tr>\n",
       "  </thead>\n",
       "  <tbody>\n",
       "    <tr>\n",
       "      <th>0</th>\n",
       "      <td>published</td>\n",
       "      <td>6</td>\n",
       "    </tr>\n",
       "    <tr>\n",
       "      <th>1</th>\n",
       "      <td>inactive</td>\n",
       "      <td>3</td>\n",
       "    </tr>\n",
       "    <tr>\n",
       "      <th>2</th>\n",
       "      <td>draft</td>\n",
       "      <td>3</td>\n",
       "    </tr>\n",
       "  </tbody>\n",
       "</table>\n",
       "</div>"
      ]
     },
     "execution_count": 15,
     "metadata": {},
     "output_type": "execute_result"
    }
   ],
   "execution_count": 15
  },
  {
   "metadata": {},
   "cell_type": "markdown",
   "source": "# Get count of `published` courses by `course_author`. The output should contain `course_author` and `course_count`.",
   "id": "301a393b6d74362f"
  },
  {
   "metadata": {
    "SqlCellData": {
     "data_source_name": "itversity_retail_db@localhost",
     "variableName$1": "df_sql4"
    },
    "ExecuteTime": {
     "end_time": "2025-02-11T20:33:44.478585Z",
     "start_time": "2025-02-11T20:33:44.428641800Z"
    }
   },
   "cell_type": "code",
   "source": [
    "%%sql\n",
    "SELECT  course_author, count(*) FROM courses\n",
    "WHERE course_status = 'published'\n",
    "GROUP BY course_author;"
   ],
   "id": "2fc20f41843ee16c",
   "outputs": [
    {
     "data": {
      "text/plain": [
       "   course_author  count\n",
       "0     Bob Dillon      4\n",
       "1  Elvis Presley      1\n",
       "2      Uncle Sam      1"
      ],
      "text/html": [
       "<div>\n",
       "<style scoped>\n",
       "    .dataframe tbody tr th:only-of-type {\n",
       "        vertical-align: middle;\n",
       "    }\n",
       "\n",
       "    .dataframe tbody tr th {\n",
       "        vertical-align: top;\n",
       "    }\n",
       "\n",
       "    .dataframe thead th {\n",
       "        text-align: right;\n",
       "    }\n",
       "</style>\n",
       "<table border=\"1\" class=\"dataframe\">\n",
       "  <thead>\n",
       "    <tr style=\"text-align: right;\">\n",
       "      <th></th>\n",
       "      <th>course_author</th>\n",
       "      <th>count</th>\n",
       "    </tr>\n",
       "  </thead>\n",
       "  <tbody>\n",
       "    <tr>\n",
       "      <th>0</th>\n",
       "      <td>Bob Dillon</td>\n",
       "      <td>4</td>\n",
       "    </tr>\n",
       "    <tr>\n",
       "      <th>1</th>\n",
       "      <td>Elvis Presley</td>\n",
       "      <td>1</td>\n",
       "    </tr>\n",
       "    <tr>\n",
       "      <th>2</th>\n",
       "      <td>Uncle Sam</td>\n",
       "      <td>1</td>\n",
       "    </tr>\n",
       "  </tbody>\n",
       "</table>\n",
       "</div>"
      ]
     },
     "execution_count": 18,
     "metadata": {},
     "output_type": "execute_result"
    }
   ],
   "execution_count": 18
  },
  {
   "metadata": {},
   "cell_type": "markdown",
   "source": "# Get all the details of `Python` or `Scala` related courses in `draft` status.",
   "id": "31765fcc610aff9"
  },
  {
   "metadata": {
    "SqlCellData": {
     "data_source_name": "itversity_retail_db@localhost",
     "variableName$1": "df_sql5"
    },
    "ExecuteTime": {
     "end_time": "2025-02-11T20:36:14.489484Z",
     "start_time": "2025-02-11T20:36:14.435747400Z"
    }
   },
   "cell_type": "code",
   "source": [
    "%%sql\n",
    "SELECT * FROM courses\n",
    "WHERE (course_name LIKE '%Scala%'\n",
    "  OR course_name LIKE '%Python%')\n",
    "  AND course_status = 'draft'"
   ],
   "id": "99f0bdba15eceb39",
   "outputs": [
    {
     "data": {
      "text/plain": [
       "   course_id                      course_name  course_author course_status  \\\n",
       "0          3     Data Engineering using Scala  Elvis Presley         draft   \n",
       "1          8  Pipeline Orchestration - Python     Bob Dillon         draft   \n",
       "\n",
       "   course_published_dt  \n",
       "0                  NaN  \n",
       "1                  NaN  "
      ],
      "text/html": [
       "<div>\n",
       "<style scoped>\n",
       "    .dataframe tbody tr th:only-of-type {\n",
       "        vertical-align: middle;\n",
       "    }\n",
       "\n",
       "    .dataframe tbody tr th {\n",
       "        vertical-align: top;\n",
       "    }\n",
       "\n",
       "    .dataframe thead th {\n",
       "        text-align: right;\n",
       "    }\n",
       "</style>\n",
       "<table border=\"1\" class=\"dataframe\">\n",
       "  <thead>\n",
       "    <tr style=\"text-align: right;\">\n",
       "      <th></th>\n",
       "      <th>course_id</th>\n",
       "      <th>course_name</th>\n",
       "      <th>course_author</th>\n",
       "      <th>course_status</th>\n",
       "      <th>course_published_dt</th>\n",
       "    </tr>\n",
       "  </thead>\n",
       "  <tbody>\n",
       "    <tr>\n",
       "      <th>0</th>\n",
       "      <td>3</td>\n",
       "      <td>Data Engineering using Scala</td>\n",
       "      <td>Elvis Presley</td>\n",
       "      <td>draft</td>\n",
       "      <td>NaN</td>\n",
       "    </tr>\n",
       "    <tr>\n",
       "      <th>1</th>\n",
       "      <td>8</td>\n",
       "      <td>Pipeline Orchestration - Python</td>\n",
       "      <td>Bob Dillon</td>\n",
       "      <td>draft</td>\n",
       "      <td>NaN</td>\n",
       "    </tr>\n",
       "  </tbody>\n",
       "</table>\n",
       "</div>"
      ]
     },
     "execution_count": 21,
     "metadata": {},
     "output_type": "execute_result"
    }
   ],
   "execution_count": 21
  },
  {
   "metadata": {},
   "cell_type": "markdown",
   "source": "# Get the author and count where the author have more than **one published** course. The output should contain `course_author` and `course_count`.",
   "id": "befdd92fbf9f14a"
  },
  {
   "metadata": {
    "SqlCellData": {
     "data_source_name": "itversity_retail_db@localhost",
     "variableName$1": "df_sql6"
    },
    "ExecuteTime": {
     "end_time": "2025-02-11T20:38:48.048720Z",
     "start_time": "2025-02-11T20:38:48.004210400Z"
    }
   },
   "cell_type": "code",
   "source": [
    "%%sql\n",
    "SELECT courses.course_author, count(*)\n",
    "FROM courses\n",
    "GROUP BY course_author\n",
    "HAVING count(*) > 1;"
   ],
   "id": "d4cb924841a2cf64",
   "outputs": [
    {
     "data": {
      "text/plain": [
       "   course_author  count\n",
       "0     Bob Dillon      7\n",
       "1  Elvis Presley      3"
      ],
      "text/html": [
       "<div>\n",
       "<style scoped>\n",
       "    .dataframe tbody tr th:only-of-type {\n",
       "        vertical-align: middle;\n",
       "    }\n",
       "\n",
       "    .dataframe tbody tr th {\n",
       "        vertical-align: top;\n",
       "    }\n",
       "\n",
       "    .dataframe thead th {\n",
       "        text-align: right;\n",
       "    }\n",
       "</style>\n",
       "<table border=\"1\" class=\"dataframe\">\n",
       "  <thead>\n",
       "    <tr style=\"text-align: right;\">\n",
       "      <th></th>\n",
       "      <th>course_author</th>\n",
       "      <th>count</th>\n",
       "    </tr>\n",
       "  </thead>\n",
       "  <tbody>\n",
       "    <tr>\n",
       "      <th>0</th>\n",
       "      <td>Bob Dillon</td>\n",
       "      <td>7</td>\n",
       "    </tr>\n",
       "    <tr>\n",
       "      <th>1</th>\n",
       "      <td>Elvis Presley</td>\n",
       "      <td>3</td>\n",
       "    </tr>\n",
       "  </tbody>\n",
       "</table>\n",
       "</div>"
      ]
     },
     "execution_count": 23,
     "metadata": {},
     "output_type": "execute_result"
    }
   ],
   "execution_count": 23
  },
  {
   "cell_type": "code",
   "id": "initial_id",
   "metadata": {
    "collapsed": true
   },
   "source": "",
   "outputs": [],
   "execution_count": null
  },
  {
   "metadata": {},
   "cell_type": "code",
   "source": "",
   "id": "816bf163ca5fefe7",
   "outputs": [],
   "execution_count": null
  }
 ],
 "metadata": {
  "kernelspec": {
   "display_name": "Python 3",
   "language": "python",
   "name": "python3"
  },
  "language_info": {
   "codemirror_mode": {
    "name": "ipython",
    "version": 2
   },
   "file_extension": ".py",
   "mimetype": "text/x-python",
   "name": "python",
   "nbconvert_exporter": "python",
   "pygments_lexer": "ipython2",
   "version": "2.7.6"
  }
 },
 "nbformat": 4,
 "nbformat_minor": 5
}
