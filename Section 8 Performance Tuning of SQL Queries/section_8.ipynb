{
 "cells": [
  {
   "metadata": {},
   "cell_type": "markdown",
   "source": "# 79. Introduction to Performance Tuning of SQL",
   "id": "740d180fbe7dcc14"
  },
  {
   "metadata": {},
   "cell_type": "markdown",
   "source": "# 80. Overview of SQL Compilation Process and Explain Plans",
   "id": "e7dbb5405c5d1db4"
  },
  {
   "metadata": {},
   "cell_type": "markdown",
   "source": "# 81. Generate Explain Plans for SQL Queries",
   "id": "c44584b9ef6a253e"
  },
  {
   "metadata": {
    "SqlCellData": {
     "data_source_name": "itversity_retail_db@localhost",
     "variableName$1": "df_sql"
    },
    "ExecuteTime": {
     "end_time": "2025-02-10T18:16:43.365013Z",
     "start_time": "2025-02-10T18:16:41.285681600Z"
    }
   },
   "cell_type": "code",
   "source": [
    "%%sql\n",
    "EXPLAIN\n",
    "SELECT * FROM orders WHERE order_id = 2;"
   ],
   "id": "7c4971d7a8d10b",
   "outputs": [
    {
     "data": {
      "text/plain": [
       "                                          QUERY PLAN\n",
       "0  Index Scan using orders_pkey on orders  (cost=...\n",
       "1                         Index Cond: (order_id = 2)"
      ],
      "text/html": [
       "<div>\n",
       "<style scoped>\n",
       "    .dataframe tbody tr th:only-of-type {\n",
       "        vertical-align: middle;\n",
       "    }\n",
       "\n",
       "    .dataframe tbody tr th {\n",
       "        vertical-align: top;\n",
       "    }\n",
       "\n",
       "    .dataframe thead th {\n",
       "        text-align: right;\n",
       "    }\n",
       "</style>\n",
       "<table border=\"1\" class=\"dataframe\">\n",
       "  <thead>\n",
       "    <tr style=\"text-align: right;\">\n",
       "      <th></th>\n",
       "      <th>QUERY PLAN</th>\n",
       "    </tr>\n",
       "  </thead>\n",
       "  <tbody>\n",
       "    <tr>\n",
       "      <th>0</th>\n",
       "      <td>Index Scan using orders_pkey on orders  (cost=...</td>\n",
       "    </tr>\n",
       "    <tr>\n",
       "      <th>1</th>\n",
       "      <td>Index Cond: (order_id = 2)</td>\n",
       "    </tr>\n",
       "  </tbody>\n",
       "</table>\n",
       "</div>"
      ]
     },
     "execution_count": 1,
     "metadata": {},
     "output_type": "execute_result"
    }
   ],
   "execution_count": 1
  },
  {
   "metadata": {
    "SqlCellData": {
     "data_source_name": "itversity_retail_db@localhost",
     "variableName$1": "df_sql2"
    },
    "ExecuteTime": {
     "end_time": "2025-02-10T18:20:14.241358Z",
     "start_time": "2025-02-10T18:20:14.203232400Z"
    }
   },
   "cell_type": "code",
   "source": [
    "%%sql\n",
    "EXPLAIN\n",
    "SELECT o.*,\n",
    "    round(sum(oi.order_item_subtotal)::numeric, 2) AS revenue\n",
    "FROM orders AS o\n",
    "    JOIN order_items AS oi\n",
    "        ON o.order_id = oi.order_item_order_id\n",
    "WHERE o.order_id = 2\n",
    "GROUP BY o.order_id,\n",
    "         o.order_date,\n",
    "         o.order_customer_id,\n",
    "         o.order_status;"
   ],
   "id": "f467508670994774",
   "outputs": [
    {
     "data": {
      "text/plain": [
       "                                          QUERY PLAN\n",
       "0  GroupAggregate  (cost=0.29..3427.85 rows=1 wid...\n",
       "1    ->  Nested Loop  (cost=0.29..3427.82 rows=4 ...\n",
       "2          ->  Index Scan using orders_pkey on or...\n",
       "3                         Index Cond: (order_id = 2)\n",
       "4          ->  Seq Scan on order_items oi  (cost=...\n",
       "5                  Filter: (order_item_order_id = 2)"
      ],
      "text/html": [
       "<div>\n",
       "<style scoped>\n",
       "    .dataframe tbody tr th:only-of-type {\n",
       "        vertical-align: middle;\n",
       "    }\n",
       "\n",
       "    .dataframe tbody tr th {\n",
       "        vertical-align: top;\n",
       "    }\n",
       "\n",
       "    .dataframe thead th {\n",
       "        text-align: right;\n",
       "    }\n",
       "</style>\n",
       "<table border=\"1\" class=\"dataframe\">\n",
       "  <thead>\n",
       "    <tr style=\"text-align: right;\">\n",
       "      <th></th>\n",
       "      <th>QUERY PLAN</th>\n",
       "    </tr>\n",
       "  </thead>\n",
       "  <tbody>\n",
       "    <tr>\n",
       "      <th>0</th>\n",
       "      <td>GroupAggregate  (cost=0.29..3427.85 rows=1 wid...</td>\n",
       "    </tr>\n",
       "    <tr>\n",
       "      <th>1</th>\n",
       "      <td>-&gt;  Nested Loop  (cost=0.29..3427.82 rows=4 ...</td>\n",
       "    </tr>\n",
       "    <tr>\n",
       "      <th>2</th>\n",
       "      <td>-&gt;  Index Scan using orders_pkey on or...</td>\n",
       "    </tr>\n",
       "    <tr>\n",
       "      <th>3</th>\n",
       "      <td>Index Cond: (order_id = 2)</td>\n",
       "    </tr>\n",
       "    <tr>\n",
       "      <th>4</th>\n",
       "      <td>-&gt;  Seq Scan on order_items oi  (cost=...</td>\n",
       "    </tr>\n",
       "    <tr>\n",
       "      <th>5</th>\n",
       "      <td>Filter: (order_item_order_id = 2)</td>\n",
       "    </tr>\n",
       "  </tbody>\n",
       "</table>\n",
       "</div>"
      ]
     },
     "execution_count": 5,
     "metadata": {},
     "output_type": "execute_result"
    }
   ],
   "execution_count": 5
  },
  {
   "metadata": {},
   "cell_type": "markdown",
   "source": "# 82. Review Tables used for Performance Tuning of SQL Queries",
   "id": "44695f4ce98d31eb"
  },
  {
   "metadata": {
    "SqlCellData": {
     "data_source_name": "itversity_retail_db@localhost",
     "variableName$1": "df_sql3"
    }
   },
   "cell_type": "code",
   "outputs": [],
   "execution_count": null,
   "source": [
    "%%sql\n",
    "DROP INDEX orders_order_date_idx;\n",
    "DROP INDEX order_items_oid_idx;"
   ],
   "id": "7820b21697a6616c"
  },
  {
   "metadata": {
    "SqlCellData": {
     "data_source_name": "itversity_retail_db@localhost",
     "variableName$1": "df_sql5"
    },
    "ExecuteTime": {
     "end_time": "2025-02-10T18:36:12.883337300Z",
     "start_time": "2025-02-10T18:36:12.860006200Z"
    }
   },
   "cell_type": "code",
   "execution_count": null,
   "source": [
    "%%sql\n",
    "COMMIT;"
   ],
   "id": "7ce84c3d0f5478e3",
   "outputs": []
  },
  {
   "metadata": {
    "SqlCellData": {
     "data_source_name": "itversity_retail_db@localhost",
     "variableName$1": "df_sql7"
    },
    "ExecuteTime": {
     "end_time": "2025-02-10T18:36:03.203219Z",
     "start_time": "2025-02-10T18:36:03.143713700Z"
    }
   },
   "cell_type": "code",
   "execution_count": null,
   "source": [
    "%%sql\n",
    "ALTER TABLE order_items ADD\n",
    "FOREIGN KEY (order_item_order_id) REFERENCES orders (order_id)"
   ],
   "id": "9199552f24696440",
   "outputs": []
  },
  {
   "metadata": {},
   "cell_type": "markdown",
   "source": "# 83. Review Data Storage Internals for Tables and Indexes",
   "id": "a5913fa53ef00201"
  },
  {
   "metadata": {},
   "cell_type": "markdown",
   "source": "# 84. Review key terms used in Explain Plans for SQL Queries",
   "id": "3545e768b1c821bb"
  },
  {
   "metadata": {},
   "cell_type": "markdown",
   "source": "# 85. Interpret Explain Plans for Basic SQL Queries",
   "id": "7a97c0bf1ca1a236"
  },
  {
   "cell_type": "code",
   "execution_count": null,
   "id": "initial_id",
   "metadata": {
    "collapsed": true
   },
   "outputs": [],
   "source": ""
  }
 ],
 "metadata": {
  "kernelspec": {
   "display_name": "Python 3",
   "language": "python",
   "name": "python3"
  },
  "language_info": {
   "codemirror_mode": {
    "name": "ipython",
    "version": 2
   },
   "file_extension": ".py",
   "mimetype": "text/x-python",
   "name": "python",
   "nbconvert_exporter": "python",
   "pygments_lexer": "ipython2",
   "version": "2.7.6"
  }
 },
 "nbformat": 4,
 "nbformat_minor": 5
}
