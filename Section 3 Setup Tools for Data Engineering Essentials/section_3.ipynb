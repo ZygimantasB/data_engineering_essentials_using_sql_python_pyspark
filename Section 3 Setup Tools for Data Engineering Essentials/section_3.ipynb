{
 "cells": [
  {
   "metadata": {},
   "cell_type": "markdown",
   "source": "# 18. Introduction to Setting up Tools for Data Engineering Essentials",
   "id": "5d6a6205b0a8f3ce"
  },
  {
   "metadata": {},
   "cell_type": "markdown",
   "source": "# 19. Setup VS Code on Windows",
   "id": "d748786a46f5fc9c"
  },
  {
   "metadata": {},
   "cell_type": "markdown",
   "source": "# 20. Setup Python 3.9 on Windows",
   "id": "c3349e61eb1bfe0e"
  },
  {
   "metadata": {},
   "cell_type": "markdown",
   "source": "# 21. Configure Environment Variable PATH for Python on Windows",
   "id": "17c2e555df8dfcb4"
  },
  {
   "metadata": {},
   "cell_type": "markdown",
   "source": "# 22. Overview of learning Python using Python CLI",
   "id": "b6bfcc5e2e498ae8"
  },
  {
   "metadata": {},
   "cell_type": "markdown",
   "source": "# 23. Integrate VSCode with Python on Windows",
   "id": "34637af96fb510fa"
  },
  {
   "metadata": {},
   "cell_type": "markdown",
   "source": "# 24. Install Postgres 14 on Windows 11",
   "id": "1d2f386e7340f09d"
  },
  {
   "metadata": {},
   "cell_type": "markdown",
   "source": "# 25. Getting Started with pgAdmin on Windows",
   "id": "1553c240bf5b4f89"
  },
  {
   "metadata": {},
   "cell_type": "markdown",
   "source": "# 27. Conclusion of Setting up Tools for Data Engineering Essentials",
   "id": "77807e298cb2d32b"
  },
  {
   "metadata": {
    "SqlCellData": {
     "data_source_name": "postgres@localhost",
     "variableName$1": "df_sql"
    },
    "ExecuteTime": {
     "end_time": "2025-02-01T12:29:49.170624Z",
     "start_time": "2025-02-01T12:29:47.612253600Z"
    }
   },
   "cell_type": "code",
   "source": [
    "%%sql\n",
    "SELECT table_name\n",
    "FROM information_schema.tables\n",
    "WHERE table_schema = 'public';"
   ],
   "id": "f90f42c729957336",
   "outputs": [
    {
     "data": {
      "text/plain": [
       "Empty DataFrame\n",
       "Columns: [table_name]\n",
       "Index: []"
      ],
      "text/html": [
       "<div>\n",
       "<style scoped>\n",
       "    .dataframe tbody tr th:only-of-type {\n",
       "        vertical-align: middle;\n",
       "    }\n",
       "\n",
       "    .dataframe tbody tr th {\n",
       "        vertical-align: top;\n",
       "    }\n",
       "\n",
       "    .dataframe thead th {\n",
       "        text-align: right;\n",
       "    }\n",
       "</style>\n",
       "<table border=\"1\" class=\"dataframe\">\n",
       "  <thead>\n",
       "    <tr style=\"text-align: right;\">\n",
       "      <th></th>\n",
       "      <th>table_name</th>\n",
       "    </tr>\n",
       "  </thead>\n",
       "  <tbody>\n",
       "  </tbody>\n",
       "</table>\n",
       "</div>"
      ]
     },
     "execution_count": 4,
     "metadata": {},
     "output_type": "execute_result"
    }
   ],
   "execution_count": 4
  }
 ],
 "metadata": {
  "kernelspec": {
   "display_name": "Python 3",
   "language": "python",
   "name": "python3"
  },
  "language_info": {
   "codemirror_mode": {
    "name": "ipython",
    "version": 2
   },
   "file_extension": ".py",
   "mimetype": "text/x-python",
   "name": "python",
   "nbconvert_exporter": "python",
   "pygments_lexer": "ipython2",
   "version": "2.7.6"
  }
 },
 "nbformat": 4,
 "nbformat_minor": 5
}
