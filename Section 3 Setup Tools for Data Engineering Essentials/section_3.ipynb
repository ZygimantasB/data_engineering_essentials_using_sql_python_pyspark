{
 "cells": [
  {
   "metadata": {},
   "cell_type": "markdown",
   "source": "# 18. Introduction to Setting up Tools for Data Engineering Essentials",
   "id": "5d6a6205b0a8f3ce"
  },
  {
   "metadata": {},
   "cell_type": "markdown",
   "source": "# 19. Setup VS Code on Windows",
   "id": "d748786a46f5fc9c"
  },
  {
   "metadata": {},
   "cell_type": "markdown",
   "source": "# 20. Setup Python 3.9 on Windows",
   "id": "c3349e61eb1bfe0e"
  },
  {
   "metadata": {},
   "cell_type": "markdown",
   "source": "# 21. Configure Environment Variable PATH for Python on Windows",
   "id": "17c2e555df8dfcb4"
  },
  {
   "metadata": {},
   "cell_type": "markdown",
   "source": "# 22. Overview of learning Python using Python CLI",
   "id": "b6bfcc5e2e498ae8"
  },
  {
   "metadata": {},
   "cell_type": "markdown",
   "source": "# 23. Integrate VSCode with Python on Windows",
   "id": "34637af96fb510fa"
  },
  {
   "metadata": {},
   "cell_type": "markdown",
   "source": "# 24. Install Postgres 14 on Windows 11",
   "id": "1d2f386e7340f09d"
  },
  {
   "metadata": {},
   "cell_type": "markdown",
   "source": "# 25. Getting Started with pgAdmin on Windows",
   "id": "1553c240bf5b4f89"
  },
  {
   "metadata": {},
   "cell_type": "markdown",
   "source": "# 27. Conclusion of Setting up Tools for Data Engineering Essentials",
   "id": "77807e298cb2d32b"
  },
  {
   "metadata": {
    "SqlCellData": {
     "data_source_name": "postgres@localhost",
     "variableName$1": "df_sql"
    },
    "ExecuteTime": {
     "end_time": "2025-02-01T12:32:34.996395Z",
     "start_time": "2025-02-01T12:32:34.860377500Z"
    }
   },
   "cell_type": "code",
   "source": [
    "%%sql\n",
    "SELECT table_name\n",
    "FROM information_schema.tables\n",
    "WHERE table_schema = 'public';"
   ],
   "id": "f90f42c729957336",
   "outputs": [
    {
     "ename": "Exception",
     "evalue": "[42601] ERROR: syntax error at or near \"\\\"\n  Position: 1",
     "output_type": "error",
     "traceback": [
      "\u001B[1;31m---------------------------------------------------------------------------\u001B[0m",
      "\u001B[1;31mException\u001B[0m                                 Traceback (most recent call last)",
      "Cell \u001B[1;32mIn[5], line 1\u001B[0m\n\u001B[1;32m----> 1\u001B[0m \u001B[38;5;28;01mraise\u001B[39;00m \u001B[38;5;167;01mException\u001B[39;00m(\u001B[38;5;28m__import__\u001B[39m(\u001B[38;5;124m'\u001B[39m\u001B[38;5;124mbase64\u001B[39m\u001B[38;5;124m'\u001B[39m)\u001B[38;5;241m.\u001B[39mb64decode(\u001B[38;5;124m'\u001B[39m\u001B[38;5;124mWzQyNjAxXSBFUlJPUjogc3ludGF4IGVycm9yIGF0IG9yIG5lYXIgIlwiCiAgUG9zaXRpb246IDE=\u001B[39m\u001B[38;5;124m'\u001B[39m)\u001B[38;5;241m.\u001B[39mdecode(\u001B[38;5;124m'\u001B[39m\u001B[38;5;124mutf-8\u001B[39m\u001B[38;5;124m'\u001B[39m))\n",
      "\u001B[1;31mException\u001B[0m: [42601] ERROR: syntax error at or near \"\\\"\n  Position: 1"
     ]
    }
   ],
   "execution_count": 5
  }
 ],
 "metadata": {
  "kernelspec": {
   "display_name": "Python 3",
   "language": "python",
   "name": "python3"
  },
  "language_info": {
   "codemirror_mode": {
    "name": "ipython",
    "version": 2
   },
   "file_extension": ".py",
   "mimetype": "text/x-python",
   "name": "python",
   "nbconvert_exporter": "python",
   "pygments_lexer": "ipython2",
   "version": "2.7.6"
  }
 },
 "nbformat": 4,
 "nbformat_minor": 5
}
