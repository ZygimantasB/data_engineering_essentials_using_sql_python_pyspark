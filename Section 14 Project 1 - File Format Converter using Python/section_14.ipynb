{
 "cells": [
  {
   "metadata": {},
   "cell_type": "markdown",
   "source": "# 145. Get File Names to be processed using glob",
   "id": "dacfc21b10a68402"
  },
  {
   "cell_type": "code",
   "id": "initial_id",
   "metadata": {
    "collapsed": true,
    "ExecuteTime": {
     "end_time": "2025-02-14T19:19:55.268375Z",
     "start_time": "2025-02-14T19:19:55.264712Z"
    }
   },
   "source": "import glob",
   "outputs": [],
   "execution_count": 1
  },
  {
   "metadata": {
    "ExecuteTime": {
     "end_time": "2025-02-14T19:19:55.291565Z",
     "start_time": "2025-02-14T19:19:55.285385Z"
    }
   },
   "cell_type": "code",
   "source": "help(glob)",
   "id": "ffb0d1e8ac2770cf",
   "outputs": [
    {
     "name": "stdout",
     "output_type": "stream",
     "text": [
      "Help on module glob:\n",
      "\n",
      "NAME\n",
      "    glob - Filename globbing utility.\n",
      "\n",
      "MODULE REFERENCE\n",
      "    https://docs.python.org/3.12/library/glob.html\n",
      "\n",
      "    The following documentation is automatically generated from the Python\n",
      "    source files.  It may be incomplete, incorrect or include features that\n",
      "    are considered implementation detail and may vary between Python\n",
      "    implementations.  When in doubt, consult the module reference at the\n",
      "    location listed above.\n",
      "\n",
      "FUNCTIONS\n",
      "    escape(pathname)\n",
      "        Escape all special characters.\n",
      "\n",
      "    glob(pathname, *, root_dir=None, dir_fd=None, recursive=False, include_hidden=False)\n",
      "        Return a list of paths matching a pathname pattern.\n",
      "\n",
      "        The pattern may contain simple shell-style wildcards a la\n",
      "        fnmatch. Unlike fnmatch, filenames starting with a\n",
      "        dot are special cases that are not matched by '*' and '?'\n",
      "        patterns by default.\n",
      "\n",
      "        If `include_hidden` is true, the patterns '*', '?', '**'  will match hidden\n",
      "        directories.\n",
      "\n",
      "        If `recursive` is true, the pattern '**' will match any files and\n",
      "        zero or more directories and subdirectories.\n",
      "\n",
      "    iglob(pathname, *, root_dir=None, dir_fd=None, recursive=False, include_hidden=False)\n",
      "        Return an iterator which yields the paths matching a pathname pattern.\n",
      "\n",
      "        The pattern may contain simple shell-style wildcards a la\n",
      "        fnmatch. However, unlike fnmatch, filenames starting with a\n",
      "        dot are special cases that are not matched by '*' and '?'\n",
      "        patterns.\n",
      "\n",
      "        If recursive is true, the pattern '**' will match any files and\n",
      "        zero or more directories and subdirectories.\n",
      "\n",
      "DATA\n",
      "    __all__ = ['glob', 'iglob', 'escape']\n",
      "\n",
      "FILE\n",
      "    c:\\users\\zygim\\anaconda3\\envs\\python_3_12\\lib\\glob.py\n",
      "\n",
      "\n"
     ]
    }
   ],
   "execution_count": 2
  },
  {
   "metadata": {
    "ExecuteTime": {
     "end_time": "2025-02-14T19:19:55.459808Z",
     "start_time": "2025-02-14T19:19:55.456429Z"
    }
   },
   "cell_type": "code",
   "source": "help(glob.glob)",
   "id": "263b4a2321212995",
   "outputs": [
    {
     "name": "stdout",
     "output_type": "stream",
     "text": [
      "Help on function glob in module glob:\n",
      "\n",
      "glob(pathname, *, root_dir=None, dir_fd=None, recursive=False, include_hidden=False)\n",
      "    Return a list of paths matching a pathname pattern.\n",
      "\n",
      "    The pattern may contain simple shell-style wildcards a la\n",
      "    fnmatch. Unlike fnmatch, filenames starting with a\n",
      "    dot are special cases that are not matched by '*' and '?'\n",
      "    patterns by default.\n",
      "\n",
      "    If `include_hidden` is true, the patterns '*', '?', '**'  will match hidden\n",
      "    directories.\n",
      "\n",
      "    If `recursive` is true, the pattern '**' will match any files and\n",
      "    zero or more directories and subdirectories.\n",
      "\n"
     ]
    }
   ],
   "execution_count": 3
  },
  {
   "metadata": {
    "ExecuteTime": {
     "end_time": "2025-02-14T19:19:55.475899Z",
     "start_time": "2025-02-14T19:19:55.467560Z"
    }
   },
   "cell_type": "code",
   "source": "glob.glob('data/retail_db/*/**', recursive=True)",
   "id": "8e572ee7cbf5c177",
   "outputs": [
    {
     "data": {
      "text/plain": [
       "['data/retail_db\\\\categories\\\\',\n",
       " 'data/retail_db\\\\categories\\\\part-00000',\n",
       " 'data/retail_db\\\\customers\\\\',\n",
       " 'data/retail_db\\\\customers\\\\part-00000',\n",
       " 'data/retail_db\\\\departments\\\\',\n",
       " 'data/retail_db\\\\departments\\\\part-00000',\n",
       " 'data/retail_db\\\\orders\\\\',\n",
       " 'data/retail_db\\\\orders\\\\part-00000',\n",
       " 'data/retail_db\\\\order_items\\\\',\n",
       " 'data/retail_db\\\\order_items\\\\part-00000',\n",
       " 'data/retail_db\\\\products\\\\',\n",
       " 'data/retail_db\\\\products\\\\part-00000']"
      ]
     },
     "execution_count": 4,
     "metadata": {},
     "output_type": "execute_result"
    }
   ],
   "execution_count": 4
  },
  {
   "metadata": {
    "ExecuteTime": {
     "end_time": "2025-02-14T19:19:55.639517Z",
     "start_time": "2025-02-14T19:19:55.634416Z"
    }
   },
   "cell_type": "code",
   "source": "glob.glob('data/retail_db/*/**')",
   "id": "e99132aaf2f038a5",
   "outputs": [
    {
     "data": {
      "text/plain": [
       "['data/retail_db\\\\categories\\\\part-00000',\n",
       " 'data/retail_db\\\\customers\\\\part-00000',\n",
       " 'data/retail_db\\\\departments\\\\part-00000',\n",
       " 'data/retail_db\\\\orders\\\\part-00000',\n",
       " 'data/retail_db\\\\order_items\\\\part-00000',\n",
       " 'data/retail_db\\\\products\\\\part-00000']"
      ]
     },
     "execution_count": 5,
     "metadata": {},
     "output_type": "execute_result"
    }
   ],
   "execution_count": 5
  },
  {
   "metadata": {
    "ExecuteTime": {
     "end_time": "2025-02-14T19:19:55.692527Z",
     "start_time": "2025-02-14T19:19:55.687530Z"
    }
   },
   "cell_type": "code",
   "source": "src_file_names = glob.glob('data/retail_db/*/part-*')",
   "id": "3f3d3f85942b4ee9",
   "outputs": [],
   "execution_count": 6
  },
  {
   "metadata": {
    "ExecuteTime": {
     "end_time": "2025-02-14T19:19:55.728299Z",
     "start_time": "2025-02-14T19:19:55.723301Z"
    }
   },
   "cell_type": "code",
   "source": "src_file_names",
   "id": "69f01ceecae09c3f",
   "outputs": [
    {
     "data": {
      "text/plain": [
       "['data/retail_db\\\\categories\\\\part-00000',\n",
       " 'data/retail_db\\\\customers\\\\part-00000',\n",
       " 'data/retail_db\\\\departments\\\\part-00000',\n",
       " 'data/retail_db\\\\orders\\\\part-00000',\n",
       " 'data/retail_db\\\\order_items\\\\part-00000',\n",
       " 'data/retail_db\\\\products\\\\part-00000']"
      ]
     },
     "execution_count": 7,
     "metadata": {},
     "output_type": "execute_result"
    }
   ],
   "execution_count": 7
  },
  {
   "metadata": {
    "ExecuteTime": {
     "end_time": "2025-02-14T19:19:56.183637Z",
     "start_time": "2025-02-14T19:19:55.774877Z"
    }
   },
   "cell_type": "code",
   "source": "import pandas as pd",
   "id": "c8869e001031a3ca",
   "outputs": [],
   "execution_count": 8
  },
  {
   "metadata": {
    "ExecuteTime": {
     "end_time": "2025-02-14T19:22:14.256704Z",
     "start_time": "2025-02-14T19:22:14.149987Z"
    }
   },
   "cell_type": "code",
   "source": [
    "for file_name in src_file_names:\n",
    "    df = pd.read_csv(file_name, header=None)\n",
    "    print(f'Shape of {file_name} is {df.shape}')"
   ],
   "id": "1efe06c2f962b436",
   "outputs": [
    {
     "name": "stdout",
     "output_type": "stream",
     "text": [
      "Shape of data/retail_db\\categories\\part-00000 is (58, 3)\n",
      "Shape of data/retail_db\\customers\\part-00000 is (12435, 9)\n",
      "Shape of data/retail_db\\departments\\part-00000 is (6, 2)\n",
      "Shape of data/retail_db\\orders\\part-00000 is (68883, 4)\n",
      "Shape of data/retail_db\\order_items\\part-00000 is (172198, 6)\n",
      "Shape of data/retail_db\\products\\part-00000 is (1345, 6)\n"
     ]
    }
   ],
   "execution_count": 11
  },
  {
   "metadata": {},
   "cell_type": "markdown",
   "source": "# 146. Get Column Names using Schemas File",
   "id": "b9267fd57ac38d15"
  },
  {
   "metadata": {},
   "cell_type": "code",
   "outputs": [],
   "execution_count": null,
   "source": "",
   "id": "33619052a63ab866"
  }
 ],
 "metadata": {
  "kernelspec": {
   "display_name": "Python 3",
   "language": "python",
   "name": "python3"
  },
  "language_info": {
   "codemirror_mode": {
    "name": "ipython",
    "version": 2
   },
   "file_extension": ".py",
   "mimetype": "text/x-python",
   "name": "python",
   "nbconvert_exporter": "python",
   "pygments_lexer": "ipython2",
   "version": "2.7.6"
  }
 },
 "nbformat": 4,
 "nbformat_minor": 5
}
