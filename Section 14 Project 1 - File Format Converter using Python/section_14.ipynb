{
 "cells": [
  {
   "metadata": {},
   "cell_type": "markdown",
   "source": "# 145. Get File Names to be processed using glob",
   "id": "dacfc21b10a68402"
  },
  {
   "cell_type": "code",
   "id": "initial_id",
   "metadata": {
    "collapsed": true,
    "ExecuteTime": {
     "end_time": "2025-02-14T19:19:55.268375Z",
     "start_time": "2025-02-14T19:19:55.264712Z"
    }
   },
   "source": [
    "import glob\n",
    "from email.feedparser import headerRE"
   ],
   "outputs": [],
   "execution_count": 1
  },
  {
   "metadata": {
    "ExecuteTime": {
     "end_time": "2025-02-14T19:19:55.291565Z",
     "start_time": "2025-02-14T19:19:55.285385Z"
    }
   },
   "cell_type": "code",
   "source": "help(glob)",
   "id": "ffb0d1e8ac2770cf",
   "outputs": [
    {
     "name": "stdout",
     "output_type": "stream",
     "text": [
      "Help on module glob:\n",
      "\n",
      "NAME\n",
      "    glob - Filename globbing utility.\n",
      "\n",
      "MODULE REFERENCE\n",
      "    https://docs.python.org/3.12/library/glob.html\n",
      "\n",
      "    The following documentation is automatically generated from the Python\n",
      "    source files.  It may be incomplete, incorrect or include features that\n",
      "    are considered implementation detail and may vary between Python\n",
      "    implementations.  When in doubt, consult the module reference at the\n",
      "    location listed above.\n",
      "\n",
      "FUNCTIONS\n",
      "    escape(pathname)\n",
      "        Escape all special characters.\n",
      "\n",
      "    glob(pathname, *, root_dir=None, dir_fd=None, recursive=False, include_hidden=False)\n",
      "        Return a list of paths matching a pathname pattern.\n",
      "\n",
      "        The pattern may contain simple shell-style wildcards a la\n",
      "        fnmatch. Unlike fnmatch, filenames starting with a\n",
      "        dot are special cases that are not matched by '*' and '?'\n",
      "        patterns by default.\n",
      "\n",
      "        If `include_hidden` is true, the patterns '*', '?', '**'  will match hidden\n",
      "        directories.\n",
      "\n",
      "        If `recursive` is true, the pattern '**' will match any files and\n",
      "        zero or more directories and subdirectories.\n",
      "\n",
      "    iglob(pathname, *, root_dir=None, dir_fd=None, recursive=False, include_hidden=False)\n",
      "        Return an iterator which yields the paths matching a pathname pattern.\n",
      "\n",
      "        The pattern may contain simple shell-style wildcards a la\n",
      "        fnmatch. However, unlike fnmatch, filenames starting with a\n",
      "        dot are special cases that are not matched by '*' and '?'\n",
      "        patterns.\n",
      "\n",
      "        If recursive is true, the pattern '**' will match any files and\n",
      "        zero or more directories and subdirectories.\n",
      "\n",
      "DATA\n",
      "    __all__ = ['glob', 'iglob', 'escape']\n",
      "\n",
      "FILE\n",
      "    c:\\users\\zygim\\anaconda3\\envs\\python_3_12\\lib\\glob.py\n",
      "\n",
      "\n"
     ]
    }
   ],
   "execution_count": 2
  },
  {
   "metadata": {
    "ExecuteTime": {
     "end_time": "2025-02-14T19:19:55.459808Z",
     "start_time": "2025-02-14T19:19:55.456429Z"
    }
   },
   "cell_type": "code",
   "source": "help(glob.glob)",
   "id": "263b4a2321212995",
   "outputs": [
    {
     "name": "stdout",
     "output_type": "stream",
     "text": [
      "Help on function glob in module glob:\n",
      "\n",
      "glob(pathname, *, root_dir=None, dir_fd=None, recursive=False, include_hidden=False)\n",
      "    Return a list of paths matching a pathname pattern.\n",
      "\n",
      "    The pattern may contain simple shell-style wildcards a la\n",
      "    fnmatch. Unlike fnmatch, filenames starting with a\n",
      "    dot are special cases that are not matched by '*' and '?'\n",
      "    patterns by default.\n",
      "\n",
      "    If `include_hidden` is true, the patterns '*', '?', '**'  will match hidden\n",
      "    directories.\n",
      "\n",
      "    If `recursive` is true, the pattern '**' will match any files and\n",
      "    zero or more directories and subdirectories.\n",
      "\n"
     ]
    }
   ],
   "execution_count": 3
  },
  {
   "metadata": {
    "ExecuteTime": {
     "end_time": "2025-02-14T19:19:55.475899Z",
     "start_time": "2025-02-14T19:19:55.467560Z"
    }
   },
   "cell_type": "code",
   "source": "glob.glob('data/retail_db/*/**', recursive=True)",
   "id": "8e572ee7cbf5c177",
   "outputs": [
    {
     "data": {
      "text/plain": [
       "['data/retail_db\\\\categories\\\\',\n",
       " 'data/retail_db\\\\categories\\\\part-00000',\n",
       " 'data/retail_db\\\\customers\\\\',\n",
       " 'data/retail_db\\\\customers\\\\part-00000',\n",
       " 'data/retail_db\\\\departments\\\\',\n",
       " 'data/retail_db\\\\departments\\\\part-00000',\n",
       " 'data/retail_db\\\\orders\\\\',\n",
       " 'data/retail_db\\\\orders\\\\part-00000',\n",
       " 'data/retail_db\\\\order_items\\\\',\n",
       " 'data/retail_db\\\\order_items\\\\part-00000',\n",
       " 'data/retail_db\\\\products\\\\',\n",
       " 'data/retail_db\\\\products\\\\part-00000']"
      ]
     },
     "execution_count": 4,
     "metadata": {},
     "output_type": "execute_result"
    }
   ],
   "execution_count": 4
  },
  {
   "metadata": {
    "ExecuteTime": {
     "end_time": "2025-02-14T19:19:55.639517Z",
     "start_time": "2025-02-14T19:19:55.634416Z"
    }
   },
   "cell_type": "code",
   "source": "glob.glob('data/retail_db/*/**')",
   "id": "e99132aaf2f038a5",
   "outputs": [
    {
     "data": {
      "text/plain": [
       "['data/retail_db\\\\categories\\\\part-00000',\n",
       " 'data/retail_db\\\\customers\\\\part-00000',\n",
       " 'data/retail_db\\\\departments\\\\part-00000',\n",
       " 'data/retail_db\\\\orders\\\\part-00000',\n",
       " 'data/retail_db\\\\order_items\\\\part-00000',\n",
       " 'data/retail_db\\\\products\\\\part-00000']"
      ]
     },
     "execution_count": 5,
     "metadata": {},
     "output_type": "execute_result"
    }
   ],
   "execution_count": 5
  },
  {
   "metadata": {
    "ExecuteTime": {
     "end_time": "2025-02-14T19:19:55.692527Z",
     "start_time": "2025-02-14T19:19:55.687530Z"
    }
   },
   "cell_type": "code",
   "source": "src_file_names = glob.glob('data/retail_db/*/part-*')",
   "id": "3f3d3f85942b4ee9",
   "outputs": [],
   "execution_count": 6
  },
  {
   "metadata": {
    "ExecuteTime": {
     "end_time": "2025-02-14T19:19:55.728299Z",
     "start_time": "2025-02-14T19:19:55.723301Z"
    }
   },
   "cell_type": "code",
   "source": "src_file_names",
   "id": "69f01ceecae09c3f",
   "outputs": [
    {
     "data": {
      "text/plain": [
       "['data/retail_db\\\\categories\\\\part-00000',\n",
       " 'data/retail_db\\\\customers\\\\part-00000',\n",
       " 'data/retail_db\\\\departments\\\\part-00000',\n",
       " 'data/retail_db\\\\orders\\\\part-00000',\n",
       " 'data/retail_db\\\\order_items\\\\part-00000',\n",
       " 'data/retail_db\\\\products\\\\part-00000']"
      ]
     },
     "execution_count": 7,
     "metadata": {},
     "output_type": "execute_result"
    }
   ],
   "execution_count": 7
  },
  {
   "metadata": {
    "ExecuteTime": {
     "end_time": "2025-02-14T19:19:56.183637Z",
     "start_time": "2025-02-14T19:19:55.774877Z"
    }
   },
   "cell_type": "code",
   "source": "import pandas as pd",
   "id": "c8869e001031a3ca",
   "outputs": [],
   "execution_count": 8
  },
  {
   "metadata": {
    "ExecuteTime": {
     "end_time": "2025-02-14T19:22:14.256704Z",
     "start_time": "2025-02-14T19:22:14.149987Z"
    }
   },
   "cell_type": "code",
   "source": [
    "for file_name in src_file_names:\n",
    "    df = pd.read_csv(file_name, header=None)\n",
    "    print(f'Shape of {file_name} is {df.shape}')"
   ],
   "id": "1efe06c2f962b436",
   "outputs": [
    {
     "name": "stdout",
     "output_type": "stream",
     "text": [
      "Shape of data/retail_db\\categories\\part-00000 is (58, 3)\n",
      "Shape of data/retail_db\\customers\\part-00000 is (12435, 9)\n",
      "Shape of data/retail_db\\departments\\part-00000 is (6, 2)\n",
      "Shape of data/retail_db\\orders\\part-00000 is (68883, 4)\n",
      "Shape of data/retail_db\\order_items\\part-00000 is (172198, 6)\n",
      "Shape of data/retail_db\\products\\part-00000 is (1345, 6)\n"
     ]
    }
   ],
   "execution_count": 11
  },
  {
   "metadata": {},
   "cell_type": "markdown",
   "source": "# 146. Get Column Names using Schemas File",
   "id": "b9267fd57ac38d15"
  },
  {
   "metadata": {
    "ExecuteTime": {
     "end_time": "2025-02-14T19:24:32.052008Z",
     "start_time": "2025-02-14T19:24:32.049744Z"
    }
   },
   "cell_type": "code",
   "source": "import json",
   "id": "33619052a63ab866",
   "outputs": [],
   "execution_count": 14
  },
  {
   "metadata": {
    "ExecuteTime": {
     "end_time": "2025-02-14T19:24:32.612767Z",
     "start_time": "2025-02-14T19:24:32.609100Z"
    }
   },
   "cell_type": "code",
   "source": [
    "def get_column_names(schemas, df_name, sorting_key='column_position'):\n",
    "    column_details = schemas[df_name]\n",
    "    columns = sorted(column_details, key=lambda col: col[sorting_key])\n",
    "    return [col['column_name'] for col in columns]"
   ],
   "id": "1c12d893c7b87fa6",
   "outputs": [],
   "execution_count": 15
  },
  {
   "metadata": {
    "ExecuteTime": {
     "end_time": "2025-02-14T19:24:33.220207Z",
     "start_time": "2025-02-14T19:24:33.217208Z"
    }
   },
   "cell_type": "code",
   "source": "schemas = json.load(open('data/retail_db/schemas.json'))",
   "id": "c4e1d6a792baa115",
   "outputs": [],
   "execution_count": 16
  },
  {
   "metadata": {
    "ExecuteTime": {
     "end_time": "2025-02-14T19:24:41.448548Z",
     "start_time": "2025-02-14T19:24:41.444808Z"
    }
   },
   "cell_type": "code",
   "source": "order_columns = get_column_names(schemas, 'orders')",
   "id": "cb992f62596312b0",
   "outputs": [],
   "execution_count": 17
  },
  {
   "metadata": {
    "ExecuteTime": {
     "end_time": "2025-02-14T19:24:44.460476Z",
     "start_time": "2025-02-14T19:24:44.455969Z"
    }
   },
   "cell_type": "code",
   "source": "order_columns",
   "id": "7dd9c5fc0594b8b0",
   "outputs": [
    {
     "data": {
      "text/plain": [
       "['order_id', 'order_date', 'order_customer_id', 'order_status']"
      ]
     },
     "execution_count": 18,
     "metadata": {},
     "output_type": "execute_result"
    }
   ],
   "execution_count": 18
  },
  {
   "metadata": {
    "ExecuteTime": {
     "end_time": "2025-02-14T19:26:04.154069Z",
     "start_time": "2025-02-14T19:26:04.150151Z"
    }
   },
   "cell_type": "code",
   "source": "import pandas as pd",
   "id": "e4d4a4a66fd25502",
   "outputs": [],
   "execution_count": 19
  },
  {
   "metadata": {
    "ExecuteTime": {
     "end_time": "2025-02-14T19:26:49.562331Z",
     "start_time": "2025-02-14T19:26:49.531586Z"
    }
   },
   "cell_type": "code",
   "source": "orders = pd.read_csv('data/retail_db/orders/part-00000', names=order_columns)",
   "id": "d7fa25f7d24c99e5",
   "outputs": [],
   "execution_count": 20
  },
  {
   "metadata": {
    "ExecuteTime": {
     "end_time": "2025-02-14T19:26:52.063056Z",
     "start_time": "2025-02-14T19:26:52.053415Z"
    }
   },
   "cell_type": "code",
   "source": "orders",
   "id": "c3622ada9bb9cc36",
   "outputs": [
    {
     "data": {
      "text/plain": [
       "       order_id             order_date  order_customer_id     order_status\n",
       "0             1  2013-07-25 00:00:00.0              11599           CLOSED\n",
       "1             2  2013-07-25 00:00:00.0                256  PENDING_PAYMENT\n",
       "2             3  2013-07-25 00:00:00.0              12111         COMPLETE\n",
       "3             4  2013-07-25 00:00:00.0               8827           CLOSED\n",
       "4             5  2013-07-25 00:00:00.0              11318         COMPLETE\n",
       "...         ...                    ...                ...              ...\n",
       "68878     68879  2014-07-09 00:00:00.0                778         COMPLETE\n",
       "68879     68880  2014-07-13 00:00:00.0               1117         COMPLETE\n",
       "68880     68881  2014-07-19 00:00:00.0               2518  PENDING_PAYMENT\n",
       "68881     68882  2014-07-22 00:00:00.0              10000          ON_HOLD\n",
       "68882     68883  2014-07-23 00:00:00.0               5533         COMPLETE\n",
       "\n",
       "[68883 rows x 4 columns]"
      ],
      "text/html": [
       "<div>\n",
       "<style scoped>\n",
       "    .dataframe tbody tr th:only-of-type {\n",
       "        vertical-align: middle;\n",
       "    }\n",
       "\n",
       "    .dataframe tbody tr th {\n",
       "        vertical-align: top;\n",
       "    }\n",
       "\n",
       "    .dataframe thead th {\n",
       "        text-align: right;\n",
       "    }\n",
       "</style>\n",
       "<table border=\"1\" class=\"dataframe\">\n",
       "  <thead>\n",
       "    <tr style=\"text-align: right;\">\n",
       "      <th></th>\n",
       "      <th>order_id</th>\n",
       "      <th>order_date</th>\n",
       "      <th>order_customer_id</th>\n",
       "      <th>order_status</th>\n",
       "    </tr>\n",
       "  </thead>\n",
       "  <tbody>\n",
       "    <tr>\n",
       "      <th>0</th>\n",
       "      <td>1</td>\n",
       "      <td>2013-07-25 00:00:00.0</td>\n",
       "      <td>11599</td>\n",
       "      <td>CLOSED</td>\n",
       "    </tr>\n",
       "    <tr>\n",
       "      <th>1</th>\n",
       "      <td>2</td>\n",
       "      <td>2013-07-25 00:00:00.0</td>\n",
       "      <td>256</td>\n",
       "      <td>PENDING_PAYMENT</td>\n",
       "    </tr>\n",
       "    <tr>\n",
       "      <th>2</th>\n",
       "      <td>3</td>\n",
       "      <td>2013-07-25 00:00:00.0</td>\n",
       "      <td>12111</td>\n",
       "      <td>COMPLETE</td>\n",
       "    </tr>\n",
       "    <tr>\n",
       "      <th>3</th>\n",
       "      <td>4</td>\n",
       "      <td>2013-07-25 00:00:00.0</td>\n",
       "      <td>8827</td>\n",
       "      <td>CLOSED</td>\n",
       "    </tr>\n",
       "    <tr>\n",
       "      <th>4</th>\n",
       "      <td>5</td>\n",
       "      <td>2013-07-25 00:00:00.0</td>\n",
       "      <td>11318</td>\n",
       "      <td>COMPLETE</td>\n",
       "    </tr>\n",
       "    <tr>\n",
       "      <th>...</th>\n",
       "      <td>...</td>\n",
       "      <td>...</td>\n",
       "      <td>...</td>\n",
       "      <td>...</td>\n",
       "    </tr>\n",
       "    <tr>\n",
       "      <th>68878</th>\n",
       "      <td>68879</td>\n",
       "      <td>2014-07-09 00:00:00.0</td>\n",
       "      <td>778</td>\n",
       "      <td>COMPLETE</td>\n",
       "    </tr>\n",
       "    <tr>\n",
       "      <th>68879</th>\n",
       "      <td>68880</td>\n",
       "      <td>2014-07-13 00:00:00.0</td>\n",
       "      <td>1117</td>\n",
       "      <td>COMPLETE</td>\n",
       "    </tr>\n",
       "    <tr>\n",
       "      <th>68880</th>\n",
       "      <td>68881</td>\n",
       "      <td>2014-07-19 00:00:00.0</td>\n",
       "      <td>2518</td>\n",
       "      <td>PENDING_PAYMENT</td>\n",
       "    </tr>\n",
       "    <tr>\n",
       "      <th>68881</th>\n",
       "      <td>68882</td>\n",
       "      <td>2014-07-22 00:00:00.0</td>\n",
       "      <td>10000</td>\n",
       "      <td>ON_HOLD</td>\n",
       "    </tr>\n",
       "    <tr>\n",
       "      <th>68882</th>\n",
       "      <td>68883</td>\n",
       "      <td>2014-07-23 00:00:00.0</td>\n",
       "      <td>5533</td>\n",
       "      <td>COMPLETE</td>\n",
       "    </tr>\n",
       "  </tbody>\n",
       "</table>\n",
       "<p>68883 rows × 4 columns</p>\n",
       "</div>"
      ]
     },
     "execution_count": 21,
     "metadata": {},
     "output_type": "execute_result"
    }
   ],
   "execution_count": 21
  },
  {
   "metadata": {},
   "cell_type": "markdown",
   "source": "# 147. Get Data Set Names from File Names or Paths using regular expressions",
   "id": "207ba50297d14b64"
  },
  {
   "metadata": {
    "ExecuteTime": {
     "end_time": "2025-02-14T19:27:55.282500Z",
     "start_time": "2025-02-14T19:27:55.279500Z"
    }
   },
   "cell_type": "code",
   "source": "schemas = json.load(open('data/retail_db/schemas.json'))",
   "id": "2ce063728c860517",
   "outputs": [],
   "execution_count": 22
  },
  {
   "metadata": {
    "ExecuteTime": {
     "end_time": "2025-02-14T19:27:58.565044Z",
     "start_time": "2025-02-14T19:27:58.561537Z"
    }
   },
   "cell_type": "code",
   "source": "import glob",
   "id": "aa15d2a9ea22f9ee",
   "outputs": [],
   "execution_count": 23
  },
  {
   "metadata": {
    "ExecuteTime": {
     "end_time": "2025-02-14T19:28:18.134108Z",
     "start_time": "2025-02-14T19:28:18.130702Z"
    }
   },
   "cell_type": "code",
   "source": "src_file_names = glob.glob('data/retail_db/*/part*')",
   "id": "666e7566e6337b5a",
   "outputs": [],
   "execution_count": 24
  },
  {
   "metadata": {
    "ExecuteTime": {
     "end_time": "2025-02-14T19:28:24.901639Z",
     "start_time": "2025-02-14T19:28:24.896436Z"
    }
   },
   "cell_type": "code",
   "source": "src_file_names",
   "id": "1a86a5a0af798b20",
   "outputs": [
    {
     "data": {
      "text/plain": [
       "['data/retail_db\\\\categories\\\\part-00000',\n",
       " 'data/retail_db\\\\customers\\\\part-00000',\n",
       " 'data/retail_db\\\\departments\\\\part-00000',\n",
       " 'data/retail_db\\\\orders\\\\part-00000',\n",
       " 'data/retail_db\\\\order_items\\\\part-00000',\n",
       " 'data/retail_db\\\\products\\\\part-00000']"
      ]
     },
     "execution_count": 25,
     "metadata": {},
     "output_type": "execute_result"
    }
   ],
   "execution_count": 25
  },
  {
   "metadata": {
    "ExecuteTime": {
     "end_time": "2025-02-14T19:28:30.912290Z",
     "start_time": "2025-02-14T19:28:30.909711Z"
    }
   },
   "cell_type": "code",
   "source": "import pandas as pd",
   "id": "7db307b867a3869e",
   "outputs": [],
   "execution_count": 26
  },
  {
   "metadata": {
    "ExecuteTime": {
     "end_time": "2025-02-14T19:29:32.551267Z",
     "start_time": "2025-02-14T19:29:32.547155Z"
    }
   },
   "cell_type": "code",
   "source": "import re",
   "id": "29b76dcaaabe35fc",
   "outputs": [],
   "execution_count": 27
  },
  {
   "metadata": {
    "ExecuteTime": {
     "end_time": "2025-02-14T19:33:08.127756Z",
     "start_time": "2025-02-14T19:33:08.124468Z"
    }
   },
   "cell_type": "code",
   "source": [
    "for file in src_file_names:\n",
    "    print(re.split(r'[/\\\\\\\\]', file))"
   ],
   "id": "f520d6b1995fd0b3",
   "outputs": [
    {
     "name": "stdout",
     "output_type": "stream",
     "text": [
      "['data', 'retail_db', 'categories', 'part-00000']\n",
      "['data', 'retail_db', 'customers', 'part-00000']\n",
      "['data', 'retail_db', 'departments', 'part-00000']\n",
      "['data', 'retail_db', 'orders', 'part-00000']\n",
      "['data', 'retail_db', 'order_items', 'part-00000']\n",
      "['data', 'retail_db', 'products', 'part-00000']\n"
     ]
    }
   ],
   "execution_count": 32
  },
  {
   "metadata": {},
   "cell_type": "markdown",
   "source": "# 148. Read CSV Data into Pandas Dataframe with Schema Dynamically",
   "id": "1b7cc3158224de8e"
  },
  {
   "metadata": {},
   "cell_type": "markdown",
   "source": "# 149. Generate File Paths for Target JSON Files Dynamically",
   "id": "69a07a229c62ae38"
  },
  {
   "metadata": {
    "ExecuteTime": {
     "end_time": "2025-02-14T19:46:04.195194Z",
     "start_time": "2025-02-14T19:46:04.192195Z"
    }
   },
   "cell_type": "code",
   "source": "import re",
   "id": "78c9b0b57f4f0b9b",
   "outputs": [],
   "execution_count": 33
  },
  {
   "metadata": {
    "ExecuteTime": {
     "end_time": "2025-02-14T19:46:27.616082Z",
     "start_time": "2025-02-14T19:46:27.612490Z"
    }
   },
   "cell_type": "code",
   "source": [
    "for file in src_file_names:\n",
    "    file_path_list = re.split(r'[/\\\\\\\\]', file)\n",
    "    print(file_path_list)"
   ],
   "id": "2b7ab3a732cc29a4",
   "outputs": [
    {
     "name": "stdout",
     "output_type": "stream",
     "text": [
      "['data', 'retail_db', 'categories', 'part-00000']\n",
      "['data', 'retail_db', 'customers', 'part-00000']\n",
      "['data', 'retail_db', 'departments', 'part-00000']\n",
      "['data', 'retail_db', 'orders', 'part-00000']\n",
      "['data', 'retail_db', 'order_items', 'part-00000']\n",
      "['data', 'retail_db', 'products', 'part-00000']\n"
     ]
    }
   ],
   "execution_count": 34
  },
  {
   "metadata": {
    "ExecuteTime": {
     "end_time": "2025-02-14T19:49:34.887610Z",
     "start_time": "2025-02-14T19:49:34.884034Z"
    }
   },
   "cell_type": "code",
   "source": "tgt_base_dir = 'data/retail_db_json/'",
   "id": "75332e619e40c344",
   "outputs": [],
   "execution_count": 44
  },
  {
   "metadata": {
    "ExecuteTime": {
     "end_time": "2025-02-14T19:47:39.105054Z",
     "start_time": "2025-02-14T19:47:39.101684Z"
    }
   },
   "cell_type": "code",
   "source": "file = src_file_names[0]",
   "id": "4f433b7f75a7654",
   "outputs": [],
   "execution_count": 36
  },
  {
   "metadata": {
    "ExecuteTime": {
     "end_time": "2025-02-14T19:48:10.520648Z",
     "start_time": "2025-02-14T19:48:10.517194Z"
    }
   },
   "cell_type": "code",
   "source": "file_list = re.split(r'[/\\\\\\\\]', file)",
   "id": "7ddbc382f913b364",
   "outputs": [],
   "execution_count": 38
  },
  {
   "metadata": {
    "ExecuteTime": {
     "end_time": "2025-02-14T19:48:43.321628Z",
     "start_time": "2025-02-14T19:48:43.318602Z"
    }
   },
   "cell_type": "code",
   "source": "file_name = file_list[-1]",
   "id": "6d378fe8ac1e5136",
   "outputs": [],
   "execution_count": 41
  },
  {
   "metadata": {
    "ExecuteTime": {
     "end_time": "2025-02-14T19:48:50.874904Z",
     "start_time": "2025-02-14T19:48:50.871394Z"
    }
   },
   "cell_type": "code",
   "source": "ds_name = file_list[-2]",
   "id": "222b84b986d71504",
   "outputs": [],
   "execution_count": 42
  },
  {
   "metadata": {
    "ExecuteTime": {
     "end_time": "2025-02-14T19:49:37.850905Z",
     "start_time": "2025-02-14T19:49:37.846904Z"
    }
   },
   "cell_type": "code",
   "source": "f'{tgt_base_dir}/{ds_name}/{file_name}'",
   "id": "f672ade74d1e857f",
   "outputs": [
    {
     "data": {
      "text/plain": [
       "'data/retail_db_json//categories/part-00000'"
      ]
     },
     "execution_count": 45,
     "metadata": {},
     "output_type": "execute_result"
    }
   ],
   "execution_count": 45
  },
  {
   "metadata": {},
   "cell_type": "markdown",
   "source": "# 150. Recap of Writing Pandas Dataframe to JSON File",
   "id": "dfbeb5e91640bbcf"
  },
  {
   "metadata": {
    "ExecuteTime": {
     "end_time": "2025-02-14T19:50:27.304340Z",
     "start_time": "2025-02-14T19:50:27.301320Z"
    }
   },
   "cell_type": "code",
   "source": "import pandas as pd",
   "id": "f0e845f776dc84ef",
   "outputs": [],
   "execution_count": 46
  },
  {
   "metadata": {
    "ExecuteTime": {
     "end_time": "2025-02-14T19:50:55.006419Z",
     "start_time": "2025-02-14T19:50:55.003593Z"
    }
   },
   "cell_type": "code",
   "source": [
    "columns = [\n",
    "    'order_id', 'order_date',\n",
    "    'order_customer_id', 'order_status',\n",
    "]"
   ],
   "id": "680f1f9ef0d858dc",
   "outputs": [],
   "execution_count": 47
  },
  {
   "metadata": {
    "ExecuteTime": {
     "end_time": "2025-02-14T19:51:40.669832Z",
     "start_time": "2025-02-14T19:51:40.638660Z"
    }
   },
   "cell_type": "code",
   "source": [
    "df = pd.read_csv(\n",
    "    'data/retail_db/orders/part-00000',\n",
    "    names=columns\n",
    ")"
   ],
   "id": "14823647836714b0",
   "outputs": [],
   "execution_count": 48
  },
  {
   "metadata": {
    "ExecuteTime": {
     "end_time": "2025-02-14T19:51:42.169012Z",
     "start_time": "2025-02-14T19:51:42.162482Z"
    }
   },
   "cell_type": "code",
   "source": "df",
   "id": "af038c2a99990ddb",
   "outputs": [
    {
     "data": {
      "text/plain": [
       "       order_id             order_date  order_customer_id     order_status\n",
       "0             1  2013-07-25 00:00:00.0              11599           CLOSED\n",
       "1             2  2013-07-25 00:00:00.0                256  PENDING_PAYMENT\n",
       "2             3  2013-07-25 00:00:00.0              12111         COMPLETE\n",
       "3             4  2013-07-25 00:00:00.0               8827           CLOSED\n",
       "4             5  2013-07-25 00:00:00.0              11318         COMPLETE\n",
       "...         ...                    ...                ...              ...\n",
       "68878     68879  2014-07-09 00:00:00.0                778         COMPLETE\n",
       "68879     68880  2014-07-13 00:00:00.0               1117         COMPLETE\n",
       "68880     68881  2014-07-19 00:00:00.0               2518  PENDING_PAYMENT\n",
       "68881     68882  2014-07-22 00:00:00.0              10000          ON_HOLD\n",
       "68882     68883  2014-07-23 00:00:00.0               5533         COMPLETE\n",
       "\n",
       "[68883 rows x 4 columns]"
      ],
      "text/html": [
       "<div>\n",
       "<style scoped>\n",
       "    .dataframe tbody tr th:only-of-type {\n",
       "        vertical-align: middle;\n",
       "    }\n",
       "\n",
       "    .dataframe tbody tr th {\n",
       "        vertical-align: top;\n",
       "    }\n",
       "\n",
       "    .dataframe thead th {\n",
       "        text-align: right;\n",
       "    }\n",
       "</style>\n",
       "<table border=\"1\" class=\"dataframe\">\n",
       "  <thead>\n",
       "    <tr style=\"text-align: right;\">\n",
       "      <th></th>\n",
       "      <th>order_id</th>\n",
       "      <th>order_date</th>\n",
       "      <th>order_customer_id</th>\n",
       "      <th>order_status</th>\n",
       "    </tr>\n",
       "  </thead>\n",
       "  <tbody>\n",
       "    <tr>\n",
       "      <th>0</th>\n",
       "      <td>1</td>\n",
       "      <td>2013-07-25 00:00:00.0</td>\n",
       "      <td>11599</td>\n",
       "      <td>CLOSED</td>\n",
       "    </tr>\n",
       "    <tr>\n",
       "      <th>1</th>\n",
       "      <td>2</td>\n",
       "      <td>2013-07-25 00:00:00.0</td>\n",
       "      <td>256</td>\n",
       "      <td>PENDING_PAYMENT</td>\n",
       "    </tr>\n",
       "    <tr>\n",
       "      <th>2</th>\n",
       "      <td>3</td>\n",
       "      <td>2013-07-25 00:00:00.0</td>\n",
       "      <td>12111</td>\n",
       "      <td>COMPLETE</td>\n",
       "    </tr>\n",
       "    <tr>\n",
       "      <th>3</th>\n",
       "      <td>4</td>\n",
       "      <td>2013-07-25 00:00:00.0</td>\n",
       "      <td>8827</td>\n",
       "      <td>CLOSED</td>\n",
       "    </tr>\n",
       "    <tr>\n",
       "      <th>4</th>\n",
       "      <td>5</td>\n",
       "      <td>2013-07-25 00:00:00.0</td>\n",
       "      <td>11318</td>\n",
       "      <td>COMPLETE</td>\n",
       "    </tr>\n",
       "    <tr>\n",
       "      <th>...</th>\n",
       "      <td>...</td>\n",
       "      <td>...</td>\n",
       "      <td>...</td>\n",
       "      <td>...</td>\n",
       "    </tr>\n",
       "    <tr>\n",
       "      <th>68878</th>\n",
       "      <td>68879</td>\n",
       "      <td>2014-07-09 00:00:00.0</td>\n",
       "      <td>778</td>\n",
       "      <td>COMPLETE</td>\n",
       "    </tr>\n",
       "    <tr>\n",
       "      <th>68879</th>\n",
       "      <td>68880</td>\n",
       "      <td>2014-07-13 00:00:00.0</td>\n",
       "      <td>1117</td>\n",
       "      <td>COMPLETE</td>\n",
       "    </tr>\n",
       "    <tr>\n",
       "      <th>68880</th>\n",
       "      <td>68881</td>\n",
       "      <td>2014-07-19 00:00:00.0</td>\n",
       "      <td>2518</td>\n",
       "      <td>PENDING_PAYMENT</td>\n",
       "    </tr>\n",
       "    <tr>\n",
       "      <th>68881</th>\n",
       "      <td>68882</td>\n",
       "      <td>2014-07-22 00:00:00.0</td>\n",
       "      <td>10000</td>\n",
       "      <td>ON_HOLD</td>\n",
       "    </tr>\n",
       "    <tr>\n",
       "      <th>68882</th>\n",
       "      <td>68883</td>\n",
       "      <td>2014-07-23 00:00:00.0</td>\n",
       "      <td>5533</td>\n",
       "      <td>COMPLETE</td>\n",
       "    </tr>\n",
       "  </tbody>\n",
       "</table>\n",
       "<p>68883 rows × 4 columns</p>\n",
       "</div>"
      ]
     },
     "execution_count": 49,
     "metadata": {},
     "output_type": "execute_result"
    }
   ],
   "execution_count": 49
  },
  {
   "metadata": {
    "ExecuteTime": {
     "end_time": "2025-02-14T19:52:08.583762Z",
     "start_time": "2025-02-14T19:52:08.579251Z"
    }
   },
   "cell_type": "code",
   "source": [
    "import os\n",
    "os.makedirs('data/retail_db_json/orders', exist_ok=True)"
   ],
   "id": "720a2d6352a65ed0",
   "outputs": [],
   "execution_count": 50
  },
  {
   "metadata": {
    "ExecuteTime": {
     "end_time": "2025-02-14T19:52:40.282917Z",
     "start_time": "2025-02-14T19:52:39.692197Z"
    }
   },
   "cell_type": "code",
   "source": [
    "df.to_json(\n",
    "    'data/retail_db_json/orders/part-00000',\n",
    "    orient='records',\n",
    "    lines=True\n",
    ")"
   ],
   "id": "51d0814f710e4e1a",
   "outputs": [],
   "execution_count": 51
  },
  {
   "metadata": {},
   "cell_type": "markdown",
   "source": "# 151. Write Pandas Dataframe to JSON Files",
   "id": "f112153c0c35ee71"
  },
  {
   "metadata": {},
   "cell_type": "markdown",
   "source": "# 152. Modularize File Format Converter for Dataset",
   "id": "81b272f9aa00a3ea"
  },
  {
   "metadata": {},
   "cell_type": "markdown",
   "source": "# 153. Wrapper to Process all Data Sets",
   "id": "e970b3f236bc616"
  },
  {
   "metadata": {},
   "cell_type": "markdown",
   "source": "# 154. Setup Project for File Format Converter using Python",
   "id": "248250b3b01aca4b"
  },
  {
   "metadata": {},
   "cell_type": "markdown",
   "source": "# 155. Install Dependencies for the Python Project using pip",
   "id": "e625ce24083a6394"
  },
  {
   "metadata": {},
   "cell_type": "markdown",
   "source": "# 156. Add Core Logic to Python Application",
   "id": "1fc91adf151749da"
  },
  {
   "metadata": {},
   "cell_type": "markdown",
   "source": "# 157. Overview of Run-time Arguments and Environment Variables",
   "id": "e72f0e247a92ad58"
  },
  {
   "metadata": {},
   "cell_type": "markdown",
   "source": "# 158. Using Run Time Arguments in Python Applications",
   "id": "f33476de8626ac1f"
  },
  {
   "metadata": {},
   "cell_type": "markdown",
   "source": "# 159. Overview of Environment Variables",
   "id": "bb0e3ea65a967688"
  },
  {
   "metadata": {},
   "cell_type": "markdown",
   "source": "# 160. Setting Environment Variables on Windows or Mac or Linux",
   "id": "fb481aa8415a325d"
  },
  {
   "metadata": {},
   "cell_type": "code",
   "outputs": [],
   "execution_count": null,
   "source": "",
   "id": "3d4c78a37a9cd05e"
  }
 ],
 "metadata": {
  "kernelspec": {
   "display_name": "Python 3",
   "language": "python",
   "name": "python3"
  },
  "language_info": {
   "codemirror_mode": {
    "name": "ipython",
    "version": 2
   },
   "file_extension": ".py",
   "mimetype": "text/x-python",
   "name": "python",
   "nbconvert_exporter": "python",
   "pygments_lexer": "ipython2",
   "version": "2.7.6"
  }
 },
 "nbformat": 4,
 "nbformat_minor": 5
}
